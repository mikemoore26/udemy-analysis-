{
 "cells": [
  {
   "cell_type": "markdown",
   "id": "0e5af07c",
   "metadata": {},
   "source": [
    "# Udemy Data Analysis"
   ]
  },
  {
   "cell_type": "markdown",
   "id": "73ab0b71",
   "metadata": {},
   "source": [
    "1. Import required libraries\n",
    "\n",
    "2. Read the data file\n",
    "\n",
    "3. Check data types of each column\n",
    "\n",
    "4. You will find published_timestamp column of object data type, we need to\n",
    "convert this into date time datatype (it should be converted for the whole\n",
    "dataset , try to convert while reading the csv file)\n",
    "\n",
    "5. Check data types again\n",
    "\n",
    "6. Display top 10 rows of the dataset\n",
    "\n",
    "7. Check last 5 rows of the dataset\n",
    "\n",
    "8. Find shape of our dataset (number of rows and number of columns)"
   ]
  },
  {
   "cell_type": "code",
   "execution_count": 280,
   "id": "8c8e9248",
   "metadata": {},
   "outputs": [],
   "source": [
    "import pandas as pd \n",
    "import numpy as np\n",
    "import matplotlib.pyplot as plt\n",
    "import seaborn as sns \n",
    "import os"
   ]
  },
  {
   "cell_type": "code",
   "execution_count": 2,
   "id": "c2947dbf",
   "metadata": {},
   "outputs": [],
   "source": [
    "data = pd.read_csv('UdemyCourses.csv')\n"
   ]
  },
  {
   "cell_type": "code",
   "execution_count": 3,
   "id": "1070db88",
   "metadata": {},
   "outputs": [
    {
     "name": "stdout",
     "output_type": "stream",
     "text": [
      "<class 'pandas.core.frame.DataFrame'>\n",
      "RangeIndex: 3682 entries, 0 to 3681\n",
      "Data columns (total 11 columns):\n",
      " #   Column               Non-Null Count  Dtype \n",
      "---  ------               --------------  ----- \n",
      " 0   course_id            3682 non-null   int64 \n",
      " 1   course_title         3682 non-null   object\n",
      " 2   is_paid              3682 non-null   bool  \n",
      " 3   price                3682 non-null   object\n",
      " 4   num_subscribers      3682 non-null   int64 \n",
      " 5   num_reviews          3682 non-null   int64 \n",
      " 6   num_lectures         3682 non-null   int64 \n",
      " 7   level                3682 non-null   object\n",
      " 8   content_duration     3682 non-null   object\n",
      " 9   published_timestamp  3682 non-null   object\n",
      " 10  subject              3682 non-null   object\n",
      "dtypes: bool(1), int64(4), object(6)\n",
      "memory usage: 291.4+ KB\n"
     ]
    }
   ],
   "source": [
    "data.info()"
   ]
  },
  {
   "cell_type": "code",
   "execution_count": 4,
   "id": "9d6aaa2b",
   "metadata": {},
   "outputs": [],
   "source": [
    "data = pd.read_csv('UdemyCourses.csv',parse_dates=['published_timestamp'])\n"
   ]
  },
  {
   "cell_type": "code",
   "execution_count": 5,
   "id": "9ab6b42c",
   "metadata": {},
   "outputs": [
    {
     "name": "stdout",
     "output_type": "stream",
     "text": [
      "<class 'pandas.core.frame.DataFrame'>\n",
      "RangeIndex: 3682 entries, 0 to 3681\n",
      "Data columns (total 11 columns):\n",
      " #   Column               Non-Null Count  Dtype              \n",
      "---  ------               --------------  -----              \n",
      " 0   course_id            3682 non-null   int64              \n",
      " 1   course_title         3682 non-null   object             \n",
      " 2   is_paid              3682 non-null   bool               \n",
      " 3   price                3682 non-null   object             \n",
      " 4   num_subscribers      3682 non-null   int64              \n",
      " 5   num_reviews          3682 non-null   int64              \n",
      " 6   num_lectures         3682 non-null   int64              \n",
      " 7   level                3682 non-null   object             \n",
      " 8   content_duration     3682 non-null   object             \n",
      " 9   published_timestamp  3682 non-null   datetime64[ns, UTC]\n",
      " 10  subject              3682 non-null   object             \n",
      "dtypes: bool(1), datetime64[ns, UTC](1), int64(4), object(5)\n",
      "memory usage: 291.4+ KB\n"
     ]
    }
   ],
   "source": [
    "data.info()"
   ]
  },
  {
   "cell_type": "code",
   "execution_count": 6,
   "id": "f35917c0",
   "metadata": {},
   "outputs": [
    {
     "data": {
      "text/html": [
       "<div>\n",
       "<style scoped>\n",
       "    .dataframe tbody tr th:only-of-type {\n",
       "        vertical-align: middle;\n",
       "    }\n",
       "\n",
       "    .dataframe tbody tr th {\n",
       "        vertical-align: top;\n",
       "    }\n",
       "\n",
       "    .dataframe thead th {\n",
       "        text-align: right;\n",
       "    }\n",
       "</style>\n",
       "<table border=\"1\" class=\"dataframe\">\n",
       "  <thead>\n",
       "    <tr style=\"text-align: right;\">\n",
       "      <th></th>\n",
       "      <th>course_id</th>\n",
       "      <th>course_title</th>\n",
       "      <th>is_paid</th>\n",
       "      <th>price</th>\n",
       "      <th>num_subscribers</th>\n",
       "      <th>num_reviews</th>\n",
       "      <th>num_lectures</th>\n",
       "      <th>level</th>\n",
       "      <th>content_duration</th>\n",
       "      <th>published_timestamp</th>\n",
       "      <th>subject</th>\n",
       "    </tr>\n",
       "  </thead>\n",
       "  <tbody>\n",
       "    <tr>\n",
       "      <th>0</th>\n",
       "      <td>288942</td>\n",
       "      <td>#1 Piano Hand Coordination: Play 10th Ballad i...</td>\n",
       "      <td>True</td>\n",
       "      <td>35</td>\n",
       "      <td>3137</td>\n",
       "      <td>18</td>\n",
       "      <td>68</td>\n",
       "      <td>All Levels</td>\n",
       "      <td>1.5 hours</td>\n",
       "      <td>2014-09-18 05:07:05+00:00</td>\n",
       "      <td>Musical Instruments</td>\n",
       "    </tr>\n",
       "    <tr>\n",
       "      <th>1</th>\n",
       "      <td>1170074</td>\n",
       "      <td>#10 Hand Coordination - Transfer Chord Ballad ...</td>\n",
       "      <td>True</td>\n",
       "      <td>75</td>\n",
       "      <td>1593</td>\n",
       "      <td>1</td>\n",
       "      <td>41</td>\n",
       "      <td>Intermediate Level</td>\n",
       "      <td>1 hour</td>\n",
       "      <td>2017-04-12 19:06:34+00:00</td>\n",
       "      <td>Musical Instruments</td>\n",
       "    </tr>\n",
       "    <tr>\n",
       "      <th>2</th>\n",
       "      <td>1193886</td>\n",
       "      <td>#12 Hand Coordination: Let your Hands dance wi...</td>\n",
       "      <td>True</td>\n",
       "      <td>75</td>\n",
       "      <td>482</td>\n",
       "      <td>1</td>\n",
       "      <td>47</td>\n",
       "      <td>Intermediate Level</td>\n",
       "      <td>1.5 hours</td>\n",
       "      <td>2017-04-26 18:34:57+00:00</td>\n",
       "      <td>Musical Instruments</td>\n",
       "    </tr>\n",
       "    <tr>\n",
       "      <th>3</th>\n",
       "      <td>1116700</td>\n",
       "      <td>#4 Piano Hand Coordination: Fun Piano Runs in ...</td>\n",
       "      <td>True</td>\n",
       "      <td>75</td>\n",
       "      <td>850</td>\n",
       "      <td>3</td>\n",
       "      <td>43</td>\n",
       "      <td>Intermediate Level</td>\n",
       "      <td>1 hour</td>\n",
       "      <td>2017-02-21 23:48:18+00:00</td>\n",
       "      <td>Musical Instruments</td>\n",
       "    </tr>\n",
       "    <tr>\n",
       "      <th>4</th>\n",
       "      <td>1120410</td>\n",
       "      <td>#5  Piano Hand Coordination:  Piano Runs in 2 ...</td>\n",
       "      <td>True</td>\n",
       "      <td>75</td>\n",
       "      <td>940</td>\n",
       "      <td>3</td>\n",
       "      <td>32</td>\n",
       "      <td>Intermediate Level</td>\n",
       "      <td>37 mins</td>\n",
       "      <td>2017-02-21 23:44:49+00:00</td>\n",
       "      <td>Musical Instruments</td>\n",
       "    </tr>\n",
       "    <tr>\n",
       "      <th>5</th>\n",
       "      <td>1122832</td>\n",
       "      <td>#6 Piano Hand Coordination: Play Open 10 Balla...</td>\n",
       "      <td>True</td>\n",
       "      <td>65</td>\n",
       "      <td>2015</td>\n",
       "      <td>3</td>\n",
       "      <td>21</td>\n",
       "      <td>Intermediate Level</td>\n",
       "      <td>44 mins</td>\n",
       "      <td>2017-03-08 17:53:36+00:00</td>\n",
       "      <td>Musical Instruments</td>\n",
       "    </tr>\n",
       "    <tr>\n",
       "      <th>6</th>\n",
       "      <td>1123184</td>\n",
       "      <td>#7 Piano Hand Coordination: Play Piano Runs in...</td>\n",
       "      <td>True</td>\n",
       "      <td>65</td>\n",
       "      <td>2015</td>\n",
       "      <td>2</td>\n",
       "      <td>25</td>\n",
       "      <td>Intermediate Level</td>\n",
       "      <td>1 hour</td>\n",
       "      <td>2017-03-08 18:09:32+00:00</td>\n",
       "      <td>Musical Instruments</td>\n",
       "    </tr>\n",
       "    <tr>\n",
       "      <th>7</th>\n",
       "      <td>768028</td>\n",
       "      <td>* An Integrated Approach to the Fundamentals o...</td>\n",
       "      <td>True</td>\n",
       "      <td>200</td>\n",
       "      <td>134</td>\n",
       "      <td>14</td>\n",
       "      <td>123</td>\n",
       "      <td>All Levels</td>\n",
       "      <td>5.5 hours</td>\n",
       "      <td>2016-03-15 17:23:07+00:00</td>\n",
       "      <td>Business Finance</td>\n",
       "    </tr>\n",
       "    <tr>\n",
       "      <th>8</th>\n",
       "      <td>206592</td>\n",
       "      <td>:::Beginners Guide To Creating Amazing Images ...</td>\n",
       "      <td>True</td>\n",
       "      <td>25</td>\n",
       "      <td>72</td>\n",
       "      <td>5</td>\n",
       "      <td>17</td>\n",
       "      <td>Beginner Level</td>\n",
       "      <td>1 hour</td>\n",
       "      <td>2014-04-29 19:50:31+00:00</td>\n",
       "      <td>Graphic Design</td>\n",
       "    </tr>\n",
       "    <tr>\n",
       "      <th>9</th>\n",
       "      <td>738910</td>\n",
       "      <td>[Value Investing] Where White People Keep Thei...</td>\n",
       "      <td>True</td>\n",
       "      <td>200</td>\n",
       "      <td>2715</td>\n",
       "      <td>70</td>\n",
       "      <td>20</td>\n",
       "      <td>Expert Level</td>\n",
       "      <td>4 hours</td>\n",
       "      <td>2016-05-25 21:04:41+00:00</td>\n",
       "      <td>Business Finance</td>\n",
       "    </tr>\n",
       "  </tbody>\n",
       "</table>\n",
       "</div>"
      ],
      "text/plain": [
       "   course_id                                       course_title  is_paid  \\\n",
       "0     288942  #1 Piano Hand Coordination: Play 10th Ballad i...     True   \n",
       "1    1170074  #10 Hand Coordination - Transfer Chord Ballad ...     True   \n",
       "2    1193886  #12 Hand Coordination: Let your Hands dance wi...     True   \n",
       "3    1116700  #4 Piano Hand Coordination: Fun Piano Runs in ...     True   \n",
       "4    1120410  #5  Piano Hand Coordination:  Piano Runs in 2 ...     True   \n",
       "5    1122832  #6 Piano Hand Coordination: Play Open 10 Balla...     True   \n",
       "6    1123184  #7 Piano Hand Coordination: Play Piano Runs in...     True   \n",
       "7     768028  * An Integrated Approach to the Fundamentals o...     True   \n",
       "8     206592  :::Beginners Guide To Creating Amazing Images ...     True   \n",
       "9     738910  [Value Investing] Where White People Keep Thei...     True   \n",
       "\n",
       "  price  num_subscribers  num_reviews  num_lectures               level  \\\n",
       "0    35             3137           18            68          All Levels   \n",
       "1    75             1593            1            41  Intermediate Level   \n",
       "2    75              482            1            47  Intermediate Level   \n",
       "3    75              850            3            43  Intermediate Level   \n",
       "4    75              940            3            32  Intermediate Level   \n",
       "5    65             2015            3            21  Intermediate Level   \n",
       "6    65             2015            2            25  Intermediate Level   \n",
       "7   200              134           14           123          All Levels   \n",
       "8    25               72            5            17      Beginner Level   \n",
       "9   200             2715           70            20        Expert Level   \n",
       "\n",
       "  content_duration       published_timestamp              subject  \n",
       "0        1.5 hours 2014-09-18 05:07:05+00:00  Musical Instruments  \n",
       "1           1 hour 2017-04-12 19:06:34+00:00  Musical Instruments  \n",
       "2        1.5 hours 2017-04-26 18:34:57+00:00  Musical Instruments  \n",
       "3           1 hour 2017-02-21 23:48:18+00:00  Musical Instruments  \n",
       "4          37 mins 2017-02-21 23:44:49+00:00  Musical Instruments  \n",
       "5          44 mins 2017-03-08 17:53:36+00:00  Musical Instruments  \n",
       "6           1 hour 2017-03-08 18:09:32+00:00  Musical Instruments  \n",
       "7        5.5 hours 2016-03-15 17:23:07+00:00     Business Finance  \n",
       "8           1 hour 2014-04-29 19:50:31+00:00       Graphic Design  \n",
       "9          4 hours 2016-05-25 21:04:41+00:00     Business Finance  "
      ]
     },
     "execution_count": 6,
     "metadata": {},
     "output_type": "execute_result"
    }
   ],
   "source": [
    "data.head(10)"
   ]
  },
  {
   "cell_type": "code",
   "execution_count": 7,
   "id": "31410a7f",
   "metadata": {},
   "outputs": [
    {
     "data": {
      "text/html": [
       "<div>\n",
       "<style scoped>\n",
       "    .dataframe tbody tr th:only-of-type {\n",
       "        vertical-align: middle;\n",
       "    }\n",
       "\n",
       "    .dataframe tbody tr th {\n",
       "        vertical-align: top;\n",
       "    }\n",
       "\n",
       "    .dataframe thead th {\n",
       "        text-align: right;\n",
       "    }\n",
       "</style>\n",
       "<table border=\"1\" class=\"dataframe\">\n",
       "  <thead>\n",
       "    <tr style=\"text-align: right;\">\n",
       "      <th></th>\n",
       "      <th>course_id</th>\n",
       "      <th>course_title</th>\n",
       "      <th>is_paid</th>\n",
       "      <th>price</th>\n",
       "      <th>num_subscribers</th>\n",
       "      <th>num_reviews</th>\n",
       "      <th>num_lectures</th>\n",
       "      <th>level</th>\n",
       "      <th>content_duration</th>\n",
       "      <th>published_timestamp</th>\n",
       "      <th>subject</th>\n",
       "    </tr>\n",
       "  </thead>\n",
       "  <tbody>\n",
       "    <tr>\n",
       "      <th>3677</th>\n",
       "      <td>328960</td>\n",
       "      <td>Your Own Site in 45 Min: The Complete Wordpres...</td>\n",
       "      <td>True</td>\n",
       "      <td>120</td>\n",
       "      <td>1566</td>\n",
       "      <td>29</td>\n",
       "      <td>36</td>\n",
       "      <td>All Levels</td>\n",
       "      <td>4 hours</td>\n",
       "      <td>2015-04-20 22:15:17+00:00</td>\n",
       "      <td>Web Development</td>\n",
       "    </tr>\n",
       "    <tr>\n",
       "      <th>3678</th>\n",
       "      <td>552700</td>\n",
       "      <td>Your Second Course on Piano: Two Handed Playing</td>\n",
       "      <td>True</td>\n",
       "      <td>70</td>\n",
       "      <td>1018</td>\n",
       "      <td>12</td>\n",
       "      <td>22</td>\n",
       "      <td>Beginner Level</td>\n",
       "      <td>5 hours</td>\n",
       "      <td>2015-10-26 20:04:21+00:00</td>\n",
       "      <td>Musical Instruments</td>\n",
       "    </tr>\n",
       "    <tr>\n",
       "      <th>3679</th>\n",
       "      <td>631754</td>\n",
       "      <td>Zend Framework 2: Learn the PHP framework ZF2 ...</td>\n",
       "      <td>True</td>\n",
       "      <td>40</td>\n",
       "      <td>723</td>\n",
       "      <td>130</td>\n",
       "      <td>37</td>\n",
       "      <td>All Levels</td>\n",
       "      <td>6.5 hours</td>\n",
       "      <td>2015-11-11 18:55:45+00:00</td>\n",
       "      <td>Web Development</td>\n",
       "    </tr>\n",
       "    <tr>\n",
       "      <th>3680</th>\n",
       "      <td>1225194</td>\n",
       "      <td>Zoho Books Gestion Financière d'Entreprise pas...</td>\n",
       "      <td>False</td>\n",
       "      <td>Free</td>\n",
       "      <td>229</td>\n",
       "      <td>0</td>\n",
       "      <td>33</td>\n",
       "      <td>All Levels</td>\n",
       "      <td>2 hours</td>\n",
       "      <td>2017-05-26 16:45:55+00:00</td>\n",
       "      <td>Business Finance</td>\n",
       "    </tr>\n",
       "    <tr>\n",
       "      <th>3681</th>\n",
       "      <td>964478</td>\n",
       "      <td>Zombie Apocalypse Photoshop Actions</td>\n",
       "      <td>True</td>\n",
       "      <td>50</td>\n",
       "      <td>12</td>\n",
       "      <td>1</td>\n",
       "      <td>15</td>\n",
       "      <td>All Levels</td>\n",
       "      <td>1.5 hours</td>\n",
       "      <td>2016-09-26 22:19:48+00:00</td>\n",
       "      <td>Graphic Design</td>\n",
       "    </tr>\n",
       "  </tbody>\n",
       "</table>\n",
       "</div>"
      ],
      "text/plain": [
       "      course_id                                       course_title  is_paid  \\\n",
       "3677     328960  Your Own Site in 45 Min: The Complete Wordpres...     True   \n",
       "3678     552700    Your Second Course on Piano: Two Handed Playing     True   \n",
       "3679     631754  Zend Framework 2: Learn the PHP framework ZF2 ...     True   \n",
       "3680    1225194  Zoho Books Gestion Financière d'Entreprise pas...    False   \n",
       "3681     964478                Zombie Apocalypse Photoshop Actions     True   \n",
       "\n",
       "     price  num_subscribers  num_reviews  num_lectures           level  \\\n",
       "3677   120             1566           29            36      All Levels   \n",
       "3678    70             1018           12            22  Beginner Level   \n",
       "3679    40              723          130            37      All Levels   \n",
       "3680  Free              229            0            33      All Levels   \n",
       "3681    50               12            1            15      All Levels   \n",
       "\n",
       "     content_duration       published_timestamp              subject  \n",
       "3677          4 hours 2015-04-20 22:15:17+00:00      Web Development  \n",
       "3678          5 hours 2015-10-26 20:04:21+00:00  Musical Instruments  \n",
       "3679        6.5 hours 2015-11-11 18:55:45+00:00      Web Development  \n",
       "3680          2 hours 2017-05-26 16:45:55+00:00     Business Finance  \n",
       "3681        1.5 hours 2016-09-26 22:19:48+00:00       Graphic Design  "
      ]
     },
     "execution_count": 7,
     "metadata": {},
     "output_type": "execute_result"
    }
   ],
   "source": [
    "data.tail()"
   ]
  },
  {
   "cell_type": "code",
   "execution_count": 8,
   "id": "fc5038cd",
   "metadata": {},
   "outputs": [
    {
     "data": {
      "text/plain": [
       "(3682, 11)"
      ]
     },
     "execution_count": 8,
     "metadata": {},
     "output_type": "execute_result"
    }
   ],
   "source": [
    "data.shape"
   ]
  },
  {
   "cell_type": "markdown",
   "id": "d53a4cfd",
   "metadata": {},
   "source": [
    "9. Getting information about our dataset like total number rows, total number of columns, datatypes of each column and memory requirement\n",
    "\n",
    "10. Check null values in the dataset\n",
    "\n",
    "    a. Try to find out if there are any missing values in the dataset\n",
    "    \n",
    "    b. Create heatmap as well\n",
    "    \n",
    "11. Check for duplicate data and drop them\n",
    "\n"
   ]
  },
  {
   "cell_type": "code",
   "execution_count": 9,
   "id": "acea3e79",
   "metadata": {},
   "outputs": [
    {
     "data": {
      "text/plain": [
       "<AxesSubplot:>"
      ]
     },
     "execution_count": 9,
     "metadata": {},
     "output_type": "execute_result"
    },
    {
     "data": {
      "image/png": "[encoded data removed]",
      "text/plain": [
       "<Figure size 432x288 with 2 Axes>"
      ]
     },
     "metadata": {
      "needs_background": "light"
     },
     "output_type": "display_data"
    }
   ],
   "source": [
    "sns.heatmap(data=data.isna())"
   ]
  },
  {
   "cell_type": "code",
   "execution_count": 10,
   "id": "6691b1f4",
   "metadata": {},
   "outputs": [
    {
     "data": {
      "text/plain": [
       "0       False\n",
       "1       False\n",
       "2       False\n",
       "3       False\n",
       "4       False\n",
       "        ...  \n",
       "3677    False\n",
       "3678    False\n",
       "3679    False\n",
       "3680    False\n",
       "3681    False\n",
       "Length: 3682, dtype: bool"
      ]
     },
     "execution_count": 10,
     "metadata": {},
     "output_type": "execute_result"
    }
   ],
   "source": [
    "data.duplicated()"
   ]
  },
  {
   "cell_type": "code",
   "execution_count": 11,
   "id": "421b899b",
   "metadata": {},
   "outputs": [
    {
     "data": {
      "text/plain": [
       "6"
      ]
     },
     "execution_count": 11,
     "metadata": {},
     "output_type": "execute_result"
    }
   ],
   "source": [
    "len(data) - len(data.drop_duplicates())"
   ]
  },
  {
   "cell_type": "code",
   "execution_count": 12,
   "id": "18006d02",
   "metadata": {},
   "outputs": [],
   "source": [
    "data = data.drop_duplicates()"
   ]
  },
  {
   "cell_type": "markdown",
   "id": "72827319",
   "metadata": {},
   "source": [
    "12. Find out number of courses per subjects\n",
    "\n",
    "    a. Elaborate your observation as well in comments\n",
    "    \n",
    "    b. You need to visualize data using barplot which is having xlabel as ‘subjects’ and ylabel as ‘number of courses per subject’\n",
    "    \n",
    "    c. Take care of not overlapping words\n",
    "    \n"
   ]
  },
  {
   "cell_type": "code",
   "execution_count": 13,
   "id": "db61e726",
   "metadata": {},
   "outputs": [
    {
     "data": {
      "text/html": [
       "<div>\n",
       "<style scoped>\n",
       "    .dataframe tbody tr th:only-of-type {\n",
       "        vertical-align: middle;\n",
       "    }\n",
       "\n",
       "    .dataframe tbody tr th {\n",
       "        vertical-align: top;\n",
       "    }\n",
       "\n",
       "    .dataframe thead th {\n",
       "        text-align: right;\n",
       "    }\n",
       "</style>\n",
       "<table border=\"1\" class=\"dataframe\">\n",
       "  <thead>\n",
       "    <tr style=\"text-align: right;\">\n",
       "      <th></th>\n",
       "      <th>course_id</th>\n",
       "      <th>course_title</th>\n",
       "      <th>is_paid</th>\n",
       "      <th>price</th>\n",
       "      <th>num_subscribers</th>\n",
       "      <th>num_reviews</th>\n",
       "      <th>num_lectures</th>\n",
       "      <th>level</th>\n",
       "      <th>content_duration</th>\n",
       "      <th>published_timestamp</th>\n",
       "      <th>subject</th>\n",
       "    </tr>\n",
       "  </thead>\n",
       "  <tbody>\n",
       "    <tr>\n",
       "      <th>0</th>\n",
       "      <td>288942</td>\n",
       "      <td>#1 Piano Hand Coordination: Play 10th Ballad i...</td>\n",
       "      <td>True</td>\n",
       "      <td>35</td>\n",
       "      <td>3137</td>\n",
       "      <td>18</td>\n",
       "      <td>68</td>\n",
       "      <td>All Levels</td>\n",
       "      <td>1.5 hours</td>\n",
       "      <td>2014-09-18 05:07:05+00:00</td>\n",
       "      <td>Musical Instruments</td>\n",
       "    </tr>\n",
       "  </tbody>\n",
       "</table>\n",
       "</div>"
      ],
      "text/plain": [
       "   course_id                                       course_title  is_paid  \\\n",
       "0     288942  #1 Piano Hand Coordination: Play 10th Ballad i...     True   \n",
       "\n",
       "  price  num_subscribers  num_reviews  num_lectures       level  \\\n",
       "0    35             3137           18            68  All Levels   \n",
       "\n",
       "  content_duration       published_timestamp              subject  \n",
       "0        1.5 hours 2014-09-18 05:07:05+00:00  Musical Instruments  "
      ]
     },
     "execution_count": 13,
     "metadata": {},
     "output_type": "execute_result"
    }
   ],
   "source": [
    "data.head(1)"
   ]
  },
  {
   "cell_type": "code",
   "execution_count": 14,
   "id": "24613449",
   "metadata": {},
   "outputs": [
    {
     "data": {
      "text/plain": [
       "subject\n",
       "Business Finance       1195\n",
       "Graphic Design          602\n",
       "Musical Instruments     680\n",
       "Web Development        1199\n",
       "Name: course_id, dtype: int64"
      ]
     },
     "execution_count": 14,
     "metadata": {},
     "output_type": "execute_result"
    }
   ],
   "source": [
    "data_subject = data.groupby('subject')['course_id'].count()\n",
    "data_subject"
   ]
  },
  {
   "cell_type": "code",
   "execution_count": 15,
   "id": "3c7e3d05",
   "metadata": {},
   "outputs": [
    {
     "data": {
      "text/plain": [
       "<AxesSubplot:title={'center':'Subject Count'}, xlabel='subject', ylabel='count'>"
      ]
     },
     "execution_count": 15,
     "metadata": {},
     "output_type": "execute_result"
    },
    {
     "data": {
      "image/png": "[encoded data removed]",
      "text/plain": [
       "<Figure size 720x504 with 1 Axes>"
      ]
     },
     "metadata": {
      "needs_background": "light"
     },
     "output_type": "display_data"
    }
   ],
   "source": [
    "data_subject.plot.bar(xlabel='subject', ylabel='count', title='Subject Count',figsize=(10,7))"
   ]
  },
  {
   "cell_type": "markdown",
   "id": "30e2bded",
   "metadata": {},
   "source": [
    "Business Finance and Web Development course have the most amount while Graphic Design and Musical Instrument have the least"
   ]
  },
  {
   "cell_type": "markdown",
   "id": "c4244e56",
   "metadata": {},
   "source": [
    "13. For which levels, udemy courses providing the courses\n",
    "\n",
    "    a. Kindly visualize the data using barplot"
   ]
  },
  {
   "cell_type": "code",
   "execution_count": 16,
   "id": "1bc5aa63",
   "metadata": {},
   "outputs": [
    {
     "data": {
      "text/html": [
       "<div>\n",
       "<style scoped>\n",
       "    .dataframe tbody tr th:only-of-type {\n",
       "        vertical-align: middle;\n",
       "    }\n",
       "\n",
       "    .dataframe tbody tr th {\n",
       "        vertical-align: top;\n",
       "    }\n",
       "\n",
       "    .dataframe thead th {\n",
       "        text-align: right;\n",
       "    }\n",
       "</style>\n",
       "<table border=\"1\" class=\"dataframe\">\n",
       "  <thead>\n",
       "    <tr style=\"text-align: right;\">\n",
       "      <th></th>\n",
       "      <th>course_id</th>\n",
       "      <th>course_title</th>\n",
       "      <th>is_paid</th>\n",
       "      <th>price</th>\n",
       "      <th>num_subscribers</th>\n",
       "      <th>num_reviews</th>\n",
       "      <th>num_lectures</th>\n",
       "      <th>level</th>\n",
       "      <th>content_duration</th>\n",
       "      <th>published_timestamp</th>\n",
       "      <th>subject</th>\n",
       "    </tr>\n",
       "  </thead>\n",
       "  <tbody>\n",
       "    <tr>\n",
       "      <th>0</th>\n",
       "      <td>288942</td>\n",
       "      <td>#1 Piano Hand Coordination: Play 10th Ballad i...</td>\n",
       "      <td>True</td>\n",
       "      <td>35</td>\n",
       "      <td>3137</td>\n",
       "      <td>18</td>\n",
       "      <td>68</td>\n",
       "      <td>All Levels</td>\n",
       "      <td>1.5 hours</td>\n",
       "      <td>2014-09-18 05:07:05+00:00</td>\n",
       "      <td>Musical Instruments</td>\n",
       "    </tr>\n",
       "  </tbody>\n",
       "</table>\n",
       "</div>"
      ],
      "text/plain": [
       "   course_id                                       course_title  is_paid  \\\n",
       "0     288942  #1 Piano Hand Coordination: Play 10th Ballad i...     True   \n",
       "\n",
       "  price  num_subscribers  num_reviews  num_lectures       level  \\\n",
       "0    35             3137           18            68  All Levels   \n",
       "\n",
       "  content_duration       published_timestamp              subject  \n",
       "0        1.5 hours 2014-09-18 05:07:05+00:00  Musical Instruments  "
      ]
     },
     "execution_count": 16,
     "metadata": {},
     "output_type": "execute_result"
    }
   ],
   "source": [
    "data.head(1)"
   ]
  },
  {
   "cell_type": "code",
   "execution_count": 17,
   "id": "8600cd84",
   "metadata": {},
   "outputs": [
    {
     "data": {
      "text/plain": [
       "array(['All Levels', 'Intermediate Level', 'Beginner Level',\n",
       "       'Expert Level'], dtype=object)"
      ]
     },
     "execution_count": 17,
     "metadata": {},
     "output_type": "execute_result"
    }
   ],
   "source": [
    "data.level.unique()"
   ]
  },
  {
   "cell_type": "code",
   "execution_count": 18,
   "id": "fe06fb4e",
   "metadata": {},
   "outputs": [
    {
     "data": {
      "text/plain": [
       "<AxesSubplot:title={'center':'Level Count'}, xlabel='Level', ylabel='count'>"
      ]
     },
     "execution_count": 18,
     "metadata": {},
     "output_type": "execute_result"
    },
    {
     "data": {
      "image/png": "[encoded data removed]",
      "text/plain": [
       "<Figure size 720x504 with 1 Axes>"
      ]
     },
     "metadata": {
      "needs_background": "light"
     },
     "output_type": "display_data"
    }
   ],
   "source": [
    "data.groupby('level')['course_id'].count().plot.bar(xlabel='Level', ylabel='count', \n",
    "                                                    title='Level Count',figsize=(10,7))"
   ]
  },
  {
   "cell_type": "markdown",
   "id": "d176f895",
   "metadata": {},
   "source": [
    "14. Display the count of paid and free courses\n",
    "\n",
    "    a. Visualize it as well\n",
    "    \n",
    "15. Which course has more lectures (free or paid)?\n",
    " \n",
    "    a. A barplot with this looks great\n",
    "    \n",
    "16. Which courses have a higher number of subscribers free or paid?\n",
    "\n",
    "    a. Barplot will work here too"
   ]
  },
  {
   "cell_type": "code",
   "execution_count": 19,
   "id": "8da27e31",
   "metadata": {},
   "outputs": [
    {
     "data": {
      "text/plain": [
       "<AxesSubplot:title={'center':'number of courses'}, xlabel='is Paid', ylabel='count'>"
      ]
     },
     "execution_count": 19,
     "metadata": {},
     "output_type": "execute_result"
    },
    {
     "data": {
      "image/png": "[encoded data removed]",
      "text/plain": [
       "<Figure size 720x504 with 1 Axes>"
      ]
     },
     "metadata": {
      "needs_background": "light"
     },
     "output_type": "display_data"
    }
   ],
   "source": [
    "data.groupby('is_paid')['num_subscribers'].count().plot.bar(xlabel='is Paid', ylabel='count',\n",
    "                                                      title='number of courses',figsize=(10,7))\n"
   ]
  },
  {
   "cell_type": "code",
   "execution_count": 20,
   "id": "ed7ba890",
   "metadata": {},
   "outputs": [
    {
     "data": {
      "text/plain": [
       "<AxesSubplot:title={'center':'number of courses subscriber'}, xlabel='is Paid', ylabel='count'>"
      ]
     },
     "execution_count": 20,
     "metadata": {},
     "output_type": "execute_result"
    },
    {
     "data": {
      "image/png": "[encoded data removed]",
      "text/plain": [
       "<Figure size 720x504 with 1 Axes>"
      ]
     },
     "metadata": {
      "needs_background": "light"
     },
     "output_type": "display_data"
    }
   ],
   "source": [
    "data.groupby('is_paid')['num_subscribers'].sum().plot.bar(xlabel='is Paid', ylabel='count',\n",
    "                                                      title='number of courses subscriber',figsize=(10,7))\n"
   ]
  },
  {
   "cell_type": "markdown",
   "id": "27a72ba7",
   "metadata": {},
   "source": [
    "7.Which level has the highest number of subscribers?"
   ]
  },
  {
   "cell_type": "code",
   "execution_count": 21,
   "id": "5a23dca3",
   "metadata": {},
   "outputs": [
    {
     "data": {
      "text/plain": [
       "<AxesSubplot:title={'center':'levels  subscriber'}, xlabel='levels', ylabel='count'>"
      ]
     },
     "execution_count": 21,
     "metadata": {},
     "output_type": "execute_result"
    },
    {
     "data": {
      "image/png": "[encoded data removed]",
      "text/plain": [
       "<Figure size 720x504 with 1 Axes>"
      ]
     },
     "metadata": {
      "needs_background": "light"
     },
     "output_type": "display_data"
    }
   ],
   "source": [
    "data.groupby('level')['num_subscribers'].sum().plot.bar(xlabel='levels', ylabel='count',\n",
    "                                                      title='levels  subscriber',figsize=(10,7))\n"
   ]
  },
  {
   "cell_type": "markdown",
   "id": "329a38f2",
   "metadata": {},
   "source": [
    "18.Find most popular course title\n",
    "\n",
    "19.Display 10 most popular courses as per number of subscribers\n",
    "\n",
    "20.Find the course which is having the highest number of reviews."
   ]
  },
  {
   "cell_type": "code",
   "execution_count": 22,
   "id": "9d37bc15",
   "metadata": {},
   "outputs": [
    {
     "data": {
      "text/html": [
       "<div>\n",
       "<style scoped>\n",
       "    .dataframe tbody tr th:only-of-type {\n",
       "        vertical-align: middle;\n",
       "    }\n",
       "\n",
       "    .dataframe tbody tr th {\n",
       "        vertical-align: top;\n",
       "    }\n",
       "\n",
       "    .dataframe thead th {\n",
       "        text-align: right;\n",
       "    }\n",
       "</style>\n",
       "<table border=\"1\" class=\"dataframe\">\n",
       "  <thead>\n",
       "    <tr style=\"text-align: right;\">\n",
       "      <th></th>\n",
       "      <th>course_id</th>\n",
       "      <th>course_title</th>\n",
       "      <th>is_paid</th>\n",
       "      <th>price</th>\n",
       "      <th>num_subscribers</th>\n",
       "      <th>num_reviews</th>\n",
       "      <th>num_lectures</th>\n",
       "      <th>level</th>\n",
       "      <th>content_duration</th>\n",
       "      <th>published_timestamp</th>\n",
       "      <th>subject</th>\n",
       "    </tr>\n",
       "  </thead>\n",
       "  <tbody>\n",
       "    <tr>\n",
       "      <th>2230</th>\n",
       "      <td>41295</td>\n",
       "      <td>Learn HTML5 Programming From Scratch</td>\n",
       "      <td>False</td>\n",
       "      <td>Free</td>\n",
       "      <td>268923</td>\n",
       "      <td>8629</td>\n",
       "      <td>45</td>\n",
       "      <td>All Levels</td>\n",
       "      <td>10.5 hours</td>\n",
       "      <td>2013-02-14 07:03:41+00:00</td>\n",
       "      <td>Web Development</td>\n",
       "    </tr>\n",
       "  </tbody>\n",
       "</table>\n",
       "</div>"
      ],
      "text/plain": [
       "      course_id                          course_title  is_paid price  \\\n",
       "2230      41295  Learn HTML5 Programming From Scratch    False  Free   \n",
       "\n",
       "      num_subscribers  num_reviews  num_lectures       level content_duration  \\\n",
       "2230           268923         8629            45  All Levels       10.5 hours   \n",
       "\n",
       "           published_timestamp          subject  \n",
       "2230 2013-02-14 07:03:41+00:00  Web Development  "
      ]
     },
     "execution_count": 22,
     "metadata": {},
     "output_type": "execute_result"
    }
   ],
   "source": [
    "data.sort_values(by='num_subscribers', ascending=False)[0:1]"
   ]
  },
  {
   "cell_type": "code",
   "execution_count": 23,
   "id": "faa5d5ef",
   "metadata": {},
   "outputs": [
    {
     "data": {
      "text/html": [
       "<div>\n",
       "<style scoped>\n",
       "    .dataframe tbody tr th:only-of-type {\n",
       "        vertical-align: middle;\n",
       "    }\n",
       "\n",
       "    .dataframe tbody tr th {\n",
       "        vertical-align: top;\n",
       "    }\n",
       "\n",
       "    .dataframe thead th {\n",
       "        text-align: right;\n",
       "    }\n",
       "</style>\n",
       "<table border=\"1\" class=\"dataframe\">\n",
       "  <thead>\n",
       "    <tr style=\"text-align: right;\">\n",
       "      <th></th>\n",
       "      <th>course_id</th>\n",
       "      <th>course_title</th>\n",
       "      <th>is_paid</th>\n",
       "      <th>price</th>\n",
       "      <th>num_subscribers</th>\n",
       "      <th>num_reviews</th>\n",
       "      <th>num_lectures</th>\n",
       "      <th>level</th>\n",
       "      <th>content_duration</th>\n",
       "      <th>published_timestamp</th>\n",
       "      <th>subject</th>\n",
       "    </tr>\n",
       "  </thead>\n",
       "  <tbody>\n",
       "    <tr>\n",
       "      <th>2230</th>\n",
       "      <td>41295</td>\n",
       "      <td>Learn HTML5 Programming From Scratch</td>\n",
       "      <td>False</td>\n",
       "      <td>Free</td>\n",
       "      <td>268923</td>\n",
       "      <td>8629</td>\n",
       "      <td>45</td>\n",
       "      <td>All Levels</td>\n",
       "      <td>10.5 hours</td>\n",
       "      <td>2013-02-14 07:03:41+00:00</td>\n",
       "      <td>Web Development</td>\n",
       "    </tr>\n",
       "    <tr>\n",
       "      <th>776</th>\n",
       "      <td>59014</td>\n",
       "      <td>Coding for Entrepreneurs Basic</td>\n",
       "      <td>False</td>\n",
       "      <td>Free</td>\n",
       "      <td>161029</td>\n",
       "      <td>279</td>\n",
       "      <td>27</td>\n",
       "      <td>Beginner Level</td>\n",
       "      <td>3.5 hours</td>\n",
       "      <td>2013-06-09 15:51:55+00:00</td>\n",
       "      <td>Web Development</td>\n",
       "    </tr>\n",
       "    <tr>\n",
       "      <th>3385</th>\n",
       "      <td>625204</td>\n",
       "      <td>The Web Developer Bootcamp</td>\n",
       "      <td>True</td>\n",
       "      <td>200</td>\n",
       "      <td>121584</td>\n",
       "      <td>27445</td>\n",
       "      <td>342</td>\n",
       "      <td>All Levels</td>\n",
       "      <td>43 hours</td>\n",
       "      <td>2015-11-02 21:13:27+00:00</td>\n",
       "      <td>Web Development</td>\n",
       "    </tr>\n",
       "    <tr>\n",
       "      <th>640</th>\n",
       "      <td>173548</td>\n",
       "      <td>Build Your First Website in 1 Week with HTML5 ...</td>\n",
       "      <td>False</td>\n",
       "      <td>Free</td>\n",
       "      <td>120291</td>\n",
       "      <td>5924</td>\n",
       "      <td>30</td>\n",
       "      <td>Beginner Level</td>\n",
       "      <td>3 hours</td>\n",
       "      <td>2014-04-08 16:21:30+00:00</td>\n",
       "      <td>Web Development</td>\n",
       "    </tr>\n",
       "    <tr>\n",
       "      <th>3316</th>\n",
       "      <td>764164</td>\n",
       "      <td>The Complete Web Developer Course 2.0</td>\n",
       "      <td>True</td>\n",
       "      <td>200</td>\n",
       "      <td>114512</td>\n",
       "      <td>22412</td>\n",
       "      <td>304</td>\n",
       "      <td>All Levels</td>\n",
       "      <td>30.5 hours</td>\n",
       "      <td>2016-03-08 22:28:36+00:00</td>\n",
       "      <td>Web Development</td>\n",
       "    </tr>\n",
       "    <tr>\n",
       "      <th>1388</th>\n",
       "      <td>19421</td>\n",
       "      <td>Free Beginner Electric Guitar Lessons</td>\n",
       "      <td>False</td>\n",
       "      <td>Free</td>\n",
       "      <td>101154</td>\n",
       "      <td>1042</td>\n",
       "      <td>95</td>\n",
       "      <td>Beginner Level</td>\n",
       "      <td>4.5 hours</td>\n",
       "      <td>2012-06-15 17:00:33+00:00</td>\n",
       "      <td>Musical Instruments</td>\n",
       "    </tr>\n",
       "    <tr>\n",
       "      <th>3556</th>\n",
       "      <td>473160</td>\n",
       "      <td>Web Design for Web Developers: Build Beautiful...</td>\n",
       "      <td>False</td>\n",
       "      <td>Free</td>\n",
       "      <td>98867</td>\n",
       "      <td>6512</td>\n",
       "      <td>20</td>\n",
       "      <td>All Levels</td>\n",
       "      <td>3 hours</td>\n",
       "      <td>2015-04-13 18:29:47+00:00</td>\n",
       "      <td>Web Development</td>\n",
       "    </tr>\n",
       "    <tr>\n",
       "      <th>2233</th>\n",
       "      <td>94430</td>\n",
       "      <td>Learn Javascript &amp; JQuery From Scratch</td>\n",
       "      <td>True</td>\n",
       "      <td>30</td>\n",
       "      <td>84897</td>\n",
       "      <td>2685</td>\n",
       "      <td>10</td>\n",
       "      <td>All Levels</td>\n",
       "      <td>2 hours</td>\n",
       "      <td>2013-10-10 15:19:29+00:00</td>\n",
       "      <td>Web Development</td>\n",
       "    </tr>\n",
       "    <tr>\n",
       "      <th>2886</th>\n",
       "      <td>130064</td>\n",
       "      <td>Practical PHP: Master the Basics and Code Dyna...</td>\n",
       "      <td>False</td>\n",
       "      <td>Free</td>\n",
       "      <td>83737</td>\n",
       "      <td>4598</td>\n",
       "      <td>45</td>\n",
       "      <td>All Levels</td>\n",
       "      <td>6.5 hours</td>\n",
       "      <td>2014-07-19 03:02:05+00:00</td>\n",
       "      <td>Web Development</td>\n",
       "    </tr>\n",
       "    <tr>\n",
       "      <th>2034</th>\n",
       "      <td>364426</td>\n",
       "      <td>JavaScript: Understanding the Weird Parts</td>\n",
       "      <td>True</td>\n",
       "      <td>175</td>\n",
       "      <td>79612</td>\n",
       "      <td>16976</td>\n",
       "      <td>85</td>\n",
       "      <td>All Levels</td>\n",
       "      <td>11.5 hours</td>\n",
       "      <td>2015-03-12 23:19:54+00:00</td>\n",
       "      <td>Web Development</td>\n",
       "    </tr>\n",
       "  </tbody>\n",
       "</table>\n",
       "</div>"
      ],
      "text/plain": [
       "      course_id                                       course_title  is_paid  \\\n",
       "2230      41295               Learn HTML5 Programming From Scratch    False   \n",
       "776       59014                     Coding for Entrepreneurs Basic    False   \n",
       "3385     625204                         The Web Developer Bootcamp     True   \n",
       "640      173548  Build Your First Website in 1 Week with HTML5 ...    False   \n",
       "3316     764164              The Complete Web Developer Course 2.0     True   \n",
       "1388      19421              Free Beginner Electric Guitar Lessons    False   \n",
       "3556     473160  Web Design for Web Developers: Build Beautiful...    False   \n",
       "2233      94430             Learn Javascript & JQuery From Scratch     True   \n",
       "2886     130064  Practical PHP: Master the Basics and Code Dyna...    False   \n",
       "2034     364426          JavaScript: Understanding the Weird Parts     True   \n",
       "\n",
       "     price  num_subscribers  num_reviews  num_lectures           level  \\\n",
       "2230  Free           268923         8629            45      All Levels   \n",
       "776   Free           161029          279            27  Beginner Level   \n",
       "3385   200           121584        27445           342      All Levels   \n",
       "640   Free           120291         5924            30  Beginner Level   \n",
       "3316   200           114512        22412           304      All Levels   \n",
       "1388  Free           101154         1042            95  Beginner Level   \n",
       "3556  Free            98867         6512            20      All Levels   \n",
       "2233    30            84897         2685            10      All Levels   \n",
       "2886  Free            83737         4598            45      All Levels   \n",
       "2034   175            79612        16976            85      All Levels   \n",
       "\n",
       "     content_duration       published_timestamp              subject  \n",
       "2230       10.5 hours 2013-02-14 07:03:41+00:00      Web Development  \n",
       "776         3.5 hours 2013-06-09 15:51:55+00:00      Web Development  \n",
       "3385         43 hours 2015-11-02 21:13:27+00:00      Web Development  \n",
       "640           3 hours 2014-04-08 16:21:30+00:00      Web Development  \n",
       "3316       30.5 hours 2016-03-08 22:28:36+00:00      Web Development  \n",
       "1388        4.5 hours 2012-06-15 17:00:33+00:00  Musical Instruments  \n",
       "3556          3 hours 2015-04-13 18:29:47+00:00      Web Development  \n",
       "2233          2 hours 2013-10-10 15:19:29+00:00      Web Development  \n",
       "2886        6.5 hours 2014-07-19 03:02:05+00:00      Web Development  \n",
       "2034       11.5 hours 2015-03-12 23:19:54+00:00      Web Development  "
      ]
     },
     "execution_count": 23,
     "metadata": {},
     "output_type": "execute_result"
    }
   ],
   "source": [
    "data.sort_values(by='num_subscribers', ascending=False)[0:10]"
   ]
  },
  {
   "cell_type": "code",
   "execution_count": 24,
   "id": "4d973e77",
   "metadata": {},
   "outputs": [
    {
     "data": {
      "text/html": [
       "<div>\n",
       "<style scoped>\n",
       "    .dataframe tbody tr th:only-of-type {\n",
       "        vertical-align: middle;\n",
       "    }\n",
       "\n",
       "    .dataframe tbody tr th {\n",
       "        vertical-align: top;\n",
       "    }\n",
       "\n",
       "    .dataframe thead th {\n",
       "        text-align: right;\n",
       "    }\n",
       "</style>\n",
       "<table border=\"1\" class=\"dataframe\">\n",
       "  <thead>\n",
       "    <tr style=\"text-align: right;\">\n",
       "      <th></th>\n",
       "      <th>course_id</th>\n",
       "      <th>course_title</th>\n",
       "      <th>is_paid</th>\n",
       "      <th>price</th>\n",
       "      <th>num_subscribers</th>\n",
       "      <th>num_reviews</th>\n",
       "      <th>num_lectures</th>\n",
       "      <th>level</th>\n",
       "      <th>content_duration</th>\n",
       "      <th>published_timestamp</th>\n",
       "      <th>subject</th>\n",
       "    </tr>\n",
       "  </thead>\n",
       "  <tbody>\n",
       "    <tr>\n",
       "      <th>3385</th>\n",
       "      <td>625204</td>\n",
       "      <td>The Web Developer Bootcamp</td>\n",
       "      <td>True</td>\n",
       "      <td>200</td>\n",
       "      <td>121584</td>\n",
       "      <td>27445</td>\n",
       "      <td>342</td>\n",
       "      <td>All Levels</td>\n",
       "      <td>43 hours</td>\n",
       "      <td>2015-11-02 21:13:27+00:00</td>\n",
       "      <td>Web Development</td>\n",
       "    </tr>\n",
       "  </tbody>\n",
       "</table>\n",
       "</div>"
      ],
      "text/plain": [
       "      course_id                course_title  is_paid price  num_subscribers  \\\n",
       "3385     625204  The Web Developer Bootcamp     True   200           121584   \n",
       "\n",
       "      num_reviews  num_lectures       level content_duration  \\\n",
       "3385        27445           342  All Levels         43 hours   \n",
       "\n",
       "           published_timestamp          subject  \n",
       "3385 2015-11-02 21:13:27+00:00  Web Development  "
      ]
     },
     "execution_count": 24,
     "metadata": {},
     "output_type": "execute_result"
    }
   ],
   "source": [
    "data.sort_values(by='num_reviews', ascending=False)[0:1]"
   ]
  },
  {
   "cell_type": "code",
   "execution_count": 25,
   "id": "742aa0a6",
   "metadata": {},
   "outputs": [
    {
     "data": {
      "text/html": [
       "<div>\n",
       "<style scoped>\n",
       "    .dataframe tbody tr th:only-of-type {\n",
       "        vertical-align: middle;\n",
       "    }\n",
       "\n",
       "    .dataframe tbody tr th {\n",
       "        vertical-align: top;\n",
       "    }\n",
       "\n",
       "    .dataframe thead th {\n",
       "        text-align: right;\n",
       "    }\n",
       "</style>\n",
       "<table border=\"1\" class=\"dataframe\">\n",
       "  <thead>\n",
       "    <tr style=\"text-align: right;\">\n",
       "      <th></th>\n",
       "      <th>course_id</th>\n",
       "      <th>course_title</th>\n",
       "      <th>is_paid</th>\n",
       "      <th>price</th>\n",
       "      <th>num_subscribers</th>\n",
       "      <th>num_reviews</th>\n",
       "      <th>num_lectures</th>\n",
       "      <th>level</th>\n",
       "      <th>content_duration</th>\n",
       "      <th>published_timestamp</th>\n",
       "      <th>subject</th>\n",
       "    </tr>\n",
       "  </thead>\n",
       "  <tbody>\n",
       "    <tr>\n",
       "      <th>3385</th>\n",
       "      <td>625204</td>\n",
       "      <td>The Web Developer Bootcamp</td>\n",
       "      <td>True</td>\n",
       "      <td>200</td>\n",
       "      <td>121584</td>\n",
       "      <td>27445</td>\n",
       "      <td>342</td>\n",
       "      <td>All Levels</td>\n",
       "      <td>43 hours</td>\n",
       "      <td>2015-11-02 21:13:27+00:00</td>\n",
       "      <td>Web Development</td>\n",
       "    </tr>\n",
       "    <tr>\n",
       "      <th>3316</th>\n",
       "      <td>764164</td>\n",
       "      <td>The Complete Web Developer Course 2.0</td>\n",
       "      <td>True</td>\n",
       "      <td>200</td>\n",
       "      <td>114512</td>\n",
       "      <td>22412</td>\n",
       "      <td>304</td>\n",
       "      <td>All Levels</td>\n",
       "      <td>30.5 hours</td>\n",
       "      <td>2016-03-08 22:28:36+00:00</td>\n",
       "      <td>Web Development</td>\n",
       "    </tr>\n",
       "    <tr>\n",
       "      <th>285</th>\n",
       "      <td>756150</td>\n",
       "      <td>Angular 4 (formerly Angular 2) - The Complete ...</td>\n",
       "      <td>True</td>\n",
       "      <td>190</td>\n",
       "      <td>73783</td>\n",
       "      <td>19649</td>\n",
       "      <td>329</td>\n",
       "      <td>All Levels</td>\n",
       "      <td>22 hours</td>\n",
       "      <td>2016-02-11 07:29:29+00:00</td>\n",
       "      <td>Web Development</td>\n",
       "    </tr>\n",
       "    <tr>\n",
       "      <th>2034</th>\n",
       "      <td>364426</td>\n",
       "      <td>JavaScript: Understanding the Weird Parts</td>\n",
       "      <td>True</td>\n",
       "      <td>175</td>\n",
       "      <td>79612</td>\n",
       "      <td>16976</td>\n",
       "      <td>85</td>\n",
       "      <td>All Levels</td>\n",
       "      <td>11.5 hours</td>\n",
       "      <td>2015-03-12 23:19:54+00:00</td>\n",
       "      <td>Web Development</td>\n",
       "    </tr>\n",
       "    <tr>\n",
       "      <th>2610</th>\n",
       "      <td>705264</td>\n",
       "      <td>Modern React with Redux</td>\n",
       "      <td>True</td>\n",
       "      <td>180</td>\n",
       "      <td>50815</td>\n",
       "      <td>15117</td>\n",
       "      <td>150</td>\n",
       "      <td>All Levels</td>\n",
       "      <td>26.5 hours</td>\n",
       "      <td>2015-12-28 19:20:21+00:00</td>\n",
       "      <td>Web Development</td>\n",
       "    </tr>\n",
       "    <tr>\n",
       "      <th>2118</th>\n",
       "      <td>289230</td>\n",
       "      <td>Learn and Understand AngularJS</td>\n",
       "      <td>True</td>\n",
       "      <td>175</td>\n",
       "      <td>59361</td>\n",
       "      <td>11580</td>\n",
       "      <td>55</td>\n",
       "      <td>All Levels</td>\n",
       "      <td>7 hours</td>\n",
       "      <td>2014-09-24 00:57:25+00:00</td>\n",
       "      <td>Web Development</td>\n",
       "    </tr>\n",
       "    <tr>\n",
       "      <th>2119</th>\n",
       "      <td>461160</td>\n",
       "      <td>Learn and Understand NodeJS</td>\n",
       "      <td>True</td>\n",
       "      <td>195</td>\n",
       "      <td>58208</td>\n",
       "      <td>11123</td>\n",
       "      <td>98</td>\n",
       "      <td>All Levels</td>\n",
       "      <td>13 hours</td>\n",
       "      <td>2015-08-31 21:07:48+00:00</td>\n",
       "      <td>Web Development</td>\n",
       "    </tr>\n",
       "    <tr>\n",
       "      <th>2230</th>\n",
       "      <td>41295</td>\n",
       "      <td>Learn HTML5 Programming From Scratch</td>\n",
       "      <td>False</td>\n",
       "      <td>Free</td>\n",
       "      <td>268923</td>\n",
       "      <td>8629</td>\n",
       "      <td>45</td>\n",
       "      <td>All Levels</td>\n",
       "      <td>10.5 hours</td>\n",
       "      <td>2013-02-14 07:03:41+00:00</td>\n",
       "      <td>Web Development</td>\n",
       "    </tr>\n",
       "    <tr>\n",
       "      <th>281</th>\n",
       "      <td>719002</td>\n",
       "      <td>Angular 2 with TypeScript for Beginners: The P...</td>\n",
       "      <td>True</td>\n",
       "      <td>150</td>\n",
       "      <td>40070</td>\n",
       "      <td>8341</td>\n",
       "      <td>194</td>\n",
       "      <td>All Levels</td>\n",
       "      <td>9.5 hours</td>\n",
       "      <td>2016-03-03 20:17:59+00:00</td>\n",
       "      <td>Web Development</td>\n",
       "    </tr>\n",
       "    <tr>\n",
       "      <th>2829</th>\n",
       "      <td>238934</td>\n",
       "      <td>Pianoforall - Incredible New Way To Learn Pian...</td>\n",
       "      <td>True</td>\n",
       "      <td>200</td>\n",
       "      <td>75499</td>\n",
       "      <td>7676</td>\n",
       "      <td>362</td>\n",
       "      <td>All Levels</td>\n",
       "      <td>30 hours</td>\n",
       "      <td>2014-08-07 06:27:51+00:00</td>\n",
       "      <td>Musical Instruments</td>\n",
       "    </tr>\n",
       "  </tbody>\n",
       "</table>\n",
       "</div>"
      ],
      "text/plain": [
       "      course_id                                       course_title  is_paid  \\\n",
       "3385     625204                         The Web Developer Bootcamp     True   \n",
       "3316     764164              The Complete Web Developer Course 2.0     True   \n",
       "285      756150  Angular 4 (formerly Angular 2) - The Complete ...     True   \n",
       "2034     364426          JavaScript: Understanding the Weird Parts     True   \n",
       "2610     705264                            Modern React with Redux     True   \n",
       "2118     289230                     Learn and Understand AngularJS     True   \n",
       "2119     461160                        Learn and Understand NodeJS     True   \n",
       "2230      41295               Learn HTML5 Programming From Scratch    False   \n",
       "281      719002  Angular 2 with TypeScript for Beginners: The P...     True   \n",
       "2829     238934  Pianoforall - Incredible New Way To Learn Pian...     True   \n",
       "\n",
       "     price  num_subscribers  num_reviews  num_lectures       level  \\\n",
       "3385   200           121584        27445           342  All Levels   \n",
       "3316   200           114512        22412           304  All Levels   \n",
       "285    190            73783        19649           329  All Levels   \n",
       "2034   175            79612        16976            85  All Levels   \n",
       "2610   180            50815        15117           150  All Levels   \n",
       "2118   175            59361        11580            55  All Levels   \n",
       "2119   195            58208        11123            98  All Levels   \n",
       "2230  Free           268923         8629            45  All Levels   \n",
       "281    150            40070         8341           194  All Levels   \n",
       "2829   200            75499         7676           362  All Levels   \n",
       "\n",
       "     content_duration       published_timestamp              subject  \n",
       "3385         43 hours 2015-11-02 21:13:27+00:00      Web Development  \n",
       "3316       30.5 hours 2016-03-08 22:28:36+00:00      Web Development  \n",
       "285          22 hours 2016-02-11 07:29:29+00:00      Web Development  \n",
       "2034       11.5 hours 2015-03-12 23:19:54+00:00      Web Development  \n",
       "2610       26.5 hours 2015-12-28 19:20:21+00:00      Web Development  \n",
       "2118          7 hours 2014-09-24 00:57:25+00:00      Web Development  \n",
       "2119         13 hours 2015-08-31 21:07:48+00:00      Web Development  \n",
       "2230       10.5 hours 2013-02-14 07:03:41+00:00      Web Development  \n",
       "281         9.5 hours 2016-03-03 20:17:59+00:00      Web Development  \n",
       "2829         30 hours 2014-08-07 06:27:51+00:00  Musical Instruments  "
      ]
     },
     "execution_count": 25,
     "metadata": {},
     "output_type": "execute_result"
    }
   ],
   "source": [
    "data.sort_values(by='num_reviews', ascending=False)[0:10]"
   ]
  },
  {
   "cell_type": "markdown",
   "id": "731df693",
   "metadata": {},
   "source": [
    "21. Does price affect the number of reviews?\n",
    "\n",
    "    a. Use scatterplot for visualizing it\n",
    "    \n",
    "    b. No overlapping should be there\n",
    "    \n"
   ]
  },
  {
   "cell_type": "code",
   "execution_count": 26,
   "id": "0da7c12c",
   "metadata": {},
   "outputs": [
    {
     "data": {
      "text/html": [
       "<div>\n",
       "<style scoped>\n",
       "    .dataframe tbody tr th:only-of-type {\n",
       "        vertical-align: middle;\n",
       "    }\n",
       "\n",
       "    .dataframe tbody tr th {\n",
       "        vertical-align: top;\n",
       "    }\n",
       "\n",
       "    .dataframe thead th {\n",
       "        text-align: right;\n",
       "    }\n",
       "</style>\n",
       "<table border=\"1\" class=\"dataframe\">\n",
       "  <thead>\n",
       "    <tr style=\"text-align: right;\">\n",
       "      <th></th>\n",
       "      <th>course_id</th>\n",
       "      <th>course_title</th>\n",
       "      <th>is_paid</th>\n",
       "      <th>price</th>\n",
       "      <th>num_subscribers</th>\n",
       "      <th>num_reviews</th>\n",
       "      <th>num_lectures</th>\n",
       "      <th>level</th>\n",
       "      <th>content_duration</th>\n",
       "      <th>published_timestamp</th>\n",
       "      <th>subject</th>\n",
       "    </tr>\n",
       "  </thead>\n",
       "  <tbody>\n",
       "    <tr>\n",
       "      <th>0</th>\n",
       "      <td>288942</td>\n",
       "      <td>#1 Piano Hand Coordination: Play 10th Ballad i...</td>\n",
       "      <td>True</td>\n",
       "      <td>35</td>\n",
       "      <td>3137</td>\n",
       "      <td>18</td>\n",
       "      <td>68</td>\n",
       "      <td>All Levels</td>\n",
       "      <td>1.5 hours</td>\n",
       "      <td>2014-09-18 05:07:05+00:00</td>\n",
       "      <td>Musical Instruments</td>\n",
       "    </tr>\n",
       "  </tbody>\n",
       "</table>\n",
       "</div>"
      ],
      "text/plain": [
       "   course_id                                       course_title  is_paid  \\\n",
       "0     288942  #1 Piano Hand Coordination: Play 10th Ballad i...     True   \n",
       "\n",
       "  price  num_subscribers  num_reviews  num_lectures       level  \\\n",
       "0    35             3137           18            68  All Levels   \n",
       "\n",
       "  content_duration       published_timestamp              subject  \n",
       "0        1.5 hours 2014-09-18 05:07:05+00:00  Musical Instruments  "
      ]
     },
     "execution_count": 26,
     "metadata": {},
     "output_type": "execute_result"
    }
   ],
   "source": [
    "data.head(1)"
   ]
  },
  {
   "cell_type": "code",
   "execution_count": 27,
   "id": "64f8b80d",
   "metadata": {},
   "outputs": [
    {
     "data": {
      "text/plain": [
       "<AxesSubplot:xlabel='price', ylabel='num_reviews'>"
      ]
     },
     "execution_count": 27,
     "metadata": {},
     "output_type": "execute_result"
    },
    {
     "data": {
      "image/png": "[encoded data removed]",
      "text/plain": [
       "<Figure size 1080x504 with 1 Axes>"
      ]
     },
     "metadata": {
      "needs_background": "light"
     },
     "output_type": "display_data"
    }
   ],
   "source": [
    "plt.figure(figsize=(15,7))\n",
    "sns.scatterplot(data=data, x='price', y='num_reviews')"
   ]
  },
  {
   "cell_type": "markdown",
   "id": "25cdeffb",
   "metadata": {},
   "source": [
    "22. Find total number of courses related to python\n",
    "\n",
    "    a. Elaborate your observation\n",
    "    \n",
    "23. Display 10 most popular python courses as per number of subscribers\n",
    "\n",
    "    a. Would be great practice is you use barplot to visualize it\n",
    "    \n",
    "24. In which year the highest number of courses were posted?\n",
    "\n",
    "    a. Cause you have to show year, try to use countplot to visualize it\n",
    "    "
   ]
  },
  {
   "cell_type": "code",
   "execution_count": 28,
   "id": "c315dc73",
   "metadata": {},
   "outputs": [
    {
     "name": "stdout",
     "output_type": "stream",
     "text": [
      "29\n"
     ]
    }
   ],
   "source": [
    "python_count = 0\n",
    "py_list = []\n",
    "for d in data['course_title']:\n",
    "    if 'python' in d.lower():\n",
    "        #print(d)\n",
    "        py_list.append(d)\n",
    "        python_count += 1\n",
    "print(python_count)"
   ]
  },
  {
   "cell_type": "code",
   "execution_count": 29,
   "id": "f7cf392c",
   "metadata": {},
   "outputs": [],
   "source": [
    "#py_list"
   ]
  },
  {
   "cell_type": "code",
   "execution_count": 30,
   "id": "35c44d0b",
   "metadata": {},
   "outputs": [],
   "source": [
    "df_py = data[data['course_title'].isin(py_list)]"
   ]
  },
  {
   "cell_type": "code",
   "execution_count": 31,
   "id": "9c4c898f",
   "metadata": {},
   "outputs": [
    {
     "data": {
      "text/html": [
       "<div>\n",
       "<style scoped>\n",
       "    .dataframe tbody tr th:only-of-type {\n",
       "        vertical-align: middle;\n",
       "    }\n",
       "\n",
       "    .dataframe tbody tr th {\n",
       "        vertical-align: top;\n",
       "    }\n",
       "\n",
       "    .dataframe thead th {\n",
       "        text-align: right;\n",
       "    }\n",
       "</style>\n",
       "<table border=\"1\" class=\"dataframe\">\n",
       "  <thead>\n",
       "    <tr style=\"text-align: right;\">\n",
       "      <th></th>\n",
       "      <th>course_title</th>\n",
       "      <th>num_subscribers</th>\n",
       "    </tr>\n",
       "  </thead>\n",
       "  <tbody>\n",
       "    <tr>\n",
       "      <th>3573</th>\n",
       "      <td>Web Programming with Python</td>\n",
       "      <td>35267</td>\n",
       "    </tr>\n",
       "    <tr>\n",
       "      <th>777</th>\n",
       "      <td>Coding for Entrepreneurs: Learn Python, Django...</td>\n",
       "      <td>23412</td>\n",
       "    </tr>\n",
       "    <tr>\n",
       "      <th>2294</th>\n",
       "      <td>Learn Python and Django: Payment Processing</td>\n",
       "      <td>17714</td>\n",
       "    </tr>\n",
       "    <tr>\n",
       "      <th>2955</th>\n",
       "      <td>Python and Django Full Stack Web Developer Boo...</td>\n",
       "      <td>11832</td>\n",
       "    </tr>\n",
       "    <tr>\n",
       "      <th>1400</th>\n",
       "      <td>Fun and creative web engineering with Python a...</td>\n",
       "      <td>10917</td>\n",
       "    </tr>\n",
       "    <tr>\n",
       "      <th>3272</th>\n",
       "      <td>The Complete Ethical Hacking Course 2.0: Pytho...</td>\n",
       "      <td>7827</td>\n",
       "    </tr>\n",
       "    <tr>\n",
       "      <th>814</th>\n",
       "      <td>Complete Python Web Course: Build 8 Python Web...</td>\n",
       "      <td>7489</td>\n",
       "    </tr>\n",
       "    <tr>\n",
       "      <th>3460</th>\n",
       "      <td>Try Django 1.9 | Build a Blog and Learn Python...</td>\n",
       "      <td>7407</td>\n",
       "    </tr>\n",
       "    <tr>\n",
       "      <th>2956</th>\n",
       "      <td>Python for Beginners: Python Programming Langu...</td>\n",
       "      <td>6153</td>\n",
       "    </tr>\n",
       "    <tr>\n",
       "      <th>3013</th>\n",
       "      <td>REST APIs with Flask and Python</td>\n",
       "      <td>5151</td>\n",
       "    </tr>\n",
       "  </tbody>\n",
       "</table>\n",
       "</div>"
      ],
      "text/plain": [
       "                                           course_title  num_subscribers\n",
       "3573                        Web Programming with Python            35267\n",
       "777   Coding for Entrepreneurs: Learn Python, Django...            23412\n",
       "2294        Learn Python and Django: Payment Processing            17714\n",
       "2955  Python and Django Full Stack Web Developer Boo...            11832\n",
       "1400  Fun and creative web engineering with Python a...            10917\n",
       "3272  The Complete Ethical Hacking Course 2.0: Pytho...             7827\n",
       "814   Complete Python Web Course: Build 8 Python Web...             7489\n",
       "3460  Try Django 1.9 | Build a Blog and Learn Python...             7407\n",
       "2956  Python for Beginners: Python Programming Langu...             6153\n",
       "3013                    REST APIs with Flask and Python             5151"
      ]
     },
     "execution_count": 31,
     "metadata": {},
     "output_type": "execute_result"
    }
   ],
   "source": [
    "df_py.sort_values(by='num_subscribers',ascending=False)[0:10][['course_title','num_subscribers']]"
   ]
  },
  {
   "cell_type": "code",
   "execution_count": 32,
   "id": "3f3d0d93",
   "metadata": {},
   "outputs": [],
   "source": [
    "data['year'] = data['published_timestamp'].dt.year"
   ]
  },
  {
   "cell_type": "markdown",
   "id": "d654df2e",
   "metadata": {},
   "source": [
    "24. In which year the highest number of courses were posted?\n",
    "\n",
    "    a. Cause you have to show year, try to use countplot to visualize it\n",
    "    \n"
   ]
  },
  {
   "cell_type": "code",
   "execution_count": 33,
   "id": "06347b2b",
   "metadata": {},
   "outputs": [
    {
     "data": {
      "text/plain": [
       "year\n",
       "2016    1204\n",
       "2015    1014\n",
       "2017     717\n",
       "2014     490\n",
       "2013     201\n",
       "2012      45\n",
       "2011       5\n",
       "Name: course_id, dtype: int64"
      ]
     },
     "execution_count": 33,
     "metadata": {},
     "output_type": "execute_result"
    }
   ],
   "source": [
    "df_year = data.groupby('year')\n",
    "df_year['course_id'].count().sort_values(ascending=False)"
   ]
  },
  {
   "cell_type": "code",
   "execution_count": 34,
   "id": "86f08c95",
   "metadata": {},
   "outputs": [
    {
     "data": {
      "text/plain": [
       "<AxesSubplot:xlabel='year', ylabel='count'>"
      ]
     },
     "execution_count": 34,
     "metadata": {},
     "output_type": "execute_result"
    },
    {
     "data": {
      "image/png": "[encoded data removed]",
      "text/plain": [
       "<Figure size 432x288 with 1 Axes>"
      ]
     },
     "metadata": {
      "needs_background": "light"
     },
     "output_type": "display_data"
    }
   ],
   "source": [
    "sns.countplot(data=data,x='year')"
   ]
  },
  {
   "cell_type": "markdown",
   "id": "fb182e78",
   "metadata": {},
   "source": [
    "2016 had the most courses "
   ]
  },
  {
   "cell_type": "markdown",
   "id": "30c003e9",
   "metadata": {},
   "source": [
    "25. Display category-wise count of posted subjects [year wise]"
   ]
  },
  {
   "cell_type": "code",
   "execution_count": 35,
   "id": "a65c35c5",
   "metadata": {},
   "outputs": [
    {
     "data": {
      "text/plain": [
       "<AxesSubplot:xlabel='year,subject'>"
      ]
     },
     "execution_count": 35,
     "metadata": {},
     "output_type": "execute_result"
    },
    {
     "data": {
      "image/png": "[encoded data removed]",
      "text/plain": [
       "<Figure size 1080x504 with 1 Axes>"
      ]
     },
     "metadata": {
      "needs_background": "light"
     },
     "output_type": "display_data"
    }
   ],
   "source": [
    "data.groupby(['year','subject'])['course_id'].count().plot.bar(figsize=(15,7),cmap='viridis_r')"
   ]
  },
  {
   "cell_type": "markdown",
   "id": "8a7a895f",
   "metadata": {},
   "source": [
    "# BONUS\n",
    "\n",
    "investigate web development \n",
    "find the most popular language"
   ]
  },
  {
   "cell_type": "code",
   "execution_count": 36,
   "id": "d1c3dd06",
   "metadata": {},
   "outputs": [
    {
     "name": "stdout",
     "output_type": "stream",
     "text": [
      "<class 'pandas.core.frame.DataFrame'>\n",
      "Int64Index: 3676 entries, 0 to 3681\n",
      "Data columns (total 12 columns):\n",
      " #   Column               Non-Null Count  Dtype              \n",
      "---  ------               --------------  -----              \n",
      " 0   course_id            3676 non-null   int64              \n",
      " 1   course_title         3676 non-null   object             \n",
      " 2   is_paid              3676 non-null   bool               \n",
      " 3   price                3676 non-null   object             \n",
      " 4   num_subscribers      3676 non-null   int64              \n",
      " 5   num_reviews          3676 non-null   int64              \n",
      " 6   num_lectures         3676 non-null   int64              \n",
      " 7   level                3676 non-null   object             \n",
      " 8   content_duration     3676 non-null   object             \n",
      " 9   published_timestamp  3676 non-null   datetime64[ns, UTC]\n",
      " 10  subject              3676 non-null   object             \n",
      " 11  year                 3676 non-null   int64              \n",
      "dtypes: bool(1), datetime64[ns, UTC](1), int64(5), object(5)\n",
      "memory usage: 348.2+ KB\n"
     ]
    }
   ],
   "source": [
    "data.info()"
   ]
  },
  {
   "cell_type": "code",
   "execution_count": 37,
   "id": "27285ce0",
   "metadata": {},
   "outputs": [
    {
     "data": {
      "text/html": [
       "<div>\n",
       "<style scoped>\n",
       "    .dataframe tbody tr th:only-of-type {\n",
       "        vertical-align: middle;\n",
       "    }\n",
       "\n",
       "    .dataframe tbody tr th {\n",
       "        vertical-align: top;\n",
       "    }\n",
       "\n",
       "    .dataframe thead th {\n",
       "        text-align: right;\n",
       "    }\n",
       "</style>\n",
       "<table border=\"1\" class=\"dataframe\">\n",
       "  <thead>\n",
       "    <tr style=\"text-align: right;\">\n",
       "      <th></th>\n",
       "      <th>course_id</th>\n",
       "      <th>course_title</th>\n",
       "      <th>is_paid</th>\n",
       "      <th>price</th>\n",
       "      <th>num_subscribers</th>\n",
       "      <th>num_reviews</th>\n",
       "      <th>num_lectures</th>\n",
       "      <th>level</th>\n",
       "      <th>content_duration</th>\n",
       "      <th>published_timestamp</th>\n",
       "      <th>subject</th>\n",
       "      <th>year</th>\n",
       "    </tr>\n",
       "  </thead>\n",
       "  <tbody>\n",
       "    <tr>\n",
       "      <th>0</th>\n",
       "      <td>288942</td>\n",
       "      <td>#1 Piano Hand Coordination: Play 10th Ballad i...</td>\n",
       "      <td>True</td>\n",
       "      <td>35</td>\n",
       "      <td>3137</td>\n",
       "      <td>18</td>\n",
       "      <td>68</td>\n",
       "      <td>All Levels</td>\n",
       "      <td>1.5 hours</td>\n",
       "      <td>2014-09-18 05:07:05+00:00</td>\n",
       "      <td>Musical Instruments</td>\n",
       "      <td>2014</td>\n",
       "    </tr>\n",
       "  </tbody>\n",
       "</table>\n",
       "</div>"
      ],
      "text/plain": [
       "   course_id                                       course_title  is_paid  \\\n",
       "0     288942  #1 Piano Hand Coordination: Play 10th Ballad i...     True   \n",
       "\n",
       "  price  num_subscribers  num_reviews  num_lectures       level  \\\n",
       "0    35             3137           18            68  All Levels   \n",
       "\n",
       "  content_duration       published_timestamp              subject  year  \n",
       "0        1.5 hours 2014-09-18 05:07:05+00:00  Musical Instruments  2014  "
      ]
     },
     "execution_count": 37,
     "metadata": {},
     "output_type": "execute_result"
    }
   ],
   "source": [
    "data.head(1)"
   ]
  },
  {
   "cell_type": "code",
   "execution_count": 357,
   "id": "d66147fd",
   "metadata": {},
   "outputs": [],
   "source": [
    "df = data.copy()"
   ]
  },
  {
   "cell_type": "code",
   "execution_count": 358,
   "id": "a90cf5b7",
   "metadata": {},
   "outputs": [
    {
     "data": {
      "text/plain": [
       "array(['All Levels', 'Intermediate Level', 'Beginner Level',\n",
       "       'Expert Level'], dtype=object)"
      ]
     },
     "execution_count": 358,
     "metadata": {},
     "output_type": "execute_result"
    }
   ],
   "source": [
    "df.level.unique()"
   ]
  },
  {
   "cell_type": "code",
   "execution_count": 359,
   "id": "1ab6fae4",
   "metadata": {},
   "outputs": [
    {
     "data": {
      "text/plain": [
       "array(['Musical Instruments', 'Business Finance', 'Graphic Design',\n",
       "       'Web Development'], dtype=object)"
      ]
     },
     "execution_count": 359,
     "metadata": {},
     "output_type": "execute_result"
    }
   ],
   "source": [
    "df.subject.unique()"
   ]
  },
  {
   "cell_type": "code",
   "execution_count": 360,
   "id": "962f4484",
   "metadata": {},
   "outputs": [],
   "source": [
    "def convert_is_paid(x):\n",
    "    if x == True:\n",
    "        return 1\n",
    "    return 0\n",
    "\n",
    "def convert_level(x):\n",
    "    if x == 'All Levels':\n",
    "        return 0\n",
    "    elif x == 'Beginner Level':\n",
    "        return 1\n",
    "    elif x == 'Intermediate Level':\n",
    "        return 2\n",
    "    else:\n",
    "        # Expert Level\n",
    "        return 3\n",
    "    \n",
    "def convert_duration(x):\n",
    "    return float(x.split()[0])\n",
    "\n",
    "def convert_subject(x):\n",
    "    if x == 'Web Development':\n",
    "        return 0\n",
    "    elif x == 'Musical Instruments':\n",
    "        return 1\n",
    "    elif x == 'Business Finance':\n",
    "        return 2\n",
    "    else:\n",
    "        # Graphic Design\n",
    "        return 3"
   ]
  },
  {
   "cell_type": "code",
   "execution_count": 361,
   "id": "67e8a358",
   "metadata": {},
   "outputs": [
    {
     "data": {
      "text/html": [
       "<div>\n",
       "<style scoped>\n",
       "    .dataframe tbody tr th:only-of-type {\n",
       "        vertical-align: middle;\n",
       "    }\n",
       "\n",
       "    .dataframe tbody tr th {\n",
       "        vertical-align: top;\n",
       "    }\n",
       "\n",
       "    .dataframe thead th {\n",
       "        text-align: right;\n",
       "    }\n",
       "</style>\n",
       "<table border=\"1\" class=\"dataframe\">\n",
       "  <thead>\n",
       "    <tr style=\"text-align: right;\">\n",
       "      <th></th>\n",
       "      <th>course_id</th>\n",
       "      <th>course_title</th>\n",
       "      <th>is_paid</th>\n",
       "      <th>price</th>\n",
       "      <th>num_subscribers</th>\n",
       "      <th>num_reviews</th>\n",
       "      <th>num_lectures</th>\n",
       "      <th>level</th>\n",
       "      <th>content_duration</th>\n",
       "      <th>published_timestamp</th>\n",
       "      <th>subject</th>\n",
       "      <th>year</th>\n",
       "    </tr>\n",
       "  </thead>\n",
       "  <tbody>\n",
       "    <tr>\n",
       "      <th>0</th>\n",
       "      <td>288942</td>\n",
       "      <td>#1 Piano Hand Coordination: Play 10th Ballad i...</td>\n",
       "      <td>True</td>\n",
       "      <td>35</td>\n",
       "      <td>3137</td>\n",
       "      <td>18</td>\n",
       "      <td>68</td>\n",
       "      <td>All Levels</td>\n",
       "      <td>1.5 hours</td>\n",
       "      <td>2014-09-18 05:07:05+00:00</td>\n",
       "      <td>Musical Instruments</td>\n",
       "      <td>2014</td>\n",
       "    </tr>\n",
       "  </tbody>\n",
       "</table>\n",
       "</div>"
      ],
      "text/plain": [
       "   course_id                                       course_title  is_paid  \\\n",
       "0     288942  #1 Piano Hand Coordination: Play 10th Ballad i...     True   \n",
       "\n",
       "  price  num_subscribers  num_reviews  num_lectures       level  \\\n",
       "0    35             3137           18            68  All Levels   \n",
       "\n",
       "  content_duration       published_timestamp              subject  year  \n",
       "0        1.5 hours 2014-09-18 05:07:05+00:00  Musical Instruments  2014  "
      ]
     },
     "execution_count": 361,
     "metadata": {},
     "output_type": "execute_result"
    }
   ],
   "source": [
    "df.head(1)"
   ]
  },
  {
   "cell_type": "code",
   "execution_count": 362,
   "id": "8f095dac",
   "metadata": {},
   "outputs": [],
   "source": [
    "df['is_paid'] = df['is_paid'].apply(convert_is_paid)"
   ]
  },
  {
   "cell_type": "code",
   "execution_count": 364,
   "id": "dc9198f7",
   "metadata": {},
   "outputs": [],
   "source": [
    "df['level'] = df['level'].apply(convert_is_paid)"
   ]
  },
  {
   "cell_type": "code",
   "execution_count": 365,
   "id": "6f29ab45",
   "metadata": {},
   "outputs": [],
   "source": [
    "df['content_duration'] = df['content_duration'].apply(convert_duration)"
   ]
  },
  {
   "cell_type": "code",
   "execution_count": 366,
   "id": "1dc700c6",
   "metadata": {},
   "outputs": [],
   "source": [
    "df['subject'] = df['subject'].apply(convert_subject)"
   ]
  },
  {
   "cell_type": "code",
   "execution_count": 367,
   "id": "9f31cfdb",
   "metadata": {},
   "outputs": [],
   "source": [
    "df.drop('course_id',axis=1,inplace=True)"
   ]
  },
  {
   "cell_type": "code",
   "execution_count": 368,
   "id": "ecb8967a",
   "metadata": {},
   "outputs": [
    {
     "name": "stdout",
     "output_type": "stream",
     "text": [
      "<class 'pandas.core.frame.DataFrame'>\n",
      "Int64Index: 3676 entries, 0 to 3681\n",
      "Data columns (total 11 columns):\n",
      " #   Column               Non-Null Count  Dtype              \n",
      "---  ------               --------------  -----              \n",
      " 0   course_title         3676 non-null   object             \n",
      " 1   is_paid              3676 non-null   int64              \n",
      " 2   price                3676 non-null   object             \n",
      " 3   num_subscribers      3676 non-null   int64              \n",
      " 4   num_reviews          3676 non-null   int64              \n",
      " 5   num_lectures         3676 non-null   int64              \n",
      " 6   level                3676 non-null   int64              \n",
      " 7   content_duration     3676 non-null   float64            \n",
      " 8   published_timestamp  3676 non-null   datetime64[ns, UTC]\n",
      " 9   subject              3676 non-null   int64              \n",
      " 10  year                 3676 non-null   int64              \n",
      "dtypes: datetime64[ns, UTC](1), float64(1), int64(7), object(2)\n",
      "memory usage: 473.7+ KB\n"
     ]
    }
   ],
   "source": [
    "df.info()"
   ]
  },
  {
   "cell_type": "code",
   "execution_count": 51,
   "id": "f47d5693",
   "metadata": {},
   "outputs": [
    {
     "data": {
      "text/plain": [
       "<seaborn.axisgrid.PairGrid at 0x7fc8f252aeb0>"
      ]
     },
     "execution_count": 51,
     "metadata": {},
     "output_type": "execute_result"
    },
    {
     "data": {
      "image/png": "[encoded data removed]",
      "text/plain": [
       "<Figure size 1260x1260 with 56 Axes>"
      ]
     },
     "metadata": {
      "needs_background": "light"
     },
     "output_type": "display_data"
    }
   ],
   "source": [
    "sns.pairplot(data=df)"
   ]
  },
  {
   "cell_type": "code",
   "execution_count": 369,
   "id": "a0c1a74d",
   "metadata": {},
   "outputs": [],
   "source": [
    "# plt.figure(figsize=(15,7))\n",
    "# sns.scatterplot(data=df,x='content_duration',y='num_reviews')\n",
    "# plt.title('content duration vs num reviews')\n",
    "# plt.xticks(rotation=90)\n",
    "# plt.show()"
   ]
  },
  {
   "cell_type": "code",
   "execution_count": 370,
   "id": "b2f5a715",
   "metadata": {},
   "outputs": [],
   "source": [
    "# plt.figure(figsize=(15,7))\n",
    "# sns.scatterplot(data=df,y='num_subscribers',x='num_lectures')\n",
    "# plt.title('num subscribers vs num lectures')\n",
    "# #plt.xticks(rotation=90)\n",
    "# plt.show()"
   ]
  },
  {
   "cell_type": "code",
   "execution_count": 371,
   "id": "c3abfb5a",
   "metadata": {},
   "outputs": [],
   "source": [
    "# plt.figure(figsize=(15,7))\n",
    "# sns.scatterplot(data=df,y='num_subscribers',x='num_reviews', palette='viridis_r')\n",
    "# plt.title('num subscribers vs num reviews')\n",
    "# #plt.xticks(rotation=90)\n",
    "# plt.show()"
   ]
  },
  {
   "cell_type": "markdown",
   "id": "d9b3ca97",
   "metadata": {},
   "source": [
    "create a data frame where the only subject is 0(Web Developement)"
   ]
  },
  {
   "cell_type": "code",
   "execution_count": 327,
   "id": "a7e1fd0b",
   "metadata": {},
   "outputs": [],
   "source": [
    "df2=df[df['subject'] == 0].copy()"
   ]
  },
  {
   "cell_type": "code",
   "execution_count": 372,
   "id": "115ab0a8",
   "metadata": {},
   "outputs": [],
   "source": [
    "# sns.pairplot(data=df2)"
   ]
  },
  {
   "cell_type": "code",
   "execution_count": 373,
   "id": "7404e465",
   "metadata": {},
   "outputs": [],
   "source": [
    "# plt.figure(figsize=(15,7))\n",
    "# sns.scatterplot(data=df2,x='content_duration',y='num_reviews')\n",
    "# plt.title('content duration vs num reviews')\n",
    "# plt.xticks(rotation=90)\n",
    "# plt.show()"
   ]
  },
  {
   "cell_type": "code",
   "execution_count": 375,
   "id": "5fe1b51a",
   "metadata": {},
   "outputs": [],
   "source": [
    "# plt.figure(figsize=(15,7))\n",
    "# sns.scatterplot(data=df2,y='num_subscribers',x='num_lectures')\n",
    "# plt.title('num subscribers vs num lectures')\n",
    "# #plt.xticks(rotation=90)\n",
    "# plt.show()"
   ]
  },
  {
   "cell_type": "code",
   "execution_count": 376,
   "id": "83b90336",
   "metadata": {},
   "outputs": [],
   "source": [
    "# plt.figure(figsize=(15,7))\n",
    "# sns.scatterplot(data=df2,y='num_subscribers',x='num_reviews', palette='viridis_r')\n",
    "# plt.title('num subscribers vs num reviews')\n",
    "# #plt.xticks(rotation=90)\n",
    "# plt.show()"
   ]
  },
  {
   "cell_type": "code",
   "execution_count": 378,
   "id": "1aebb180",
   "metadata": {},
   "outputs": [
    {
     "data": {
      "text/html": [
       "<div>\n",
       "<style scoped>\n",
       "    .dataframe tbody tr th:only-of-type {\n",
       "        vertical-align: middle;\n",
       "    }\n",
       "\n",
       "    .dataframe tbody tr th {\n",
       "        vertical-align: top;\n",
       "    }\n",
       "\n",
       "    .dataframe thead th {\n",
       "        text-align: right;\n",
       "    }\n",
       "</style>\n",
       "<table border=\"1\" class=\"dataframe\">\n",
       "  <thead>\n",
       "    <tr style=\"text-align: right;\">\n",
       "      <th></th>\n",
       "      <th>course_title</th>\n",
       "      <th>is_paid</th>\n",
       "      <th>price</th>\n",
       "      <th>num_subscribers</th>\n",
       "      <th>num_reviews</th>\n",
       "      <th>num_lectures</th>\n",
       "      <th>level</th>\n",
       "      <th>content_duration</th>\n",
       "      <th>published_timestamp</th>\n",
       "      <th>subject</th>\n",
       "      <th>year</th>\n",
       "      <th>language</th>\n",
       "    </tr>\n",
       "  </thead>\n",
       "  <tbody>\n",
       "    <tr>\n",
       "      <th>11</th>\n",
       "      <td>1 Hour CSS</td>\n",
       "      <td>1</td>\n",
       "      <td>100</td>\n",
       "      <td>18324</td>\n",
       "      <td>333</td>\n",
       "      <td>16</td>\n",
       "      <td>Beginner Level</td>\n",
       "      <td>1.0</td>\n",
       "      <td>2013-07-09 20:27:14+00:00</td>\n",
       "      <td>0</td>\n",
       "      <td>2013</td>\n",
       "      <td>css</td>\n",
       "    </tr>\n",
       "    <tr>\n",
       "      <th>12</th>\n",
       "      <td>1 Hour HTML</td>\n",
       "      <td>1</td>\n",
       "      <td>200</td>\n",
       "      <td>16212</td>\n",
       "      <td>514</td>\n",
       "      <td>20</td>\n",
       "      <td>Beginner Level</td>\n",
       "      <td>1.0</td>\n",
       "      <td>2013-07-09 03:16:26+00:00</td>\n",
       "      <td>0</td>\n",
       "      <td>2013</td>\n",
       "      <td>html</td>\n",
       "    </tr>\n",
       "    <tr>\n",
       "      <th>13</th>\n",
       "      <td>1 Hour JavaScript</td>\n",
       "      <td>1</td>\n",
       "      <td>200</td>\n",
       "      <td>22999</td>\n",
       "      <td>602</td>\n",
       "      <td>18</td>\n",
       "      <td>Beginner Level</td>\n",
       "      <td>1.0</td>\n",
       "      <td>2013-07-04 15:27:02+00:00</td>\n",
       "      <td>0</td>\n",
       "      <td>2013</td>\n",
       "      <td>Javascript</td>\n",
       "    </tr>\n",
       "    <tr>\n",
       "      <th>14</th>\n",
       "      <td>1 hour jQuery</td>\n",
       "      <td>1</td>\n",
       "      <td>100</td>\n",
       "      <td>5456</td>\n",
       "      <td>133</td>\n",
       "      <td>25</td>\n",
       "      <td>Beginner Level</td>\n",
       "      <td>1.0</td>\n",
       "      <td>2013-08-03 14:20:52+00:00</td>\n",
       "      <td>0</td>\n",
       "      <td>2013</td>\n",
       "      <td>jQuery</td>\n",
       "    </tr>\n",
       "    <tr>\n",
       "      <th>24</th>\n",
       "      <td>17 Complete JavaScript   projects explained st...</td>\n",
       "      <td>1</td>\n",
       "      <td>185</td>\n",
       "      <td>327</td>\n",
       "      <td>26</td>\n",
       "      <td>106</td>\n",
       "      <td>Beginner Level</td>\n",
       "      <td>9.5</td>\n",
       "      <td>2016-10-26 14:03:38+00:00</td>\n",
       "      <td>0</td>\n",
       "      <td>2016</td>\n",
       "      <td>Javascript</td>\n",
       "    </tr>\n",
       "    <tr>\n",
       "      <th>34</th>\n",
       "      <td>3D Programming with WebGL and Babylon.js for B...</td>\n",
       "      <td>1</td>\n",
       "      <td>200</td>\n",
       "      <td>549</td>\n",
       "      <td>49</td>\n",
       "      <td>18</td>\n",
       "      <td>Intermediate Level</td>\n",
       "      <td>2.0</td>\n",
       "      <td>2015-08-31 21:07:26+00:00</td>\n",
       "      <td>0</td>\n",
       "      <td>2015</td>\n",
       "      <td>other</td>\n",
       "    </tr>\n",
       "    <tr>\n",
       "      <th>50</th>\n",
       "      <td>8 Beautiful Ruby on Rails Apps in 30 Days &amp; TD...</td>\n",
       "      <td>1</td>\n",
       "      <td>100</td>\n",
       "      <td>5962</td>\n",
       "      <td>466</td>\n",
       "      <td>132</td>\n",
       "      <td>All Levels</td>\n",
       "      <td>16.0</td>\n",
       "      <td>2016-03-08 07:36:40+00:00</td>\n",
       "      <td>0</td>\n",
       "      <td>2016</td>\n",
       "      <td>ruby</td>\n",
       "    </tr>\n",
       "    <tr>\n",
       "      <th>56</th>\n",
       "      <td>A 13 Hour SQL Server 2014 /ASP.NET/CSS/C#/jQue...</td>\n",
       "      <td>1</td>\n",
       "      <td>35</td>\n",
       "      <td>4183</td>\n",
       "      <td>231</td>\n",
       "      <td>86</td>\n",
       "      <td>Intermediate Level</td>\n",
       "      <td>14.0</td>\n",
       "      <td>2014-10-12 06:29:05+00:00</td>\n",
       "      <td>0</td>\n",
       "      <td>2014</td>\n",
       "      <td>css</td>\n",
       "    </tr>\n",
       "    <tr>\n",
       "      <th>61</th>\n",
       "      <td>A Beginner's Guide to the Meteor JavaScript Fr...</td>\n",
       "      <td>1</td>\n",
       "      <td>50</td>\n",
       "      <td>898</td>\n",
       "      <td>132</td>\n",
       "      <td>40</td>\n",
       "      <td>Beginner Level</td>\n",
       "      <td>2.0</td>\n",
       "      <td>2014-09-27 02:27:57+00:00</td>\n",
       "      <td>0</td>\n",
       "      <td>2014</td>\n",
       "      <td>Javascript</td>\n",
       "    </tr>\n",
       "    <tr>\n",
       "      <th>64</th>\n",
       "      <td>A Complete Laravel basics from beginner to expert</td>\n",
       "      <td>1</td>\n",
       "      <td>25</td>\n",
       "      <td>3492</td>\n",
       "      <td>61</td>\n",
       "      <td>12</td>\n",
       "      <td>All Levels</td>\n",
       "      <td>1.5</td>\n",
       "      <td>2016-12-06 22:07:53+00:00</td>\n",
       "      <td>0</td>\n",
       "      <td>2016</td>\n",
       "      <td>Laravel</td>\n",
       "    </tr>\n",
       "  </tbody>\n",
       "</table>\n",
       "</div>"
      ],
      "text/plain": [
       "                                         course_title  is_paid price  \\\n",
       "11                                         1 Hour CSS        1   100   \n",
       "12                                        1 Hour HTML        1   200   \n",
       "13                                  1 Hour JavaScript        1   200   \n",
       "14                                      1 hour jQuery        1   100   \n",
       "24  17 Complete JavaScript   projects explained st...        1   185   \n",
       "34  3D Programming with WebGL and Babylon.js for B...        1   200   \n",
       "50  8 Beautiful Ruby on Rails Apps in 30 Days & TD...        1   100   \n",
       "56  A 13 Hour SQL Server 2014 /ASP.NET/CSS/C#/jQue...        1    35   \n",
       "61  A Beginner's Guide to the Meteor JavaScript Fr...        1    50   \n",
       "64  A Complete Laravel basics from beginner to expert        1    25   \n",
       "\n",
       "    num_subscribers  num_reviews  num_lectures               level  \\\n",
       "11            18324          333            16      Beginner Level   \n",
       "12            16212          514            20      Beginner Level   \n",
       "13            22999          602            18      Beginner Level   \n",
       "14             5456          133            25      Beginner Level   \n",
       "24              327           26           106      Beginner Level   \n",
       "34              549           49            18  Intermediate Level   \n",
       "50             5962          466           132          All Levels   \n",
       "56             4183          231            86  Intermediate Level   \n",
       "61              898          132            40      Beginner Level   \n",
       "64             3492           61            12          All Levels   \n",
       "\n",
       "    content_duration       published_timestamp  subject  year    language  \n",
       "11               1.0 2013-07-09 20:27:14+00:00        0  2013         css  \n",
       "12               1.0 2013-07-09 03:16:26+00:00        0  2013        html  \n",
       "13               1.0 2013-07-04 15:27:02+00:00        0  2013  Javascript  \n",
       "14               1.0 2013-08-03 14:20:52+00:00        0  2013      jQuery  \n",
       "24               9.5 2016-10-26 14:03:38+00:00        0  2016  Javascript  \n",
       "34               2.0 2015-08-31 21:07:26+00:00        0  2015       other  \n",
       "50              16.0 2016-03-08 07:36:40+00:00        0  2016        ruby  \n",
       "56              14.0 2014-10-12 06:29:05+00:00        0  2014         css  \n",
       "61               2.0 2014-09-27 02:27:57+00:00        0  2014  Javascript  \n",
       "64               1.5 2016-12-06 22:07:53+00:00        0  2016     Laravel  "
      ]
     },
     "execution_count": 378,
     "metadata": {},
     "output_type": "execute_result"
    }
   ],
   "source": [
    "df2.head(10)"
   ]
  },
  {
   "cell_type": "code",
   "execution_count": 333,
   "id": "797bc574",
   "metadata": {},
   "outputs": [],
   "source": [
    "languages = ['Javascript','xsd','xslt','python','html','java','php','css','sql','aws','ruby',\n",
    "             'wordpress','perl','jQuery']"
   ]
  },
  {
   "cell_type": "code",
   "execution_count": 334,
   "id": "b70ac0fc",
   "metadata": {},
   "outputs": [],
   "source": [
    "lang_count = {}\n",
    "for title in df2['course_title']:\n",
    "    for language in languages:\n",
    "        if language.lower() in title.lower():\n",
    "            # print(language)\n",
    "            if language not in lang_count:\n",
    "                lang_count[language] = 0\n",
    "            lang_count[language] += 1"
   ]
  },
  {
   "cell_type": "code",
   "execution_count": 335,
   "id": "cfacb70f",
   "metadata": {},
   "outputs": [
    {
     "data": {
      "text/plain": [
       "{'css': 135,\n",
       " 'html': 168,\n",
       " 'Javascript': 136,\n",
       " 'java': 150,\n",
       " 'jQuery': 52,\n",
       " 'ruby': 27,\n",
       " 'sql': 29,\n",
       " 'python': 20,\n",
       " 'wordpress': 133,\n",
       " 'php': 100,\n",
       " 'aws': 10,\n",
       " 'xslt': 2,\n",
       " 'xsd': 1}"
      ]
     },
     "execution_count": 335,
     "metadata": {},
     "output_type": "execute_result"
    }
   ],
   "source": [
    "lang_count"
   ]
  },
  {
   "cell_type": "code",
   "execution_count": 336,
   "id": "0bc453f8",
   "metadata": {},
   "outputs": [
    {
     "data": {
      "text/plain": [
       "[('html', 168),\n",
       " ('java', 150),\n",
       " ('Javascript', 136),\n",
       " ('css', 135),\n",
       " ('wordpress', 133),\n",
       " ('php', 100),\n",
       " ('jQuery', 52),\n",
       " ('sql', 29),\n",
       " ('ruby', 27),\n",
       " ('python', 20),\n",
       " ('aws', 10),\n",
       " ('xslt', 2),\n",
       " ('xsd', 1)]"
      ]
     },
     "execution_count": 336,
     "metadata": {},
     "output_type": "execute_result"
    }
   ],
   "source": [
    "sorted(lang_count.items(), key=lambda x: x[1], reverse=True)"
   ]
  },
  {
   "cell_type": "code",
   "execution_count": 337,
   "id": "32720691",
   "metadata": {},
   "outputs": [
    {
     "data": {
      "text/plain": [
       "<AxesSubplot:title={'center':'Language Count'}, xlabel='Language'>"
      ]
     },
     "execution_count": 337,
     "metadata": {},
     "output_type": "execute_result"
    },
    {
     "data": {
      "image/png": "[encoded data removed]",
      "text/plain": [
       "<Figure size 1080x504 with 1 Axes>"
      ]
     },
     "metadata": {
      "needs_background": "light"
     },
     "output_type": "display_data"
    }
   ],
   "source": [
    "pd.Series(lang_count).sort_values(ascending=False). \\\n",
    "plot.bar(figsize=(15,7),title='Language Count',xlabel='Language')"
   ]
  },
  {
   "cell_type": "code",
   "execution_count": 338,
   "id": "10d02f74",
   "metadata": {},
   "outputs": [
    {
     "data": {
      "text/html": [
       "<div>\n",
       "<style scoped>\n",
       "    .dataframe tbody tr th:only-of-type {\n",
       "        vertical-align: middle;\n",
       "    }\n",
       "\n",
       "    .dataframe tbody tr th {\n",
       "        vertical-align: top;\n",
       "    }\n",
       "\n",
       "    .dataframe thead th {\n",
       "        text-align: right;\n",
       "    }\n",
       "</style>\n",
       "<table border=\"1\" class=\"dataframe\">\n",
       "  <thead>\n",
       "    <tr style=\"text-align: right;\">\n",
       "      <th></th>\n",
       "      <th>course_title</th>\n",
       "      <th>is_paid</th>\n",
       "      <th>price</th>\n",
       "      <th>num_subscribers</th>\n",
       "      <th>num_reviews</th>\n",
       "      <th>num_lectures</th>\n",
       "      <th>level</th>\n",
       "      <th>content_duration</th>\n",
       "      <th>published_timestamp</th>\n",
       "      <th>subject</th>\n",
       "      <th>year</th>\n",
       "    </tr>\n",
       "  </thead>\n",
       "  <tbody>\n",
       "    <tr>\n",
       "      <th>11</th>\n",
       "      <td>1 Hour CSS</td>\n",
       "      <td>1</td>\n",
       "      <td>100</td>\n",
       "      <td>18324</td>\n",
       "      <td>333</td>\n",
       "      <td>16</td>\n",
       "      <td>Beginner Level</td>\n",
       "      <td>1.0</td>\n",
       "      <td>2013-07-09 20:27:14+00:00</td>\n",
       "      <td>0</td>\n",
       "      <td>2013</td>\n",
       "    </tr>\n",
       "    <tr>\n",
       "      <th>12</th>\n",
       "      <td>1 Hour HTML</td>\n",
       "      <td>1</td>\n",
       "      <td>200</td>\n",
       "      <td>16212</td>\n",
       "      <td>514</td>\n",
       "      <td>20</td>\n",
       "      <td>Beginner Level</td>\n",
       "      <td>1.0</td>\n",
       "      <td>2013-07-09 03:16:26+00:00</td>\n",
       "      <td>0</td>\n",
       "      <td>2013</td>\n",
       "    </tr>\n",
       "    <tr>\n",
       "      <th>13</th>\n",
       "      <td>1 Hour JavaScript</td>\n",
       "      <td>1</td>\n",
       "      <td>200</td>\n",
       "      <td>22999</td>\n",
       "      <td>602</td>\n",
       "      <td>18</td>\n",
       "      <td>Beginner Level</td>\n",
       "      <td>1.0</td>\n",
       "      <td>2013-07-04 15:27:02+00:00</td>\n",
       "      <td>0</td>\n",
       "      <td>2013</td>\n",
       "    </tr>\n",
       "  </tbody>\n",
       "</table>\n",
       "</div>"
      ],
      "text/plain": [
       "         course_title  is_paid price  num_subscribers  num_reviews  \\\n",
       "11         1 Hour CSS        1   100            18324          333   \n",
       "12        1 Hour HTML        1   200            16212          514   \n",
       "13  1 Hour JavaScript        1   200            22999          602   \n",
       "\n",
       "    num_lectures           level  content_duration       published_timestamp  \\\n",
       "11            16  Beginner Level               1.0 2013-07-09 20:27:14+00:00   \n",
       "12            20  Beginner Level               1.0 2013-07-09 03:16:26+00:00   \n",
       "13            18  Beginner Level               1.0 2013-07-04 15:27:02+00:00   \n",
       "\n",
       "    subject  year  \n",
       "11        0  2013  \n",
       "12        0  2013  \n",
       "13        0  2013  "
      ]
     },
     "execution_count": 338,
     "metadata": {},
     "output_type": "execute_result"
    }
   ],
   "source": [
    "df2.head(3)"
   ]
  },
  {
   "cell_type": "code",
   "execution_count": 339,
   "id": "cdfc79d0",
   "metadata": {},
   "outputs": [
    {
     "data": {
      "text/plain": [
       "['Javascript',\n",
       " 'xsd',\n",
       " 'xslt',\n",
       " 'python',\n",
       " 'html',\n",
       " 'java',\n",
       " 'php',\n",
       " 'css',\n",
       " 'sql',\n",
       " 'aws',\n",
       " 'ruby',\n",
       " 'wordpress',\n",
       " 'perl',\n",
       " 'jQuery']"
      ]
     },
     "execution_count": 339,
     "metadata": {},
     "output_type": "execute_result"
    }
   ],
   "source": [
    "languages"
   ]
  },
  {
   "cell_type": "code",
   "execution_count": 395,
   "id": "45b8e478",
   "metadata": {},
   "outputs": [],
   "source": [
    "filename = './data/language.txt'\n",
    "filename2 = './data/language.json'\n",
    "\n",
    "def save_languages(filename, languages):\n",
    "    if not os.path.exists('./data'):\n",
    "        os.mkdir('./data')\n",
    "        \n",
    "    with open(filename,'w+') as file:\n",
    "        for l in set(languages):\n",
    "            file.write(f'{l};')\n",
    "        return True\n",
    "        \n",
    "\n",
    "def load_languages():\n",
    "    res = []\n",
    "    with open(filename,'r') as file:\n",
    "        for line in file.readlines():\n",
    "            for l in line.split(';'):\n",
    "                res.append(l)\n",
    "                \n",
    "    return res[:-1]\n",
    "\n",
    "def update_list(filename, word ,lang_list):\n",
    "    lang_list.extend(word)\n",
    "    save_languages(filename,lang_list)\n",
    "    return load_languages()"
   ]
  },
  {
   "cell_type": "code",
   "execution_count": 355,
   "id": "ec0c844b",
   "metadata": {},
   "outputs": [],
   "source": [
    "def to_lang(title):\n",
    "    languages = load_languages()\n",
    "    for language in languages:\n",
    "        if language.lower() in title.lower():\n",
    "            return language\n",
    "        \n",
    "    return 'other'\n",
    "    "
   ]
  },
  {
   "cell_type": "code",
   "execution_count": 380,
   "id": "d20cec7c",
   "metadata": {},
   "outputs": [],
   "source": [
    "# load_languages()"
   ]
  },
  {
   "cell_type": "code",
   "execution_count": 424,
   "id": "2d302e87",
   "metadata": {},
   "outputs": [],
   "source": [
    "df2['language'] = df2['course_title'].apply(to_lang)"
   ]
  },
  {
   "cell_type": "code",
   "execution_count": 425,
   "id": "7d066751",
   "metadata": {},
   "outputs": [
    {
     "data": {
      "text/html": [
       "<div>\n",
       "<style scoped>\n",
       "    .dataframe tbody tr th:only-of-type {\n",
       "        vertical-align: middle;\n",
       "    }\n",
       "\n",
       "    .dataframe tbody tr th {\n",
       "        vertical-align: top;\n",
       "    }\n",
       "\n",
       "    .dataframe thead th {\n",
       "        text-align: right;\n",
       "    }\n",
       "</style>\n",
       "<table border=\"1\" class=\"dataframe\">\n",
       "  <thead>\n",
       "    <tr style=\"text-align: right;\">\n",
       "      <th></th>\n",
       "      <th>course_title</th>\n",
       "      <th>is_paid</th>\n",
       "      <th>price</th>\n",
       "      <th>num_subscribers</th>\n",
       "      <th>num_reviews</th>\n",
       "      <th>num_lectures</th>\n",
       "      <th>level</th>\n",
       "      <th>content_duration</th>\n",
       "      <th>published_timestamp</th>\n",
       "      <th>subject</th>\n",
       "      <th>year</th>\n",
       "      <th>language</th>\n",
       "    </tr>\n",
       "  </thead>\n",
       "  <tbody>\n",
       "    <tr>\n",
       "      <th>11</th>\n",
       "      <td>1 Hour CSS</td>\n",
       "      <td>1</td>\n",
       "      <td>100</td>\n",
       "      <td>18324</td>\n",
       "      <td>333</td>\n",
       "      <td>16</td>\n",
       "      <td>Beginner Level</td>\n",
       "      <td>1.0</td>\n",
       "      <td>2013-07-09 20:27:14+00:00</td>\n",
       "      <td>0</td>\n",
       "      <td>2013</td>\n",
       "      <td>css</td>\n",
       "    </tr>\n",
       "    <tr>\n",
       "      <th>12</th>\n",
       "      <td>1 Hour HTML</td>\n",
       "      <td>1</td>\n",
       "      <td>200</td>\n",
       "      <td>16212</td>\n",
       "      <td>514</td>\n",
       "      <td>20</td>\n",
       "      <td>Beginner Level</td>\n",
       "      <td>1.0</td>\n",
       "      <td>2013-07-09 03:16:26+00:00</td>\n",
       "      <td>0</td>\n",
       "      <td>2013</td>\n",
       "      <td>html</td>\n",
       "    </tr>\n",
       "    <tr>\n",
       "      <th>13</th>\n",
       "      <td>1 Hour JavaScript</td>\n",
       "      <td>1</td>\n",
       "      <td>200</td>\n",
       "      <td>22999</td>\n",
       "      <td>602</td>\n",
       "      <td>18</td>\n",
       "      <td>Beginner Level</td>\n",
       "      <td>1.0</td>\n",
       "      <td>2013-07-04 15:27:02+00:00</td>\n",
       "      <td>0</td>\n",
       "      <td>2013</td>\n",
       "      <td>Javascript</td>\n",
       "    </tr>\n",
       "  </tbody>\n",
       "</table>\n",
       "</div>"
      ],
      "text/plain": [
       "         course_title  is_paid price  num_subscribers  num_reviews  \\\n",
       "11         1 Hour CSS        1   100            18324          333   \n",
       "12        1 Hour HTML        1   200            16212          514   \n",
       "13  1 Hour JavaScript        1   200            22999          602   \n",
       "\n",
       "    num_lectures           level  content_duration       published_timestamp  \\\n",
       "11            16  Beginner Level               1.0 2013-07-09 20:27:14+00:00   \n",
       "12            20  Beginner Level               1.0 2013-07-09 03:16:26+00:00   \n",
       "13            18  Beginner Level               1.0 2013-07-04 15:27:02+00:00   \n",
       "\n",
       "    subject  year    language  \n",
       "11        0  2013         css  \n",
       "12        0  2013        html  \n",
       "13        0  2013  Javascript  "
      ]
     },
     "execution_count": 425,
     "metadata": {},
     "output_type": "execute_result"
    }
   ],
   "source": [
    "df2.head(3)"
   ]
  },
  {
   "cell_type": "code",
   "execution_count": 426,
   "id": "ef0dace3",
   "metadata": {},
   "outputs": [
    {
     "data": {
      "text/plain": [
       "['Javascript',\n",
       " 'xsd',\n",
       " 'xslt',\n",
       " 'python',\n",
       " 'html',\n",
       " 'java',\n",
       " 'php',\n",
       " 'css',\n",
       " 'sql',\n",
       " 'aws',\n",
       " 'ruby',\n",
       " 'wordpress',\n",
       " 'perl',\n",
       " 'jQuery']"
      ]
     },
     "execution_count": 426,
     "metadata": {},
     "output_type": "execute_result"
    }
   ],
   "source": [
    "languages"
   ]
  },
  {
   "cell_type": "code",
   "execution_count": 427,
   "id": "d02cdd60",
   "metadata": {},
   "outputs": [
    {
     "data": {
      "text/plain": [
       "language\n",
       "Adobe         0.002502\n",
       "Ajax          0.005004\n",
       "Javascript    0.112594\n",
       "Laravel       0.015013\n",
       "Unix          0.002502\n",
       "XML           0.008340\n",
       "aws           0.006672\n",
       "css           0.097581\n",
       "html          0.052544\n",
       "jQuery        0.027523\n",
       "java          0.010008\n",
       "other         0.422852\n",
       "php           0.061718\n",
       "python        0.015847\n",
       "ruby          0.022519\n",
       "sql           0.024187\n",
       "wordpress     0.110926\n",
       "xsd           0.000834\n",
       "xslt          0.000834\n",
       "Name: course_title, dtype: float64"
      ]
     },
     "execution_count": 427,
     "metadata": {},
     "output_type": "execute_result"
    }
   ],
   "source": [
    "df2_groupby_area = (df2.groupby('language')['course_title'].count() / len(df2)) \n",
    "df2_groupby_area"
   ]
  },
  {
   "cell_type": "code",
   "execution_count": 428,
   "id": "f72d308a",
   "metadata": {},
   "outputs": [
    {
     "data": {
      "text/plain": [
       "<AxesSubplot:xlabel='language'>"
      ]
     },
     "execution_count": 428,
     "metadata": {},
     "output_type": "execute_result"
    },
    {
     "data": {
      "image/png": "[encoded data removed]",
      "text/plain": [
       "<Figure size 1080x504 with 1 Axes>"
      ]
     },
     "metadata": {
      "needs_background": "light"
     },
     "output_type": "display_data"
    }
   ],
   "source": [
    "df2_groupby_area.sort_values(ascending=False).plot.bar(figsize=(15,7))"
   ]
  },
  {
   "cell_type": "code",
   "execution_count": 429,
   "id": "c1d5e982",
   "metadata": {},
   "outputs": [],
   "source": [
    "df2_group_rep= (df2.groupby('language')['course_title'].count() / len(df2)) \\\n",
    ".sort_values(ascending=False)[1:]"
   ]
  },
  {
   "cell_type": "code",
   "execution_count": 347,
   "id": "391a5de7",
   "metadata": {},
   "outputs": [
    {
     "data": {
      "text/plain": [
       "<AxesSubplot:xlabel='language'>"
      ]
     },
     "execution_count": 347,
     "metadata": {},
     "output_type": "execute_result"
    },
    {
     "data": {
      "image/png": "[encoded data removed]",
      "text/plain": [
       "<Figure size 1080x504 with 1 Axes>"
      ]
     },
     "metadata": {
      "needs_background": "light"
     },
     "output_type": "display_data"
    }
   ],
   "source": [
    "df2_group_rep.plot.bar(figsize=(15,7))"
   ]
  },
  {
   "cell_type": "code",
   "execution_count": 348,
   "id": "d711f05b",
   "metadata": {},
   "outputs": [
    {
     "data": {
      "text/plain": [
       "language\n",
       "other         0.428929\n",
       "html          0.216066\n",
       "Javascript    0.120023\n",
       "php           0.078784\n",
       "wordpress     0.061095\n",
       "css           0.021509\n",
       "jQuery        0.018976\n",
       "python        0.018955\n",
       "ruby          0.018057\n",
       "java          0.005261\n",
       "Laravel       0.004546\n",
       "aws           0.003353\n",
       "Adobe         0.002219\n",
       "XML           0.001468\n",
       "sql           0.000324\n",
       "Unix          0.000176\n",
       "xslt          0.000164\n",
       "xsd           0.000095\n",
       "Name: num_subscribers, dtype: float64"
      ]
     },
     "execution_count": 348,
     "metadata": {},
     "output_type": "execute_result"
    }
   ],
   "source": [
    "df2_group_subavg = (df2.groupby('language')['num_subscribers'].sum() / df2['num_subscribers'].sum()) \\\n",
    ".sort_values(ascending=False)\n",
    "df2_group_subavg"
   ]
  },
  {
   "cell_type": "code",
   "execution_count": 351,
   "id": "5d090ac9",
   "metadata": {},
   "outputs": [
    {
     "data": {
      "text/plain": [
       "<AxesSubplot:xlabel='language'>"
      ]
     },
     "execution_count": 351,
     "metadata": {},
     "output_type": "execute_result"
    },
    {
     "data": {
      "image/png": "[encoded data removed]",
      "text/plain": [
       "<Figure size 1080x504 with 1 Axes>"
      ]
     },
     "metadata": {
      "needs_background": "light"
     },
     "output_type": "display_data"
    }
   ],
   "source": [
    "df2_group_subavg[1:].plot.bar(figsize=(15,7))"
   ]
  },
  {
   "cell_type": "code",
   "execution_count": 430,
   "id": "2341d73a",
   "metadata": {},
   "outputs": [],
   "source": [
    "df2_others = df2[df2['language'] == 'other']"
   ]
  },
  {
   "cell_type": "code",
   "execution_count": 431,
   "id": "7b6f86f1",
   "metadata": {},
   "outputs": [
    {
     "data": {
      "text/html": [
       "<div>\n",
       "<style scoped>\n",
       "    .dataframe tbody tr th:only-of-type {\n",
       "        vertical-align: middle;\n",
       "    }\n",
       "\n",
       "    .dataframe tbody tr th {\n",
       "        vertical-align: top;\n",
       "    }\n",
       "\n",
       "    .dataframe thead th {\n",
       "        text-align: right;\n",
       "    }\n",
       "</style>\n",
       "<table border=\"1\" class=\"dataframe\">\n",
       "  <thead>\n",
       "    <tr style=\"text-align: right;\">\n",
       "      <th></th>\n",
       "      <th>course_title</th>\n",
       "      <th>is_paid</th>\n",
       "      <th>price</th>\n",
       "      <th>num_subscribers</th>\n",
       "      <th>num_reviews</th>\n",
       "      <th>num_lectures</th>\n",
       "      <th>level</th>\n",
       "      <th>content_duration</th>\n",
       "      <th>published_timestamp</th>\n",
       "      <th>subject</th>\n",
       "      <th>year</th>\n",
       "      <th>language</th>\n",
       "    </tr>\n",
       "  </thead>\n",
       "  <tbody>\n",
       "    <tr>\n",
       "      <th>34</th>\n",
       "      <td>3D Programming with WebGL and Babylon.js for B...</td>\n",
       "      <td>1</td>\n",
       "      <td>200</td>\n",
       "      <td>549</td>\n",
       "      <td>49</td>\n",
       "      <td>18</td>\n",
       "      <td>Intermediate Level</td>\n",
       "      <td>2.0</td>\n",
       "      <td>2015-08-31 21:07:26+00:00</td>\n",
       "      <td>0</td>\n",
       "      <td>2015</td>\n",
       "      <td>other</td>\n",
       "    </tr>\n",
       "    <tr>\n",
       "      <th>209</th>\n",
       "      <td>Advanced Node.js Development</td>\n",
       "      <td>1</td>\n",
       "      <td>55</td>\n",
       "      <td>2565</td>\n",
       "      <td>32</td>\n",
       "      <td>41</td>\n",
       "      <td>Expert Level</td>\n",
       "      <td>3.0</td>\n",
       "      <td>2014-08-28 03:35:30+00:00</td>\n",
       "      <td>0</td>\n",
       "      <td>2014</td>\n",
       "      <td>other</td>\n",
       "    </tr>\n",
       "    <tr>\n",
       "      <th>213</th>\n",
       "      <td>Advanced Prezi: Make Amazing Presentations</td>\n",
       "      <td>1</td>\n",
       "      <td>30</td>\n",
       "      <td>2200</td>\n",
       "      <td>25</td>\n",
       "      <td>12</td>\n",
       "      <td>All Levels</td>\n",
       "      <td>1.0</td>\n",
       "      <td>2016-01-24 20:47:28+00:00</td>\n",
       "      <td>0</td>\n",
       "      <td>2016</td>\n",
       "      <td>other</td>\n",
       "    </tr>\n",
       "    <tr>\n",
       "      <th>214</th>\n",
       "      <td>Advanced React and Redux</td>\n",
       "      <td>1</td>\n",
       "      <td>140</td>\n",
       "      <td>21998</td>\n",
       "      <td>3326</td>\n",
       "      <td>119</td>\n",
       "      <td>Intermediate Level</td>\n",
       "      <td>12.0</td>\n",
       "      <td>2016-03-12 22:13:46+00:00</td>\n",
       "      <td>0</td>\n",
       "      <td>2016</td>\n",
       "      <td>other</td>\n",
       "    </tr>\n",
       "    <tr>\n",
       "      <th>235</th>\n",
       "      <td>A-Frame WebVR Programming Tutorial Series (Vir...</td>\n",
       "      <td>1</td>\n",
       "      <td>40</td>\n",
       "      <td>6648</td>\n",
       "      <td>16</td>\n",
       "      <td>22</td>\n",
       "      <td>Beginner Level</td>\n",
       "      <td>1.5</td>\n",
       "      <td>2017-05-24 05:25:53+00:00</td>\n",
       "      <td>0</td>\n",
       "      <td>2017</td>\n",
       "      <td>other</td>\n",
       "    </tr>\n",
       "    <tr>\n",
       "      <th>248</th>\n",
       "      <td>All about NodeJS</td>\n",
       "      <td>1</td>\n",
       "      <td>50</td>\n",
       "      <td>8755</td>\n",
       "      <td>931</td>\n",
       "      <td>133</td>\n",
       "      <td>All Levels</td>\n",
       "      <td>15.5</td>\n",
       "      <td>2014-12-19 20:46:50+00:00</td>\n",
       "      <td>0</td>\n",
       "      <td>2014</td>\n",
       "      <td>other</td>\n",
       "    </tr>\n",
       "    <tr>\n",
       "      <th>250</th>\n",
       "      <td>All You Need To Know About AngularJS - Trainin...</td>\n",
       "      <td>1</td>\n",
       "      <td>50</td>\n",
       "      <td>1936</td>\n",
       "      <td>88</td>\n",
       "      <td>53</td>\n",
       "      <td>All Levels</td>\n",
       "      <td>5.0</td>\n",
       "      <td>2014-03-07 19:09:28+00:00</td>\n",
       "      <td>0</td>\n",
       "      <td>2014</td>\n",
       "      <td>other</td>\n",
       "    </tr>\n",
       "    <tr>\n",
       "      <th>255</th>\n",
       "      <td>Amazon Alexa Development: From Beginner to Int...</td>\n",
       "      <td>1</td>\n",
       "      <td>140</td>\n",
       "      <td>1858</td>\n",
       "      <td>110</td>\n",
       "      <td>52</td>\n",
       "      <td>All Levels</td>\n",
       "      <td>2.5</td>\n",
       "      <td>2016-12-03 20:51:00+00:00</td>\n",
       "      <td>0</td>\n",
       "      <td>2016</td>\n",
       "      <td>other</td>\n",
       "    </tr>\n",
       "    <tr>\n",
       "      <th>256</th>\n",
       "      <td>Amazon s3 Mastery - THE How-To' Guides For Ama...</td>\n",
       "      <td>1</td>\n",
       "      <td>95</td>\n",
       "      <td>1811</td>\n",
       "      <td>118</td>\n",
       "      <td>36</td>\n",
       "      <td>All Levels</td>\n",
       "      <td>3.5</td>\n",
       "      <td>2015-03-18 21:27:54+00:00</td>\n",
       "      <td>0</td>\n",
       "      <td>2015</td>\n",
       "      <td>other</td>\n",
       "    </tr>\n",
       "    <tr>\n",
       "      <th>269</th>\n",
       "      <td>Angular (Angular 2 or 4) &amp; NodeJS - The MEAN S...</td>\n",
       "      <td>1</td>\n",
       "      <td>150</td>\n",
       "      <td>17297</td>\n",
       "      <td>3166</td>\n",
       "      <td>111</td>\n",
       "      <td>All Levels</td>\n",
       "      <td>8.5</td>\n",
       "      <td>2016-05-02 23:09:15+00:00</td>\n",
       "      <td>0</td>\n",
       "      <td>2016</td>\n",
       "      <td>other</td>\n",
       "    </tr>\n",
       "  </tbody>\n",
       "</table>\n",
       "</div>"
      ],
      "text/plain": [
       "                                          course_title  is_paid price  \\\n",
       "34   3D Programming with WebGL and Babylon.js for B...        1   200   \n",
       "209                       Advanced Node.js Development        1    55   \n",
       "213        Advanced Prezi: Make Amazing Presentations         1    30   \n",
       "214                           Advanced React and Redux        1   140   \n",
       "235  A-Frame WebVR Programming Tutorial Series (Vir...        1    40   \n",
       "248                                   All about NodeJS        1    50   \n",
       "250  All You Need To Know About AngularJS - Trainin...        1    50   \n",
       "255  Amazon Alexa Development: From Beginner to Int...        1   140   \n",
       "256  Amazon s3 Mastery - THE How-To' Guides For Ama...        1    95   \n",
       "269  Angular (Angular 2 or 4) & NodeJS - The MEAN S...        1   150   \n",
       "\n",
       "     num_subscribers  num_reviews  num_lectures               level  \\\n",
       "34               549           49            18  Intermediate Level   \n",
       "209             2565           32            41        Expert Level   \n",
       "213             2200           25            12          All Levels   \n",
       "214            21998         3326           119  Intermediate Level   \n",
       "235             6648           16            22      Beginner Level   \n",
       "248             8755          931           133          All Levels   \n",
       "250             1936           88            53          All Levels   \n",
       "255             1858          110            52          All Levels   \n",
       "256             1811          118            36          All Levels   \n",
       "269            17297         3166           111          All Levels   \n",
       "\n",
       "     content_duration       published_timestamp  subject  year language  \n",
       "34                2.0 2015-08-31 21:07:26+00:00        0  2015    other  \n",
       "209               3.0 2014-08-28 03:35:30+00:00        0  2014    other  \n",
       "213               1.0 2016-01-24 20:47:28+00:00        0  2016    other  \n",
       "214              12.0 2016-03-12 22:13:46+00:00        0  2016    other  \n",
       "235               1.5 2017-05-24 05:25:53+00:00        0  2017    other  \n",
       "248              15.5 2014-12-19 20:46:50+00:00        0  2014    other  \n",
       "250               5.0 2014-03-07 19:09:28+00:00        0  2014    other  \n",
       "255               2.5 2016-12-03 20:51:00+00:00        0  2016    other  \n",
       "256               3.5 2015-03-18 21:27:54+00:00        0  2015    other  \n",
       "269               8.5 2016-05-02 23:09:15+00:00        0  2016    other  "
      ]
     },
     "execution_count": 431,
     "metadata": {},
     "output_type": "execute_result"
    }
   ],
   "source": [
    "df2_others.head(10)"
   ]
  },
  {
   "cell_type": "code",
   "execution_count": 432,
   "id": "b66fc7f8",
   "metadata": {},
   "outputs": [
    {
     "data": {
      "text/html": [
       "<div>\n",
       "<style scoped>\n",
       "    .dataframe tbody tr th:only-of-type {\n",
       "        vertical-align: middle;\n",
       "    }\n",
       "\n",
       "    .dataframe tbody tr th {\n",
       "        vertical-align: top;\n",
       "    }\n",
       "\n",
       "    .dataframe thead th {\n",
       "        text-align: right;\n",
       "    }\n",
       "</style>\n",
       "<table border=\"1\" class=\"dataframe\">\n",
       "  <thead>\n",
       "    <tr style=\"text-align: right;\">\n",
       "      <th></th>\n",
       "      <th>course_title</th>\n",
       "      <th>is_paid</th>\n",
       "      <th>price</th>\n",
       "      <th>num_subscribers</th>\n",
       "      <th>num_reviews</th>\n",
       "      <th>num_lectures</th>\n",
       "      <th>level</th>\n",
       "      <th>content_duration</th>\n",
       "      <th>published_timestamp</th>\n",
       "      <th>subject</th>\n",
       "      <th>year</th>\n",
       "      <th>language</th>\n",
       "    </tr>\n",
       "  </thead>\n",
       "  <tbody>\n",
       "    <tr>\n",
       "      <th>3575</th>\n",
       "      <td>Web Security: Common Vulnerabilities And Their...</td>\n",
       "      <td>1</td>\n",
       "      <td>50</td>\n",
       "      <td>1547</td>\n",
       "      <td>30</td>\n",
       "      <td>56</td>\n",
       "      <td>All Levels</td>\n",
       "      <td>8.0</td>\n",
       "      <td>2016-07-14 16:24:08+00:00</td>\n",
       "      <td>0</td>\n",
       "      <td>2016</td>\n",
       "      <td>other</td>\n",
       "    </tr>\n",
       "    <tr>\n",
       "      <th>3576</th>\n",
       "      <td>Web Site for Beginners - Learn Web Building li...</td>\n",
       "      <td>1</td>\n",
       "      <td>20</td>\n",
       "      <td>9425</td>\n",
       "      <td>147</td>\n",
       "      <td>14</td>\n",
       "      <td>Beginner Level</td>\n",
       "      <td>1.5</td>\n",
       "      <td>2016-08-10 00:40:59+00:00</td>\n",
       "      <td>0</td>\n",
       "      <td>2016</td>\n",
       "      <td>other</td>\n",
       "    </tr>\n",
       "    <tr>\n",
       "      <th>3577</th>\n",
       "      <td>Webpack 1 &amp; 2 - The Complete Guide</td>\n",
       "      <td>1</td>\n",
       "      <td>40</td>\n",
       "      <td>252</td>\n",
       "      <td>46</td>\n",
       "      <td>79</td>\n",
       "      <td>All Levels</td>\n",
       "      <td>6.5</td>\n",
       "      <td>2017-03-10 22:04:41+00:00</td>\n",
       "      <td>0</td>\n",
       "      <td>2017</td>\n",
       "      <td>other</td>\n",
       "    </tr>\n",
       "    <tr>\n",
       "      <th>3578</th>\n",
       "      <td>Webpack 2: The Complete Developer's Guide</td>\n",
       "      <td>1</td>\n",
       "      <td>75</td>\n",
       "      <td>8964</td>\n",
       "      <td>1893</td>\n",
       "      <td>56</td>\n",
       "      <td>All Levels</td>\n",
       "      <td>5.5</td>\n",
       "      <td>2017-01-03 20:09:17+00:00</td>\n",
       "      <td>0</td>\n",
       "      <td>2017</td>\n",
       "      <td>other</td>\n",
       "    </tr>\n",
       "    <tr>\n",
       "      <th>3579</th>\n",
       "      <td>Website Builder Software Previews</td>\n",
       "      <td>1</td>\n",
       "      <td>25</td>\n",
       "      <td>1406</td>\n",
       "      <td>12</td>\n",
       "      <td>20</td>\n",
       "      <td>Beginner Level</td>\n",
       "      <td>1.0</td>\n",
       "      <td>2016-12-15 04:55:26+00:00</td>\n",
       "      <td>0</td>\n",
       "      <td>2016</td>\n",
       "      <td>other</td>\n",
       "    </tr>\n",
       "    <tr>\n",
       "      <th>3581</th>\n",
       "      <td>Website Secrets: Get a Gorgeous Website on the...</td>\n",
       "      <td>1</td>\n",
       "      <td>50</td>\n",
       "      <td>12328</td>\n",
       "      <td>15</td>\n",
       "      <td>32</td>\n",
       "      <td>All Levels</td>\n",
       "      <td>2.0</td>\n",
       "      <td>2014-07-04 08:17:41+00:00</td>\n",
       "      <td>0</td>\n",
       "      <td>2014</td>\n",
       "      <td>other</td>\n",
       "    </tr>\n",
       "    <tr>\n",
       "      <th>3587</th>\n",
       "      <td>What’s New in Bootstrap 4</td>\n",
       "      <td>1</td>\n",
       "      <td>20</td>\n",
       "      <td>130</td>\n",
       "      <td>14</td>\n",
       "      <td>20</td>\n",
       "      <td>All Levels</td>\n",
       "      <td>37.0</td>\n",
       "      <td>2015-09-07 21:05:06+00:00</td>\n",
       "      <td>0</td>\n",
       "      <td>2015</td>\n",
       "      <td>other</td>\n",
       "    </tr>\n",
       "    <tr>\n",
       "      <th>3649</th>\n",
       "      <td>WP Plugin Development - Build your own plugin!</td>\n",
       "      <td>1</td>\n",
       "      <td>200</td>\n",
       "      <td>5439</td>\n",
       "      <td>22</td>\n",
       "      <td>24</td>\n",
       "      <td>Beginner Level</td>\n",
       "      <td>4.0</td>\n",
       "      <td>2017-06-13 18:39:12+00:00</td>\n",
       "      <td>0</td>\n",
       "      <td>2017</td>\n",
       "      <td>other</td>\n",
       "    </tr>\n",
       "    <tr>\n",
       "      <th>3664</th>\n",
       "      <td>XPATH :basics for beginners</td>\n",
       "      <td>1</td>\n",
       "      <td>40</td>\n",
       "      <td>878</td>\n",
       "      <td>6</td>\n",
       "      <td>8</td>\n",
       "      <td>All Levels</td>\n",
       "      <td>37.0</td>\n",
       "      <td>2016-09-27 15:20:47+00:00</td>\n",
       "      <td>0</td>\n",
       "      <td>2016</td>\n",
       "      <td>other</td>\n",
       "    </tr>\n",
       "    <tr>\n",
       "      <th>3665</th>\n",
       "      <td>XQUERY :basics for beginners</td>\n",
       "      <td>1</td>\n",
       "      <td>40</td>\n",
       "      <td>937</td>\n",
       "      <td>2</td>\n",
       "      <td>6</td>\n",
       "      <td>All Levels</td>\n",
       "      <td>38.0</td>\n",
       "      <td>2016-09-27 15:26:05+00:00</td>\n",
       "      <td>0</td>\n",
       "      <td>2016</td>\n",
       "      <td>other</td>\n",
       "    </tr>\n",
       "  </tbody>\n",
       "</table>\n",
       "</div>"
      ],
      "text/plain": [
       "                                           course_title  is_paid price  \\\n",
       "3575  Web Security: Common Vulnerabilities And Their...        1    50   \n",
       "3576  Web Site for Beginners - Learn Web Building li...        1    20   \n",
       "3577                 Webpack 1 & 2 - The Complete Guide        1    40   \n",
       "3578          Webpack 2: The Complete Developer's Guide        1    75   \n",
       "3579                  Website Builder Software Previews        1    25   \n",
       "3581  Website Secrets: Get a Gorgeous Website on the...        1    50   \n",
       "3587                          What’s New in Bootstrap 4        1    20   \n",
       "3649     WP Plugin Development - Build your own plugin!        1   200   \n",
       "3664                        XPATH :basics for beginners        1    40   \n",
       "3665                       XQUERY :basics for beginners        1    40   \n",
       "\n",
       "      num_subscribers  num_reviews  num_lectures           level  \\\n",
       "3575             1547           30            56      All Levels   \n",
       "3576             9425          147            14  Beginner Level   \n",
       "3577              252           46            79      All Levels   \n",
       "3578             8964         1893            56      All Levels   \n",
       "3579             1406           12            20  Beginner Level   \n",
       "3581            12328           15            32      All Levels   \n",
       "3587              130           14            20      All Levels   \n",
       "3649             5439           22            24  Beginner Level   \n",
       "3664              878            6             8      All Levels   \n",
       "3665              937            2             6      All Levels   \n",
       "\n",
       "      content_duration       published_timestamp  subject  year language  \n",
       "3575               8.0 2016-07-14 16:24:08+00:00        0  2016    other  \n",
       "3576               1.5 2016-08-10 00:40:59+00:00        0  2016    other  \n",
       "3577               6.5 2017-03-10 22:04:41+00:00        0  2017    other  \n",
       "3578               5.5 2017-01-03 20:09:17+00:00        0  2017    other  \n",
       "3579               1.0 2016-12-15 04:55:26+00:00        0  2016    other  \n",
       "3581               2.0 2014-07-04 08:17:41+00:00        0  2014    other  \n",
       "3587              37.0 2015-09-07 21:05:06+00:00        0  2015    other  \n",
       "3649               4.0 2017-06-13 18:39:12+00:00        0  2017    other  \n",
       "3664              37.0 2016-09-27 15:20:47+00:00        0  2016    other  \n",
       "3665              38.0 2016-09-27 15:26:05+00:00        0  2016    other  "
      ]
     },
     "execution_count": 432,
     "metadata": {},
     "output_type": "execute_result"
    }
   ],
   "source": [
    "df2_others.tail(10)"
   ]
  },
  {
   "cell_type": "code",
   "execution_count": 396,
   "id": "57096629",
   "metadata": {},
   "outputs": [],
   "source": [
    "more_languages = ['bootstrap']"
   ]
  },
  {
   "cell_type": "code",
   "execution_count": 397,
   "id": "10a885b3",
   "metadata": {},
   "outputs": [
    {
     "data": {
      "text/plain": [
       "'./data/language.txt'"
      ]
     },
     "execution_count": 397,
     "metadata": {},
     "output_type": "execute_result"
    }
   ],
   "source": [
    "filename"
   ]
  },
  {
   "cell_type": "code",
   "execution_count": 398,
   "id": "a1cf3f04",
   "metadata": {},
   "outputs": [
    {
     "data": {
      "text/plain": [
       "['Ajax']"
      ]
     },
     "execution_count": 398,
     "metadata": {},
     "output_type": "execute_result"
    }
   ],
   "source": [
    "more_languages"
   ]
  },
  {
   "cell_type": "code",
   "execution_count": 401,
   "id": "589699e9",
   "metadata": {},
   "outputs": [
    {
     "data": {
      "text/plain": [
       "['wordpress',\n",
       " 'xsd',\n",
       " 'Unix',\n",
       " 'ruby',\n",
       " 'XML',\n",
       " 'sql',\n",
       " 'Javascript',\n",
       " 'php',\n",
       " 'css',\n",
       " 'Adobe',\n",
       " 'Laravel',\n",
       " 'python',\n",
       " 'java',\n",
       " 'aws',\n",
       " 'jQuery',\n",
       " 'perl',\n",
       " 'xslt',\n",
       " 'html',\n",
       " 'Ajax']"
      ]
     },
     "execution_count": 401,
     "metadata": {},
     "output_type": "execute_result"
    }
   ],
   "source": [
    "load_languages()"
   ]
  },
  {
   "cell_type": "code",
   "execution_count": 402,
   "id": "df564e24",
   "metadata": {},
   "outputs": [
    {
     "data": {
      "text/plain": [
       "['wordpress',\n",
       " 'xsd',\n",
       " 'Unix',\n",
       " 'ruby',\n",
       " 'XML',\n",
       " 'sql',\n",
       " 'Javascript',\n",
       " 'php',\n",
       " 'css',\n",
       " 'Adobe',\n",
       " 'Laravel',\n",
       " 'python',\n",
       " 'java',\n",
       " 'aws',\n",
       " 'jQuery',\n",
       " 'perl',\n",
       " 'xslt',\n",
       " 'html',\n",
       " 'Ajax']"
      ]
     },
     "execution_count": 402,
     "metadata": {},
     "output_type": "execute_result"
    }
   ],
   "source": [
    "update_list(filename, more_languages,load_languages())"
   ]
  },
  {
   "cell_type": "code",
   "execution_count": 414,
   "id": "8ca8e5b6",
   "metadata": {},
   "outputs": [],
   "source": [
    "temp = ['num_subscribers','num_reviews','num_lectures']\n"
   ]
  },
  {
   "cell_type": "code",
   "execution_count": 409,
   "id": "064ca9d9",
   "metadata": {},
   "outputs": [
    {
     "data": {
      "text/html": [
       "<div>\n",
       "<style scoped>\n",
       "    .dataframe tbody tr th:only-of-type {\n",
       "        vertical-align: middle;\n",
       "    }\n",
       "\n",
       "    .dataframe tbody tr th {\n",
       "        vertical-align: top;\n",
       "    }\n",
       "\n",
       "    .dataframe thead th {\n",
       "        text-align: right;\n",
       "    }\n",
       "</style>\n",
       "<table border=\"1\" class=\"dataframe\">\n",
       "  <thead>\n",
       "    <tr style=\"text-align: right;\">\n",
       "      <th></th>\n",
       "      <th>num_subscribers</th>\n",
       "      <th>num_reviews</th>\n",
       "      <th>num_lectures</th>\n",
       "    </tr>\n",
       "    <tr>\n",
       "      <th>language</th>\n",
       "      <th></th>\n",
       "      <th></th>\n",
       "      <th></th>\n",
       "    </tr>\n",
       "  </thead>\n",
       "  <tbody>\n",
       "    <tr>\n",
       "      <th>Adobe</th>\n",
       "      <td>5871.000000</td>\n",
       "      <td>32.666667</td>\n",
       "      <td>31.333333</td>\n",
       "    </tr>\n",
       "    <tr>\n",
       "      <th>Javascript</th>\n",
       "      <td>7004.845588</td>\n",
       "      <td>376.419118</td>\n",
       "      <td>43.852941</td>\n",
       "    </tr>\n",
       "    <tr>\n",
       "      <th>Laravel</th>\n",
       "      <td>2122.352941</td>\n",
       "      <td>100.117647</td>\n",
       "      <td>44.529412</td>\n",
       "    </tr>\n",
       "    <tr>\n",
       "      <th>Unix</th>\n",
       "      <td>464.666667</td>\n",
       "      <td>14.000000</td>\n",
       "      <td>39.666667</td>\n",
       "    </tr>\n",
       "    <tr>\n",
       "      <th>XML</th>\n",
       "      <td>1294.777778</td>\n",
       "      <td>27.666667</td>\n",
       "      <td>44.555556</td>\n",
       "    </tr>\n",
       "    <tr>\n",
       "      <th>aws</th>\n",
       "      <td>2956.666667</td>\n",
       "      <td>132.111111</td>\n",
       "      <td>50.111111</td>\n",
       "    </tr>\n",
       "    <tr>\n",
       "      <th>css</th>\n",
       "      <td>5021.323529</td>\n",
       "      <td>103.735294</td>\n",
       "      <td>37.323529</td>\n",
       "    </tr>\n",
       "    <tr>\n",
       "      <th>html</th>\n",
       "      <td>11208.993464</td>\n",
       "      <td>362.294118</td>\n",
       "      <td>45.803922</td>\n",
       "    </tr>\n",
       "    <tr>\n",
       "      <th>jQuery</th>\n",
       "      <td>4429.852941</td>\n",
       "      <td>100.000000</td>\n",
       "      <td>45.411765</td>\n",
       "    </tr>\n",
       "    <tr>\n",
       "      <th>java</th>\n",
       "      <td>2982.785714</td>\n",
       "      <td>212.857143</td>\n",
       "      <td>59.142857</td>\n",
       "    </tr>\n",
       "    <tr>\n",
       "      <th>other</th>\n",
       "      <td>6636.516569</td>\n",
       "      <td>497.799220</td>\n",
       "      <td>59.516569</td>\n",
       "    </tr>\n",
       "    <tr>\n",
       "      <th>php</th>\n",
       "      <td>6652.468085</td>\n",
       "      <td>290.563830</td>\n",
       "      <td>53.212766</td>\n",
       "    </tr>\n",
       "    <tr>\n",
       "      <th>python</th>\n",
       "      <td>7522.700000</td>\n",
       "      <td>333.400000</td>\n",
       "      <td>91.600000</td>\n",
       "    </tr>\n",
       "    <tr>\n",
       "      <th>ruby</th>\n",
       "      <td>5733.040000</td>\n",
       "      <td>303.160000</td>\n",
       "      <td>80.120000</td>\n",
       "    </tr>\n",
       "    <tr>\n",
       "      <th>sql</th>\n",
       "      <td>642.750000</td>\n",
       "      <td>80.250000</td>\n",
       "      <td>78.250000</td>\n",
       "    </tr>\n",
       "    <tr>\n",
       "      <th>wordpress</th>\n",
       "      <td>3788.507812</td>\n",
       "      <td>97.085938</td>\n",
       "      <td>40.757812</td>\n",
       "    </tr>\n",
       "    <tr>\n",
       "      <th>xsd</th>\n",
       "      <td>755.000000</td>\n",
       "      <td>0.000000</td>\n",
       "      <td>7.000000</td>\n",
       "    </tr>\n",
       "    <tr>\n",
       "      <th>xslt</th>\n",
       "      <td>651.500000</td>\n",
       "      <td>5.000000</td>\n",
       "      <td>8.000000</td>\n",
       "    </tr>\n",
       "  </tbody>\n",
       "</table>\n",
       "</div>"
      ],
      "text/plain": [
       "            num_subscribers  num_reviews  num_lectures\n",
       "language                                              \n",
       "Adobe           5871.000000    32.666667     31.333333\n",
       "Javascript      7004.845588   376.419118     43.852941\n",
       "Laravel         2122.352941   100.117647     44.529412\n",
       "Unix             464.666667    14.000000     39.666667\n",
       "XML             1294.777778    27.666667     44.555556\n",
       "aws             2956.666667   132.111111     50.111111\n",
       "css             5021.323529   103.735294     37.323529\n",
       "html           11208.993464   362.294118     45.803922\n",
       "jQuery          4429.852941   100.000000     45.411765\n",
       "java            2982.785714   212.857143     59.142857\n",
       "other           6636.516569   497.799220     59.516569\n",
       "php             6652.468085   290.563830     53.212766\n",
       "python          7522.700000   333.400000     91.600000\n",
       "ruby            5733.040000   303.160000     80.120000\n",
       "sql              642.750000    80.250000     78.250000\n",
       "wordpress       3788.507812    97.085938     40.757812\n",
       "xsd              755.000000     0.000000      7.000000\n",
       "xslt             651.500000     5.000000      8.000000"
      ]
     },
     "execution_count": 409,
     "metadata": {},
     "output_type": "execute_result"
    }
   ],
   "source": [
    "df2_group = df2.groupby('language')\n",
    "df2_group[temp].mean()"
   ]
  },
  {
   "cell_type": "code",
   "execution_count": 411,
   "id": "e8f785c5",
   "metadata": {},
   "outputs": [
    {
     "data": {
      "text/plain": [
       "<AxesSubplot:title={'center':'comparison'}, xlabel='language'>"
      ]
     },
     "execution_count": 411,
     "metadata": {},
     "output_type": "execute_result"
    },
    {
     "data": {
      "image/png": "[encoded data removed]",
      "text/plain": [
       "<Figure size 1080x504 with 1 Axes>"
      ]
     },
     "metadata": {
      "needs_background": "light"
     },
     "output_type": "display_data"
    }
   ],
   "source": [
    "temp_c = 0\n",
    "df2_group[temp].mean().plot(kind='bar',figsize=(15,7), title='comparison')"
   ]
  },
  {
   "cell_type": "code",
   "execution_count": 417,
   "id": "8278aec4",
   "metadata": {},
   "outputs": [
    {
     "data": {
      "text/plain": [
       "<AxesSubplot:title={'center':'num_subscribers'}, xlabel='language'>"
      ]
     },
     "execution_count": 417,
     "metadata": {},
     "output_type": "execute_result"
    },
    {
     "data": {
      "image/png": "[encoded data removed]",
      "text/plain": [
       "<Figure size 1080x504 with 1 Axes>"
      ]
     },
     "metadata": {
      "needs_background": "light"
     },
     "output_type": "display_data"
    }
   ],
   "source": [
    "temp = ['num_subscribers','num_reviews','num_lectures']\n",
    "temp_c = 0\n",
    "df2_group[temp[temp_c]].mean().sort_values(ascending=False).plot(kind='bar',figsize=(15,7), title=temp[temp_c])"
   ]
  },
  {
   "cell_type": "code",
   "execution_count": 419,
   "id": "990a8951",
   "metadata": {},
   "outputs": [
    {
     "data": {
      "text/plain": [
       "<AxesSubplot:title={'center':'num_reviews'}, xlabel='language'>"
      ]
     },
     "execution_count": 419,
     "metadata": {},
     "output_type": "execute_result"
    },
    {
     "data": {
      "image/png": "[encoded data removed]",
      "text/plain": [
       "<Figure size 1080x504 with 1 Axes>"
      ]
     },
     "metadata": {
      "needs_background": "light"
     },
     "output_type": "display_data"
    }
   ],
   "source": [
    "temp = ['num_subscribers','num_reviews','num_lectures']\n",
    "temp_c = 1\n",
    "df2_group[temp[temp_c]].mean().sort_values(ascending=False). \\\n",
    "    plot(kind='bar',figsize=(15,7), title=temp[temp_c],color='orange')"
   ]
  },
  {
   "cell_type": "code",
   "execution_count": 421,
   "id": "ce7409d0",
   "metadata": {},
   "outputs": [
    {
     "data": {
      "text/plain": [
       "<AxesSubplot:title={'center':'num_lectures'}, xlabel='language'>"
      ]
     },
     "execution_count": 421,
     "metadata": {},
     "output_type": "execute_result"
    },
    {
     "data": {
      "image/png": "[encoded data removed]",
      "text/plain": [
       "<Figure size 1080x504 with 1 Axes>"
      ]
     },
     "metadata": {
      "needs_background": "light"
     },
     "output_type": "display_data"
    }
   ],
   "source": [
    "temp_c = 2\n",
    "df2_group[temp[temp_c]].mean().sort_values(ascending=False). \\\n",
    "    plot(kind='bar',figsize=(15,7), title=temp[temp_c], color='green')"
   ]
  },
  {
   "cell_type": "code",
   "execution_count": null,
   "id": "03224b04",
   "metadata": {},
   "outputs": [],
   "source": []
  },
  {
   "cell_type": "code",
   "execution_count": null,
   "id": "2503f735",
   "metadata": {},
   "outputs": [],
   "source": []
  },
  {
   "cell_type": "code",
   "execution_count": 196,
   "id": "3461e9c8",
   "metadata": {},
   "outputs": [
    {
     "name": "stderr",
     "output_type": "stream",
     "text": [
      "/var/folders/dk/37sbt0k53451bd1_l_nzws1h0000gn/T/ipykernel_38670/459038826.py:1: FutureWarning: In a future version of pandas all arguments of DataFrame.drop except for the argument 'labels' will be keyword-only.\n",
      "  df2_num_corr = df2.drop('subject',1).corr()['num_subscribers']\n"
     ]
    },
    {
     "data": {
      "text/plain": [
       "is_paid            -0.273737\n",
       "num_subscribers     1.000000\n",
       "num_reviews         0.644984\n",
       "num_lectures        0.127500\n",
       "content_duration    0.050432\n",
       "year               -0.263509\n",
       "Name: num_subscribers, dtype: float64"
      ]
     },
     "execution_count": 196,
     "metadata": {},
     "output_type": "execute_result"
    }
   ],
   "source": [
    "df2_num_corr = df2.drop('subject',1).corr()['num_subscribers']\n",
    "df2_num_corr"
   ]
  },
  {
   "cell_type": "code",
   "execution_count": null,
   "id": "f5bb9f46",
   "metadata": {},
   "outputs": [],
   "source": []
  },
  {
   "cell_type": "code",
   "execution_count": 433,
   "id": "40ab5d6d",
   "metadata": {},
   "outputs": [
    {
     "data": {
      "text/plain": [
       "<AxesSubplot:xlabel='language', ylabel='num_subscribers'>"
      ]
     },
     "execution_count": 433,
     "metadata": {},
     "output_type": "execute_result"
    },
    {
     "data": {
      "image/png": "[encoded data removed]",
      "text/plain": [
       "<Figure size 1080x504 with 1 Axes>"
      ]
     },
     "metadata": {
      "needs_background": "light"
     },
     "output_type": "display_data"
    }
   ],
   "source": [
    "plt.figure(figsize=(15,7))\n",
    "sns.barplot(data=df2,y='num_subscribers',x='language')"
   ]
  },
  {
   "cell_type": "code",
   "execution_count": 422,
   "id": "70b6c15b",
   "metadata": {},
   "outputs": [
    {
     "data": {
      "text/plain": [
       "<AxesSubplot:xlabel='num_subscribers', ylabel='num_reviews'>"
      ]
     },
     "execution_count": 422,
     "metadata": {},
     "output_type": "execute_result"
    },
    {
     "data": {
      "image/png": "[encoded data removed]",
      "text/plain": [
       "<Figure size 720x504 with 1 Axes>"
      ]
     },
     "metadata": {
      "needs_background": "light"
     },
     "output_type": "display_data"
    }
   ],
   "source": [
    "plt.figure(figsize=(10,7))\n",
    "sns.scatterplot(data=df2,x='num_subscribers',y='num_reviews',hue='language')"
   ]
  },
  {
   "cell_type": "code",
   "execution_count": null,
   "id": "931ce389",
   "metadata": {},
   "outputs": [],
   "source": []
  }
 ],
 "metadata": {
  "kernelspec": {
   "display_name": "Python 3 (ipykernel)",
   "language": "python",
   "name": "python3"
  },
  "language_info": {
   "codemirror_mode": {
    "name": "ipython",
    "version": 3
   },
   "file_extension": ".py",
   "mimetype": "text/x-python",
   "name": "python",
   "nbconvert_exporter": "python",
   "pygments_lexer": "ipython3",
   "version": "3.9.12"
  }
 },
 "nbformat": 4,
 "nbformat_minor": 5
}
