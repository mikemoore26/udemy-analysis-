{
 "cells": [
  {
   "cell_type": "markdown",
   "id": "6b9b243c",
   "metadata": {},
   "source": [
    "# Udemy Data Analysis"
   ]
  },
  {
   "cell_type": "markdown",
   "id": "06852402",
   "metadata": {},
   "source": [
    "1. Import required libraries\n",
    "\n",
    "2. Read the data file\n",
    "\n",
    "3. Check data types of each column\n",
    "\n",
    "4. You will find published_timestamp column of object data type, we need to\n",
    "convert this into date time datatype (it should be converted for the whole\n",
    "dataset , try to convert while reading the csv file)\n",
    "\n",
    "5. Check data types again\n",
    "\n",
    "6. Display top 10 rows of the dataset\n",
    "\n",
    "7. Check last 5 rows of the dataset\n",
    "\n",
    "8. Find shape of our dataset (number of rows and number of columns)"
   ]
  },
  {
   "cell_type": "code",
   "execution_count": 1,
   "id": "587e16d1",
   "metadata": {},
   "outputs": [],
   "source": [
    "import pandas as pd \n",
    "import numpy as np\n",
    "import matplotlib.pyplot as plt\n",
    "import seaborn as sns \n"
   ]
  },
  {
   "cell_type": "code",
   "execution_count": 10,
   "id": "e3178cac",
   "metadata": {},
   "outputs": [],
   "source": [
    "data = pd.read_csv('UdemyCourses.csv')\n"
   ]
  },
  {
   "cell_type": "code",
   "execution_count": 11,
   "id": "0091a06c",
   "metadata": {},
   "outputs": [
    {
     "name": "stdout",
     "output_type": "stream",
     "text": [
      "<class 'pandas.core.frame.DataFrame'>\n",
      "RangeIndex: 3682 entries, 0 to 3681\n",
      "Data columns (total 11 columns):\n",
      " #   Column               Non-Null Count  Dtype \n",
      "---  ------               --------------  ----- \n",
      " 0   course_id            3682 non-null   int64 \n",
      " 1   course_title         3682 non-null   object\n",
      " 2   is_paid              3682 non-null   bool  \n",
      " 3   price                3682 non-null   object\n",
      " 4   num_subscribers      3682 non-null   int64 \n",
      " 5   num_reviews          3682 non-null   int64 \n",
      " 6   num_lectures         3682 non-null   int64 \n",
      " 7   level                3682 non-null   object\n",
      " 8   content_duration     3682 non-null   object\n",
      " 9   published_timestamp  3682 non-null   object\n",
      " 10  subject              3682 non-null   object\n",
      "dtypes: bool(1), int64(4), object(6)\n",
      "memory usage: 291.4+ KB\n"
     ]
    }
   ],
   "source": [
    "data.info()"
   ]
  },
  {
   "cell_type": "code",
   "execution_count": 14,
   "id": "22e73636",
   "metadata": {},
   "outputs": [],
   "source": [
    "data = pd.read_csv('UdemyCourses.csv',parse_dates=['published_timestamp'])\n"
   ]
  },
  {
   "cell_type": "code",
   "execution_count": 15,
   "id": "79f7fa68",
   "metadata": {},
   "outputs": [
    {
     "name": "stdout",
     "output_type": "stream",
     "text": [
      "<class 'pandas.core.frame.DataFrame'>\n",
      "RangeIndex: 3682 entries, 0 to 3681\n",
      "Data columns (total 11 columns):\n",
      " #   Column               Non-Null Count  Dtype              \n",
      "---  ------               --------------  -----              \n",
      " 0   course_id            3682 non-null   int64              \n",
      " 1   course_title         3682 non-null   object             \n",
      " 2   is_paid              3682 non-null   bool               \n",
      " 3   price                3682 non-null   object             \n",
      " 4   num_subscribers      3682 non-null   int64              \n",
      " 5   num_reviews          3682 non-null   int64              \n",
      " 6   num_lectures         3682 non-null   int64              \n",
      " 7   level                3682 non-null   object             \n",
      " 8   content_duration     3682 non-null   object             \n",
      " 9   published_timestamp  3682 non-null   datetime64[ns, UTC]\n",
      " 10  subject              3682 non-null   object             \n",
      "dtypes: bool(1), datetime64[ns, UTC](1), int64(4), object(5)\n",
      "memory usage: 291.4+ KB\n"
     ]
    }
   ],
   "source": [
    "data.info()"
   ]
  },
  {
   "cell_type": "code",
   "execution_count": 12,
   "id": "3898bc95",
   "metadata": {},
   "outputs": [
    {
     "data": {
      "text/html": [
       "<div>\n",
       "<style scoped>\n",
       "    .dataframe tbody tr th:only-of-type {\n",
       "        vertical-align: middle;\n",
       "    }\n",
       "\n",
       "    .dataframe tbody tr th {\n",
       "        vertical-align: top;\n",
       "    }\n",
       "\n",
       "    .dataframe thead th {\n",
       "        text-align: right;\n",
       "    }\n",
       "</style>\n",
       "<table border=\"1\" class=\"dataframe\">\n",
       "  <thead>\n",
       "    <tr style=\"text-align: right;\">\n",
       "      <th></th>\n",
       "      <th>course_id</th>\n",
       "      <th>course_title</th>\n",
       "      <th>is_paid</th>\n",
       "      <th>price</th>\n",
       "      <th>num_subscribers</th>\n",
       "      <th>num_reviews</th>\n",
       "      <th>num_lectures</th>\n",
       "      <th>level</th>\n",
       "      <th>content_duration</th>\n",
       "      <th>published_timestamp</th>\n",
       "      <th>subject</th>\n",
       "    </tr>\n",
       "  </thead>\n",
       "  <tbody>\n",
       "    <tr>\n",
       "      <th>0</th>\n",
       "      <td>288942</td>\n",
       "      <td>#1 Piano Hand Coordination: Play 10th Ballad i...</td>\n",
       "      <td>True</td>\n",
       "      <td>35</td>\n",
       "      <td>3137</td>\n",
       "      <td>18</td>\n",
       "      <td>68</td>\n",
       "      <td>All Levels</td>\n",
       "      <td>1.5 hours</td>\n",
       "      <td>2014-09-18T05:07:05Z</td>\n",
       "      <td>Musical Instruments</td>\n",
       "    </tr>\n",
       "    <tr>\n",
       "      <th>1</th>\n",
       "      <td>1170074</td>\n",
       "      <td>#10 Hand Coordination - Transfer Chord Ballad ...</td>\n",
       "      <td>True</td>\n",
       "      <td>75</td>\n",
       "      <td>1593</td>\n",
       "      <td>1</td>\n",
       "      <td>41</td>\n",
       "      <td>Intermediate Level</td>\n",
       "      <td>1 hour</td>\n",
       "      <td>2017-04-12T19:06:34Z</td>\n",
       "      <td>Musical Instruments</td>\n",
       "    </tr>\n",
       "    <tr>\n",
       "      <th>2</th>\n",
       "      <td>1193886</td>\n",
       "      <td>#12 Hand Coordination: Let your Hands dance wi...</td>\n",
       "      <td>True</td>\n",
       "      <td>75</td>\n",
       "      <td>482</td>\n",
       "      <td>1</td>\n",
       "      <td>47</td>\n",
       "      <td>Intermediate Level</td>\n",
       "      <td>1.5 hours</td>\n",
       "      <td>2017-04-26T18:34:57Z</td>\n",
       "      <td>Musical Instruments</td>\n",
       "    </tr>\n",
       "    <tr>\n",
       "      <th>3</th>\n",
       "      <td>1116700</td>\n",
       "      <td>#4 Piano Hand Coordination: Fun Piano Runs in ...</td>\n",
       "      <td>True</td>\n",
       "      <td>75</td>\n",
       "      <td>850</td>\n",
       "      <td>3</td>\n",
       "      <td>43</td>\n",
       "      <td>Intermediate Level</td>\n",
       "      <td>1 hour</td>\n",
       "      <td>2017-02-21T23:48:18Z</td>\n",
       "      <td>Musical Instruments</td>\n",
       "    </tr>\n",
       "    <tr>\n",
       "      <th>4</th>\n",
       "      <td>1120410</td>\n",
       "      <td>#5  Piano Hand Coordination:  Piano Runs in 2 ...</td>\n",
       "      <td>True</td>\n",
       "      <td>75</td>\n",
       "      <td>940</td>\n",
       "      <td>3</td>\n",
       "      <td>32</td>\n",
       "      <td>Intermediate Level</td>\n",
       "      <td>37 mins</td>\n",
       "      <td>2017-02-21T23:44:49Z</td>\n",
       "      <td>Musical Instruments</td>\n",
       "    </tr>\n",
       "    <tr>\n",
       "      <th>5</th>\n",
       "      <td>1122832</td>\n",
       "      <td>#6 Piano Hand Coordination: Play Open 10 Balla...</td>\n",
       "      <td>True</td>\n",
       "      <td>65</td>\n",
       "      <td>2015</td>\n",
       "      <td>3</td>\n",
       "      <td>21</td>\n",
       "      <td>Intermediate Level</td>\n",
       "      <td>44 mins</td>\n",
       "      <td>2017-03-08T17:53:36Z</td>\n",
       "      <td>Musical Instruments</td>\n",
       "    </tr>\n",
       "    <tr>\n",
       "      <th>6</th>\n",
       "      <td>1123184</td>\n",
       "      <td>#7 Piano Hand Coordination: Play Piano Runs in...</td>\n",
       "      <td>True</td>\n",
       "      <td>65</td>\n",
       "      <td>2015</td>\n",
       "      <td>2</td>\n",
       "      <td>25</td>\n",
       "      <td>Intermediate Level</td>\n",
       "      <td>1 hour</td>\n",
       "      <td>2017-03-08T18:09:32Z</td>\n",
       "      <td>Musical Instruments</td>\n",
       "    </tr>\n",
       "    <tr>\n",
       "      <th>7</th>\n",
       "      <td>768028</td>\n",
       "      <td>* An Integrated Approach to the Fundamentals o...</td>\n",
       "      <td>True</td>\n",
       "      <td>200</td>\n",
       "      <td>134</td>\n",
       "      <td>14</td>\n",
       "      <td>123</td>\n",
       "      <td>All Levels</td>\n",
       "      <td>5.5 hours</td>\n",
       "      <td>2016-03-15T17:23:07Z</td>\n",
       "      <td>Business Finance</td>\n",
       "    </tr>\n",
       "    <tr>\n",
       "      <th>8</th>\n",
       "      <td>206592</td>\n",
       "      <td>:::Beginners Guide To Creating Amazing Images ...</td>\n",
       "      <td>True</td>\n",
       "      <td>25</td>\n",
       "      <td>72</td>\n",
       "      <td>5</td>\n",
       "      <td>17</td>\n",
       "      <td>Beginner Level</td>\n",
       "      <td>1 hour</td>\n",
       "      <td>2014-04-29T19:50:31Z</td>\n",
       "      <td>Graphic Design</td>\n",
       "    </tr>\n",
       "    <tr>\n",
       "      <th>9</th>\n",
       "      <td>738910</td>\n",
       "      <td>[Value Investing] Where White People Keep Thei...</td>\n",
       "      <td>True</td>\n",
       "      <td>200</td>\n",
       "      <td>2715</td>\n",
       "      <td>70</td>\n",
       "      <td>20</td>\n",
       "      <td>Expert Level</td>\n",
       "      <td>4 hours</td>\n",
       "      <td>2016-05-25T21:04:41Z</td>\n",
       "      <td>Business Finance</td>\n",
       "    </tr>\n",
       "  </tbody>\n",
       "</table>\n",
       "</div>"
      ],
      "text/plain": [
       "   course_id                                       course_title  is_paid  \\\n",
       "0     288942  #1 Piano Hand Coordination: Play 10th Ballad i...     True   \n",
       "1    1170074  #10 Hand Coordination - Transfer Chord Ballad ...     True   \n",
       "2    1193886  #12 Hand Coordination: Let your Hands dance wi...     True   \n",
       "3    1116700  #4 Piano Hand Coordination: Fun Piano Runs in ...     True   \n",
       "4    1120410  #5  Piano Hand Coordination:  Piano Runs in 2 ...     True   \n",
       "5    1122832  #6 Piano Hand Coordination: Play Open 10 Balla...     True   \n",
       "6    1123184  #7 Piano Hand Coordination: Play Piano Runs in...     True   \n",
       "7     768028  * An Integrated Approach to the Fundamentals o...     True   \n",
       "8     206592  :::Beginners Guide To Creating Amazing Images ...     True   \n",
       "9     738910  [Value Investing] Where White People Keep Thei...     True   \n",
       "\n",
       "  price  num_subscribers  num_reviews  num_lectures               level  \\\n",
       "0    35             3137           18            68          All Levels   \n",
       "1    75             1593            1            41  Intermediate Level   \n",
       "2    75              482            1            47  Intermediate Level   \n",
       "3    75              850            3            43  Intermediate Level   \n",
       "4    75              940            3            32  Intermediate Level   \n",
       "5    65             2015            3            21  Intermediate Level   \n",
       "6    65             2015            2            25  Intermediate Level   \n",
       "7   200              134           14           123          All Levels   \n",
       "8    25               72            5            17      Beginner Level   \n",
       "9   200             2715           70            20        Expert Level   \n",
       "\n",
       "  content_duration   published_timestamp              subject  \n",
       "0        1.5 hours  2014-09-18T05:07:05Z  Musical Instruments  \n",
       "1           1 hour  2017-04-12T19:06:34Z  Musical Instruments  \n",
       "2        1.5 hours  2017-04-26T18:34:57Z  Musical Instruments  \n",
       "3           1 hour  2017-02-21T23:48:18Z  Musical Instruments  \n",
       "4          37 mins  2017-02-21T23:44:49Z  Musical Instruments  \n",
       "5          44 mins  2017-03-08T17:53:36Z  Musical Instruments  \n",
       "6           1 hour  2017-03-08T18:09:32Z  Musical Instruments  \n",
       "7        5.5 hours  2016-03-15T17:23:07Z     Business Finance  \n",
       "8           1 hour  2014-04-29T19:50:31Z       Graphic Design  \n",
       "9          4 hours  2016-05-25T21:04:41Z     Business Finance  "
      ]
     },
     "execution_count": 12,
     "metadata": {},
     "output_type": "execute_result"
    }
   ],
   "source": [
    "data.head(10)"
   ]
  },
  {
   "cell_type": "code",
   "execution_count": 13,
   "id": "0c45f8f3",
   "metadata": {},
   "outputs": [
    {
     "data": {
      "text/html": [
       "<div>\n",
       "<style scoped>\n",
       "    .dataframe tbody tr th:only-of-type {\n",
       "        vertical-align: middle;\n",
       "    }\n",
       "\n",
       "    .dataframe tbody tr th {\n",
       "        vertical-align: top;\n",
       "    }\n",
       "\n",
       "    .dataframe thead th {\n",
       "        text-align: right;\n",
       "    }\n",
       "</style>\n",
       "<table border=\"1\" class=\"dataframe\">\n",
       "  <thead>\n",
       "    <tr style=\"text-align: right;\">\n",
       "      <th></th>\n",
       "      <th>course_id</th>\n",
       "      <th>course_title</th>\n",
       "      <th>is_paid</th>\n",
       "      <th>price</th>\n",
       "      <th>num_subscribers</th>\n",
       "      <th>num_reviews</th>\n",
       "      <th>num_lectures</th>\n",
       "      <th>level</th>\n",
       "      <th>content_duration</th>\n",
       "      <th>published_timestamp</th>\n",
       "      <th>subject</th>\n",
       "    </tr>\n",
       "  </thead>\n",
       "  <tbody>\n",
       "    <tr>\n",
       "      <th>3677</th>\n",
       "      <td>328960</td>\n",
       "      <td>Your Own Site in 45 Min: The Complete Wordpres...</td>\n",
       "      <td>True</td>\n",
       "      <td>120</td>\n",
       "      <td>1566</td>\n",
       "      <td>29</td>\n",
       "      <td>36</td>\n",
       "      <td>All Levels</td>\n",
       "      <td>4 hours</td>\n",
       "      <td>2015-04-20T22:15:17Z</td>\n",
       "      <td>Web Development</td>\n",
       "    </tr>\n",
       "    <tr>\n",
       "      <th>3678</th>\n",
       "      <td>552700</td>\n",
       "      <td>Your Second Course on Piano: Two Handed Playing</td>\n",
       "      <td>True</td>\n",
       "      <td>70</td>\n",
       "      <td>1018</td>\n",
       "      <td>12</td>\n",
       "      <td>22</td>\n",
       "      <td>Beginner Level</td>\n",
       "      <td>5 hours</td>\n",
       "      <td>2015-10-26T20:04:21Z</td>\n",
       "      <td>Musical Instruments</td>\n",
       "    </tr>\n",
       "    <tr>\n",
       "      <th>3679</th>\n",
       "      <td>631754</td>\n",
       "      <td>Zend Framework 2: Learn the PHP framework ZF2 ...</td>\n",
       "      <td>True</td>\n",
       "      <td>40</td>\n",
       "      <td>723</td>\n",
       "      <td>130</td>\n",
       "      <td>37</td>\n",
       "      <td>All Levels</td>\n",
       "      <td>6.5 hours</td>\n",
       "      <td>2015-11-11T18:55:45Z</td>\n",
       "      <td>Web Development</td>\n",
       "    </tr>\n",
       "    <tr>\n",
       "      <th>3680</th>\n",
       "      <td>1225194</td>\n",
       "      <td>Zoho Books Gestion Financière d'Entreprise pas...</td>\n",
       "      <td>False</td>\n",
       "      <td>Free</td>\n",
       "      <td>229</td>\n",
       "      <td>0</td>\n",
       "      <td>33</td>\n",
       "      <td>All Levels</td>\n",
       "      <td>2 hours</td>\n",
       "      <td>2017-05-26T16:45:55Z</td>\n",
       "      <td>Business Finance</td>\n",
       "    </tr>\n",
       "    <tr>\n",
       "      <th>3681</th>\n",
       "      <td>964478</td>\n",
       "      <td>Zombie Apocalypse Photoshop Actions</td>\n",
       "      <td>True</td>\n",
       "      <td>50</td>\n",
       "      <td>12</td>\n",
       "      <td>1</td>\n",
       "      <td>15</td>\n",
       "      <td>All Levels</td>\n",
       "      <td>1.5 hours</td>\n",
       "      <td>2016-09-26T22:19:48Z</td>\n",
       "      <td>Graphic Design</td>\n",
       "    </tr>\n",
       "  </tbody>\n",
       "</table>\n",
       "</div>"
      ],
      "text/plain": [
       "      course_id                                       course_title  is_paid  \\\n",
       "3677     328960  Your Own Site in 45 Min: The Complete Wordpres...     True   \n",
       "3678     552700    Your Second Course on Piano: Two Handed Playing     True   \n",
       "3679     631754  Zend Framework 2: Learn the PHP framework ZF2 ...     True   \n",
       "3680    1225194  Zoho Books Gestion Financière d'Entreprise pas...    False   \n",
       "3681     964478                Zombie Apocalypse Photoshop Actions     True   \n",
       "\n",
       "     price  num_subscribers  num_reviews  num_lectures           level  \\\n",
       "3677   120             1566           29            36      All Levels   \n",
       "3678    70             1018           12            22  Beginner Level   \n",
       "3679    40              723          130            37      All Levels   \n",
       "3680  Free              229            0            33      All Levels   \n",
       "3681    50               12            1            15      All Levels   \n",
       "\n",
       "     content_duration   published_timestamp              subject  \n",
       "3677          4 hours  2015-04-20T22:15:17Z      Web Development  \n",
       "3678          5 hours  2015-10-26T20:04:21Z  Musical Instruments  \n",
       "3679        6.5 hours  2015-11-11T18:55:45Z      Web Development  \n",
       "3680          2 hours  2017-05-26T16:45:55Z     Business Finance  \n",
       "3681        1.5 hours  2016-09-26T22:19:48Z       Graphic Design  "
      ]
     },
     "execution_count": 13,
     "metadata": {},
     "output_type": "execute_result"
    }
   ],
   "source": [
    "data.tail()"
   ]
  },
  {
   "cell_type": "code",
   "execution_count": 16,
   "id": "4c924867",
   "metadata": {},
   "outputs": [
    {
     "data": {
      "text/plain": [
       "(3682, 11)"
      ]
     },
     "execution_count": 16,
     "metadata": {},
     "output_type": "execute_result"
    }
   ],
   "source": [
    "data.shape"
   ]
  },
  {
   "cell_type": "markdown",
   "id": "6b9db88d",
   "metadata": {},
   "source": [
    "9. Getting information about our dataset like total number rows, total number of columns, datatypes of each column and memory requirement\n",
    "\n",
    "10. Check null values in the dataset\n",
    "\n",
    "    a. Try to find out if there are any missing values in the dataset\n",
    "    \n",
    "    b. Create heatmap as well\n",
    "    \n",
    "11. Check for duplicate data and drop them\n",
    "\n"
   ]
  },
  {
   "cell_type": "code",
   "execution_count": 23,
   "id": "40bf3c64",
   "metadata": {},
   "outputs": [
    {
     "data": {
      "text/plain": [
       "<AxesSubplot:>"
      ]
     },
     "execution_count": 23,
     "metadata": {},
     "output_type": "execute_result"
    },
    {
     "data": {
      "image/png": "[encoded data removed]",
      "text/plain": [
       "<Figure size 432x288 with 2 Axes>"
      ]
     },
     "metadata": {
      "needs_background": "light"
     },
     "output_type": "display_data"
    }
   ],
   "source": [
    "sns.heatmap(data=data.isna())"
   ]
  },
  {
   "cell_type": "code",
   "execution_count": 29,
   "id": "47774aa7",
   "metadata": {},
   "outputs": [
    {
     "data": {
      "text/plain": [
       "0       False\n",
       "1       False\n",
       "2       False\n",
       "3       False\n",
       "4       False\n",
       "        ...  \n",
       "3677    False\n",
       "3678    False\n",
       "3679    False\n",
       "3680    False\n",
       "3681    False\n",
       "Length: 3682, dtype: bool"
      ]
     },
     "execution_count": 29,
     "metadata": {},
     "output_type": "execute_result"
    }
   ],
   "source": [
    "data.duplicated()"
   ]
  },
  {
   "cell_type": "code",
   "execution_count": 31,
   "id": "9e946f90",
   "metadata": {},
   "outputs": [
    {
     "data": {
      "text/plain": [
       "6"
      ]
     },
     "execution_count": 31,
     "metadata": {},
     "output_type": "execute_result"
    }
   ],
   "source": [
    "len(data) - len(data.drop_duplicates())"
   ]
  },
  {
   "cell_type": "code",
   "execution_count": 32,
   "id": "c332c2ac",
   "metadata": {},
   "outputs": [],
   "source": [
    "data = data.drop_duplicates()"
   ]
  },
  {
   "cell_type": "markdown",
   "id": "e50f5350",
   "metadata": {},
   "source": [
    "12. Find out number of courses per subjects\n",
    "\n",
    "    a. Elaborate your observation as well in comments\n",
    "    \n",
    "    b. You need to visualize data using barplot which is having xlabel as ‘subjects’ and ylabel as ‘number of courses per subject’\n",
    "    \n",
    "    c. Take care of not overlapping words\n",
    "    \n"
   ]
  },
  {
   "cell_type": "code",
   "execution_count": 34,
   "id": "d3db1983",
   "metadata": {},
   "outputs": [
    {
     "data": {
      "text/html": [
       "<div>\n",
       "<style scoped>\n",
       "    .dataframe tbody tr th:only-of-type {\n",
       "        vertical-align: middle;\n",
       "    }\n",
       "\n",
       "    .dataframe tbody tr th {\n",
       "        vertical-align: top;\n",
       "    }\n",
       "\n",
       "    .dataframe thead th {\n",
       "        text-align: right;\n",
       "    }\n",
       "</style>\n",
       "<table border=\"1\" class=\"dataframe\">\n",
       "  <thead>\n",
       "    <tr style=\"text-align: right;\">\n",
       "      <th></th>\n",
       "      <th>course_id</th>\n",
       "      <th>course_title</th>\n",
       "      <th>is_paid</th>\n",
       "      <th>price</th>\n",
       "      <th>num_subscribers</th>\n",
       "      <th>num_reviews</th>\n",
       "      <th>num_lectures</th>\n",
       "      <th>level</th>\n",
       "      <th>content_duration</th>\n",
       "      <th>published_timestamp</th>\n",
       "      <th>subject</th>\n",
       "    </tr>\n",
       "  </thead>\n",
       "  <tbody>\n",
       "    <tr>\n",
       "      <th>0</th>\n",
       "      <td>288942</td>\n",
       "      <td>#1 Piano Hand Coordination: Play 10th Ballad i...</td>\n",
       "      <td>True</td>\n",
       "      <td>35</td>\n",
       "      <td>3137</td>\n",
       "      <td>18</td>\n",
       "      <td>68</td>\n",
       "      <td>All Levels</td>\n",
       "      <td>1.5 hours</td>\n",
       "      <td>2014-09-18 05:07:05+00:00</td>\n",
       "      <td>Musical Instruments</td>\n",
       "    </tr>\n",
       "  </tbody>\n",
       "</table>\n",
       "</div>"
      ],
      "text/plain": [
       "   course_id                                       course_title  is_paid  \\\n",
       "0     288942  #1 Piano Hand Coordination: Play 10th Ballad i...     True   \n",
       "\n",
       "  price  num_subscribers  num_reviews  num_lectures       level  \\\n",
       "0    35             3137           18            68  All Levels   \n",
       "\n",
       "  content_duration       published_timestamp              subject  \n",
       "0        1.5 hours 2014-09-18 05:07:05+00:00  Musical Instruments  "
      ]
     },
     "execution_count": 34,
     "metadata": {},
     "output_type": "execute_result"
    }
   ],
   "source": [
    "data.head(1)"
   ]
  },
  {
   "cell_type": "code",
   "execution_count": 37,
   "id": "247bfb31",
   "metadata": {},
   "outputs": [
    {
     "data": {
      "text/plain": [
       "subject\n",
       "Business Finance       1195\n",
       "Graphic Design          602\n",
       "Musical Instruments     680\n",
       "Web Development        1199\n",
       "Name: course_id, dtype: int64"
      ]
     },
     "execution_count": 37,
     "metadata": {},
     "output_type": "execute_result"
    }
   ],
   "source": [
    "data_subject = data.groupby('subject')['course_id'].count()\n",
    "data_subject"
   ]
  },
  {
   "cell_type": "code",
   "execution_count": 44,
   "id": "a9d2e0e7",
   "metadata": {},
   "outputs": [
    {
     "data": {
      "text/plain": [
       "<AxesSubplot:title={'center':'Subject Count'}, xlabel='subject', ylabel='count'>"
      ]
     },
     "execution_count": 44,
     "metadata": {},
     "output_type": "execute_result"
    },
    {
     "data": {
      "image/png": "[encoded data removed]",
      "text/plain": [
       "<Figure size 720x504 with 1 Axes>"
      ]
     },
     "metadata": {
      "needs_background": "light"
     },
     "output_type": "display_data"
    }
   ],
   "source": [
    "data_subject.plot.bar(xlabel='subject', ylabel='count', title='Subject Count',figsize=(10,7))"
   ]
  },
  {
   "cell_type": "markdown",
   "id": "21b8a1b3",
   "metadata": {},
   "source": [
    "Business Finance and Web Development course have the most amount while Graphic Design and Musical Instrument have the least"
   ]
  },
  {
   "cell_type": "markdown",
   "id": "25576e8d",
   "metadata": {},
   "source": [
    "13. For which levels, udemy courses providing the courses\n",
    "\n",
    "    a. Kindly visualize the data using barplot"
   ]
  },
  {
   "cell_type": "code",
   "execution_count": 45,
   "id": "ae02b61f",
   "metadata": {},
   "outputs": [
    {
     "data": {
      "text/html": [
       "<div>\n",
       "<style scoped>\n",
       "    .dataframe tbody tr th:only-of-type {\n",
       "        vertical-align: middle;\n",
       "    }\n",
       "\n",
       "    .dataframe tbody tr th {\n",
       "        vertical-align: top;\n",
       "    }\n",
       "\n",
       "    .dataframe thead th {\n",
       "        text-align: right;\n",
       "    }\n",
       "</style>\n",
       "<table border=\"1\" class=\"dataframe\">\n",
       "  <thead>\n",
       "    <tr style=\"text-align: right;\">\n",
       "      <th></th>\n",
       "      <th>course_id</th>\n",
       "      <th>course_title</th>\n",
       "      <th>is_paid</th>\n",
       "      <th>price</th>\n",
       "      <th>num_subscribers</th>\n",
       "      <th>num_reviews</th>\n",
       "      <th>num_lectures</th>\n",
       "      <th>level</th>\n",
       "      <th>content_duration</th>\n",
       "      <th>published_timestamp</th>\n",
       "      <th>subject</th>\n",
       "    </tr>\n",
       "  </thead>\n",
       "  <tbody>\n",
       "    <tr>\n",
       "      <th>0</th>\n",
       "      <td>288942</td>\n",
       "      <td>#1 Piano Hand Coordination: Play 10th Ballad i...</td>\n",
       "      <td>True</td>\n",
       "      <td>35</td>\n",
       "      <td>3137</td>\n",
       "      <td>18</td>\n",
       "      <td>68</td>\n",
       "      <td>All Levels</td>\n",
       "      <td>1.5 hours</td>\n",
       "      <td>2014-09-18 05:07:05+00:00</td>\n",
       "      <td>Musical Instruments</td>\n",
       "    </tr>\n",
       "  </tbody>\n",
       "</table>\n",
       "</div>"
      ],
      "text/plain": [
       "   course_id                                       course_title  is_paid  \\\n",
       "0     288942  #1 Piano Hand Coordination: Play 10th Ballad i...     True   \n",
       "\n",
       "  price  num_subscribers  num_reviews  num_lectures       level  \\\n",
       "0    35             3137           18            68  All Levels   \n",
       "\n",
       "  content_duration       published_timestamp              subject  \n",
       "0        1.5 hours 2014-09-18 05:07:05+00:00  Musical Instruments  "
      ]
     },
     "execution_count": 45,
     "metadata": {},
     "output_type": "execute_result"
    }
   ],
   "source": [
    "data.head(1)"
   ]
  },
  {
   "cell_type": "code",
   "execution_count": 46,
   "id": "4a4d5b89",
   "metadata": {},
   "outputs": [
    {
     "data": {
      "text/plain": [
       "array(['All Levels', 'Intermediate Level', 'Beginner Level',\n",
       "       'Expert Level'], dtype=object)"
      ]
     },
     "execution_count": 46,
     "metadata": {},
     "output_type": "execute_result"
    }
   ],
   "source": [
    "data.level.unique()"
   ]
  },
  {
   "cell_type": "code",
   "execution_count": 50,
   "id": "37564a96",
   "metadata": {},
   "outputs": [
    {
     "data": {
      "text/plain": [
       "<AxesSubplot:title={'center':'Level Count'}, xlabel='Level', ylabel='count'>"
      ]
     },
     "execution_count": 50,
     "metadata": {},
     "output_type": "execute_result"
    },
    {
     "data": {
      "image/png": "[encoded data removed]",
      "text/plain": [
       "<Figure size 720x504 with 1 Axes>"
      ]
     },
     "metadata": {
      "needs_background": "light"
     },
     "output_type": "display_data"
    }
   ],
   "source": [
    "data.groupby('level')['course_id'].count().plot.bar(xlabel='Level', ylabel='count', \n",
    "                                                    title='Level Count',figsize=(10,7))"
   ]
  },
  {
   "cell_type": "markdown",
   "id": "c8633cc2",
   "metadata": {},
   "source": [
    "14. Display the count of paid and free courses\n",
    "\n",
    "    a. Visualize it as well\n",
    "    \n",
    "15. Which course has more lectures (free or paid)?\n",
    " \n",
    "    a. A barplot with this looks great\n",
    "    \n",
    "16. Which courses have a higher number of subscribers free or paid?\n",
    "\n",
    "    a. Barplot will work here too"
   ]
  },
  {
   "cell_type": "code",
   "execution_count": 55,
   "id": "3562f84a",
   "metadata": {},
   "outputs": [
    {
     "data": {
      "text/plain": [
       "<AxesSubplot:title={'center':'number of courses'}, xlabel='is Paid', ylabel='count'>"
      ]
     },
     "execution_count": 55,
     "metadata": {},
     "output_type": "execute_result"
    },
    {
     "data": {
      "image/png": "[encoded data removed]",
      "text/plain": [
       "<Figure size 720x504 with 1 Axes>"
      ]
     },
     "metadata": {
      "needs_background": "light"
     },
     "output_type": "display_data"
    }
   ],
   "source": [
    "data.groupby('is_paid')['num_subscribers'].count().plot.bar(xlabel='is Paid', ylabel='count',\n",
    "                                                      title='number of courses',figsize=(10,7))\n"
   ]
  },
  {
   "cell_type": "code",
   "execution_count": 57,
   "id": "b5f98d6b",
   "metadata": {},
   "outputs": [
    {
     "data": {
      "text/plain": [
       "<AxesSubplot:title={'center':'number of courses subscriber'}, xlabel='is Paid', ylabel='count'>"
      ]
     },
     "execution_count": 57,
     "metadata": {},
     "output_type": "execute_result"
    },
    {
     "data": {
      "image/png": "[encoded data removed]",
      "text/plain": [
       "<Figure size 720x504 with 1 Axes>"
      ]
     },
     "metadata": {
      "needs_background": "light"
     },
     "output_type": "display_data"
    }
   ],
   "source": [
    "data.groupby('is_paid')['num_subscribers'].sum().plot.bar(xlabel='is Paid', ylabel='count',\n",
    "                                                      title='number of courses subscriber',figsize=(10,7))\n"
   ]
  },
  {
   "cell_type": "markdown",
   "id": "dc13d937",
   "metadata": {},
   "source": [
    "7.Which level has the highest number of subscribers?"
   ]
  },
  {
   "cell_type": "code",
   "execution_count": 59,
   "id": "40a62b93",
   "metadata": {},
   "outputs": [
    {
     "data": {
      "text/plain": [
       "<AxesSubplot:title={'center':'levels  subscriber'}, xlabel='levels', ylabel='count'>"
      ]
     },
     "execution_count": 59,
     "metadata": {},
     "output_type": "execute_result"
    },
    {
     "data": {
      "image/png": "[encoded data removed]",
      "text/plain": [
       "<Figure size 720x504 with 1 Axes>"
      ]
     },
     "metadata": {
      "needs_background": "light"
     },
     "output_type": "display_data"
    }
   ],
   "source": [
    "data.groupby('level')['num_subscribers'].sum().plot.bar(xlabel='levels', ylabel='count',\n",
    "                                                      title='levels  subscriber',figsize=(10,7))\n"
   ]
  },
  {
   "cell_type": "markdown",
   "id": "a09254f6",
   "metadata": {},
   "source": [
    "18.Find most popular course title\n",
    "\n",
    "19.Display 10 most popular courses as per number of subscribers\n",
    "\n",
    "20.Find the course which is having the highest number of reviews."
   ]
  },
  {
   "cell_type": "code",
   "execution_count": 65,
   "id": "bc5db1ba",
   "metadata": {},
   "outputs": [
    {
     "data": {
      "text/html": [
       "<div>\n",
       "<style scoped>\n",
       "    .dataframe tbody tr th:only-of-type {\n",
       "        vertical-align: middle;\n",
       "    }\n",
       "\n",
       "    .dataframe tbody tr th {\n",
       "        vertical-align: top;\n",
       "    }\n",
       "\n",
       "    .dataframe thead th {\n",
       "        text-align: right;\n",
       "    }\n",
       "</style>\n",
       "<table border=\"1\" class=\"dataframe\">\n",
       "  <thead>\n",
       "    <tr style=\"text-align: right;\">\n",
       "      <th></th>\n",
       "      <th>course_id</th>\n",
       "      <th>course_title</th>\n",
       "      <th>is_paid</th>\n",
       "      <th>price</th>\n",
       "      <th>num_subscribers</th>\n",
       "      <th>num_reviews</th>\n",
       "      <th>num_lectures</th>\n",
       "      <th>level</th>\n",
       "      <th>content_duration</th>\n",
       "      <th>published_timestamp</th>\n",
       "      <th>subject</th>\n",
       "    </tr>\n",
       "  </thead>\n",
       "  <tbody>\n",
       "    <tr>\n",
       "      <th>2230</th>\n",
       "      <td>41295</td>\n",
       "      <td>Learn HTML5 Programming From Scratch</td>\n",
       "      <td>False</td>\n",
       "      <td>Free</td>\n",
       "      <td>268923</td>\n",
       "      <td>8629</td>\n",
       "      <td>45</td>\n",
       "      <td>All Levels</td>\n",
       "      <td>10.5 hours</td>\n",
       "      <td>2013-02-14 07:03:41+00:00</td>\n",
       "      <td>Web Development</td>\n",
       "    </tr>\n",
       "  </tbody>\n",
       "</table>\n",
       "</div>"
      ],
      "text/plain": [
       "      course_id                          course_title  is_paid price  \\\n",
       "2230      41295  Learn HTML5 Programming From Scratch    False  Free   \n",
       "\n",
       "      num_subscribers  num_reviews  num_lectures       level content_duration  \\\n",
       "2230           268923         8629            45  All Levels       10.5 hours   \n",
       "\n",
       "           published_timestamp          subject  \n",
       "2230 2013-02-14 07:03:41+00:00  Web Development  "
      ]
     },
     "execution_count": 65,
     "metadata": {},
     "output_type": "execute_result"
    }
   ],
   "source": [
    "data.sort_values(by='num_subscribers', ascending=False)[0:1]"
   ]
  },
  {
   "cell_type": "code",
   "execution_count": 66,
   "id": "8a55b36c",
   "metadata": {},
   "outputs": [
    {
     "data": {
      "text/html": [
       "<div>\n",
       "<style scoped>\n",
       "    .dataframe tbody tr th:only-of-type {\n",
       "        vertical-align: middle;\n",
       "    }\n",
       "\n",
       "    .dataframe tbody tr th {\n",
       "        vertical-align: top;\n",
       "    }\n",
       "\n",
       "    .dataframe thead th {\n",
       "        text-align: right;\n",
       "    }\n",
       "</style>\n",
       "<table border=\"1\" class=\"dataframe\">\n",
       "  <thead>\n",
       "    <tr style=\"text-align: right;\">\n",
       "      <th></th>\n",
       "      <th>course_id</th>\n",
       "      <th>course_title</th>\n",
       "      <th>is_paid</th>\n",
       "      <th>price</th>\n",
       "      <th>num_subscribers</th>\n",
       "      <th>num_reviews</th>\n",
       "      <th>num_lectures</th>\n",
       "      <th>level</th>\n",
       "      <th>content_duration</th>\n",
       "      <th>published_timestamp</th>\n",
       "      <th>subject</th>\n",
       "    </tr>\n",
       "  </thead>\n",
       "  <tbody>\n",
       "    <tr>\n",
       "      <th>2230</th>\n",
       "      <td>41295</td>\n",
       "      <td>Learn HTML5 Programming From Scratch</td>\n",
       "      <td>False</td>\n",
       "      <td>Free</td>\n",
       "      <td>268923</td>\n",
       "      <td>8629</td>\n",
       "      <td>45</td>\n",
       "      <td>All Levels</td>\n",
       "      <td>10.5 hours</td>\n",
       "      <td>2013-02-14 07:03:41+00:00</td>\n",
       "      <td>Web Development</td>\n",
       "    </tr>\n",
       "    <tr>\n",
       "      <th>776</th>\n",
       "      <td>59014</td>\n",
       "      <td>Coding for Entrepreneurs Basic</td>\n",
       "      <td>False</td>\n",
       "      <td>Free</td>\n",
       "      <td>161029</td>\n",
       "      <td>279</td>\n",
       "      <td>27</td>\n",
       "      <td>Beginner Level</td>\n",
       "      <td>3.5 hours</td>\n",
       "      <td>2013-06-09 15:51:55+00:00</td>\n",
       "      <td>Web Development</td>\n",
       "    </tr>\n",
       "    <tr>\n",
       "      <th>3385</th>\n",
       "      <td>625204</td>\n",
       "      <td>The Web Developer Bootcamp</td>\n",
       "      <td>True</td>\n",
       "      <td>200</td>\n",
       "      <td>121584</td>\n",
       "      <td>27445</td>\n",
       "      <td>342</td>\n",
       "      <td>All Levels</td>\n",
       "      <td>43 hours</td>\n",
       "      <td>2015-11-02 21:13:27+00:00</td>\n",
       "      <td>Web Development</td>\n",
       "    </tr>\n",
       "    <tr>\n",
       "      <th>640</th>\n",
       "      <td>173548</td>\n",
       "      <td>Build Your First Website in 1 Week with HTML5 ...</td>\n",
       "      <td>False</td>\n",
       "      <td>Free</td>\n",
       "      <td>120291</td>\n",
       "      <td>5924</td>\n",
       "      <td>30</td>\n",
       "      <td>Beginner Level</td>\n",
       "      <td>3 hours</td>\n",
       "      <td>2014-04-08 16:21:30+00:00</td>\n",
       "      <td>Web Development</td>\n",
       "    </tr>\n",
       "    <tr>\n",
       "      <th>3316</th>\n",
       "      <td>764164</td>\n",
       "      <td>The Complete Web Developer Course 2.0</td>\n",
       "      <td>True</td>\n",
       "      <td>200</td>\n",
       "      <td>114512</td>\n",
       "      <td>22412</td>\n",
       "      <td>304</td>\n",
       "      <td>All Levels</td>\n",
       "      <td>30.5 hours</td>\n",
       "      <td>2016-03-08 22:28:36+00:00</td>\n",
       "      <td>Web Development</td>\n",
       "    </tr>\n",
       "    <tr>\n",
       "      <th>1388</th>\n",
       "      <td>19421</td>\n",
       "      <td>Free Beginner Electric Guitar Lessons</td>\n",
       "      <td>False</td>\n",
       "      <td>Free</td>\n",
       "      <td>101154</td>\n",
       "      <td>1042</td>\n",
       "      <td>95</td>\n",
       "      <td>Beginner Level</td>\n",
       "      <td>4.5 hours</td>\n",
       "      <td>2012-06-15 17:00:33+00:00</td>\n",
       "      <td>Musical Instruments</td>\n",
       "    </tr>\n",
       "    <tr>\n",
       "      <th>3556</th>\n",
       "      <td>473160</td>\n",
       "      <td>Web Design for Web Developers: Build Beautiful...</td>\n",
       "      <td>False</td>\n",
       "      <td>Free</td>\n",
       "      <td>98867</td>\n",
       "      <td>6512</td>\n",
       "      <td>20</td>\n",
       "      <td>All Levels</td>\n",
       "      <td>3 hours</td>\n",
       "      <td>2015-04-13 18:29:47+00:00</td>\n",
       "      <td>Web Development</td>\n",
       "    </tr>\n",
       "    <tr>\n",
       "      <th>2233</th>\n",
       "      <td>94430</td>\n",
       "      <td>Learn Javascript &amp; JQuery From Scratch</td>\n",
       "      <td>True</td>\n",
       "      <td>30</td>\n",
       "      <td>84897</td>\n",
       "      <td>2685</td>\n",
       "      <td>10</td>\n",
       "      <td>All Levels</td>\n",
       "      <td>2 hours</td>\n",
       "      <td>2013-10-10 15:19:29+00:00</td>\n",
       "      <td>Web Development</td>\n",
       "    </tr>\n",
       "    <tr>\n",
       "      <th>2886</th>\n",
       "      <td>130064</td>\n",
       "      <td>Practical PHP: Master the Basics and Code Dyna...</td>\n",
       "      <td>False</td>\n",
       "      <td>Free</td>\n",
       "      <td>83737</td>\n",
       "      <td>4598</td>\n",
       "      <td>45</td>\n",
       "      <td>All Levels</td>\n",
       "      <td>6.5 hours</td>\n",
       "      <td>2014-07-19 03:02:05+00:00</td>\n",
       "      <td>Web Development</td>\n",
       "    </tr>\n",
       "    <tr>\n",
       "      <th>2034</th>\n",
       "      <td>364426</td>\n",
       "      <td>JavaScript: Understanding the Weird Parts</td>\n",
       "      <td>True</td>\n",
       "      <td>175</td>\n",
       "      <td>79612</td>\n",
       "      <td>16976</td>\n",
       "      <td>85</td>\n",
       "      <td>All Levels</td>\n",
       "      <td>11.5 hours</td>\n",
       "      <td>2015-03-12 23:19:54+00:00</td>\n",
       "      <td>Web Development</td>\n",
       "    </tr>\n",
       "  </tbody>\n",
       "</table>\n",
       "</div>"
      ],
      "text/plain": [
       "      course_id                                       course_title  is_paid  \\\n",
       "2230      41295               Learn HTML5 Programming From Scratch    False   \n",
       "776       59014                     Coding for Entrepreneurs Basic    False   \n",
       "3385     625204                         The Web Developer Bootcamp     True   \n",
       "640      173548  Build Your First Website in 1 Week with HTML5 ...    False   \n",
       "3316     764164              The Complete Web Developer Course 2.0     True   \n",
       "1388      19421              Free Beginner Electric Guitar Lessons    False   \n",
       "3556     473160  Web Design for Web Developers: Build Beautiful...    False   \n",
       "2233      94430             Learn Javascript & JQuery From Scratch     True   \n",
       "2886     130064  Practical PHP: Master the Basics and Code Dyna...    False   \n",
       "2034     364426          JavaScript: Understanding the Weird Parts     True   \n",
       "\n",
       "     price  num_subscribers  num_reviews  num_lectures           level  \\\n",
       "2230  Free           268923         8629            45      All Levels   \n",
       "776   Free           161029          279            27  Beginner Level   \n",
       "3385   200           121584        27445           342      All Levels   \n",
       "640   Free           120291         5924            30  Beginner Level   \n",
       "3316   200           114512        22412           304      All Levels   \n",
       "1388  Free           101154         1042            95  Beginner Level   \n",
       "3556  Free            98867         6512            20      All Levels   \n",
       "2233    30            84897         2685            10      All Levels   \n",
       "2886  Free            83737         4598            45      All Levels   \n",
       "2034   175            79612        16976            85      All Levels   \n",
       "\n",
       "     content_duration       published_timestamp              subject  \n",
       "2230       10.5 hours 2013-02-14 07:03:41+00:00      Web Development  \n",
       "776         3.5 hours 2013-06-09 15:51:55+00:00      Web Development  \n",
       "3385         43 hours 2015-11-02 21:13:27+00:00      Web Development  \n",
       "640           3 hours 2014-04-08 16:21:30+00:00      Web Development  \n",
       "3316       30.5 hours 2016-03-08 22:28:36+00:00      Web Development  \n",
       "1388        4.5 hours 2012-06-15 17:00:33+00:00  Musical Instruments  \n",
       "3556          3 hours 2015-04-13 18:29:47+00:00      Web Development  \n",
       "2233          2 hours 2013-10-10 15:19:29+00:00      Web Development  \n",
       "2886        6.5 hours 2014-07-19 03:02:05+00:00      Web Development  \n",
       "2034       11.5 hours 2015-03-12 23:19:54+00:00      Web Development  "
      ]
     },
     "execution_count": 66,
     "metadata": {},
     "output_type": "execute_result"
    }
   ],
   "source": [
    "data.sort_values(by='num_subscribers', ascending=False)[0:10]"
   ]
  },
  {
   "cell_type": "code",
   "execution_count": 67,
   "id": "0fe06444",
   "metadata": {},
   "outputs": [
    {
     "data": {
      "text/html": [
       "<div>\n",
       "<style scoped>\n",
       "    .dataframe tbody tr th:only-of-type {\n",
       "        vertical-align: middle;\n",
       "    }\n",
       "\n",
       "    .dataframe tbody tr th {\n",
       "        vertical-align: top;\n",
       "    }\n",
       "\n",
       "    .dataframe thead th {\n",
       "        text-align: right;\n",
       "    }\n",
       "</style>\n",
       "<table border=\"1\" class=\"dataframe\">\n",
       "  <thead>\n",
       "    <tr style=\"text-align: right;\">\n",
       "      <th></th>\n",
       "      <th>course_id</th>\n",
       "      <th>course_title</th>\n",
       "      <th>is_paid</th>\n",
       "      <th>price</th>\n",
       "      <th>num_subscribers</th>\n",
       "      <th>num_reviews</th>\n",
       "      <th>num_lectures</th>\n",
       "      <th>level</th>\n",
       "      <th>content_duration</th>\n",
       "      <th>published_timestamp</th>\n",
       "      <th>subject</th>\n",
       "    </tr>\n",
       "  </thead>\n",
       "  <tbody>\n",
       "    <tr>\n",
       "      <th>3385</th>\n",
       "      <td>625204</td>\n",
       "      <td>The Web Developer Bootcamp</td>\n",
       "      <td>True</td>\n",
       "      <td>200</td>\n",
       "      <td>121584</td>\n",
       "      <td>27445</td>\n",
       "      <td>342</td>\n",
       "      <td>All Levels</td>\n",
       "      <td>43 hours</td>\n",
       "      <td>2015-11-02 21:13:27+00:00</td>\n",
       "      <td>Web Development</td>\n",
       "    </tr>\n",
       "  </tbody>\n",
       "</table>\n",
       "</div>"
      ],
      "text/plain": [
       "      course_id                course_title  is_paid price  num_subscribers  \\\n",
       "3385     625204  The Web Developer Bootcamp     True   200           121584   \n",
       "\n",
       "      num_reviews  num_lectures       level content_duration  \\\n",
       "3385        27445           342  All Levels         43 hours   \n",
       "\n",
       "           published_timestamp          subject  \n",
       "3385 2015-11-02 21:13:27+00:00  Web Development  "
      ]
     },
     "execution_count": 67,
     "metadata": {},
     "output_type": "execute_result"
    }
   ],
   "source": [
    "data.sort_values(by='num_reviews', ascending=False)[0:1]"
   ]
  },
  {
   "cell_type": "code",
   "execution_count": 68,
   "id": "0e0386b5",
   "metadata": {},
   "outputs": [
    {
     "data": {
      "text/html": [
       "<div>\n",
       "<style scoped>\n",
       "    .dataframe tbody tr th:only-of-type {\n",
       "        vertical-align: middle;\n",
       "    }\n",
       "\n",
       "    .dataframe tbody tr th {\n",
       "        vertical-align: top;\n",
       "    }\n",
       "\n",
       "    .dataframe thead th {\n",
       "        text-align: right;\n",
       "    }\n",
       "</style>\n",
       "<table border=\"1\" class=\"dataframe\">\n",
       "  <thead>\n",
       "    <tr style=\"text-align: right;\">\n",
       "      <th></th>\n",
       "      <th>course_id</th>\n",
       "      <th>course_title</th>\n",
       "      <th>is_paid</th>\n",
       "      <th>price</th>\n",
       "      <th>num_subscribers</th>\n",
       "      <th>num_reviews</th>\n",
       "      <th>num_lectures</th>\n",
       "      <th>level</th>\n",
       "      <th>content_duration</th>\n",
       "      <th>published_timestamp</th>\n",
       "      <th>subject</th>\n",
       "    </tr>\n",
       "  </thead>\n",
       "  <tbody>\n",
       "    <tr>\n",
       "      <th>3385</th>\n",
       "      <td>625204</td>\n",
       "      <td>The Web Developer Bootcamp</td>\n",
       "      <td>True</td>\n",
       "      <td>200</td>\n",
       "      <td>121584</td>\n",
       "      <td>27445</td>\n",
       "      <td>342</td>\n",
       "      <td>All Levels</td>\n",
       "      <td>43 hours</td>\n",
       "      <td>2015-11-02 21:13:27+00:00</td>\n",
       "      <td>Web Development</td>\n",
       "    </tr>\n",
       "    <tr>\n",
       "      <th>3316</th>\n",
       "      <td>764164</td>\n",
       "      <td>The Complete Web Developer Course 2.0</td>\n",
       "      <td>True</td>\n",
       "      <td>200</td>\n",
       "      <td>114512</td>\n",
       "      <td>22412</td>\n",
       "      <td>304</td>\n",
       "      <td>All Levels</td>\n",
       "      <td>30.5 hours</td>\n",
       "      <td>2016-03-08 22:28:36+00:00</td>\n",
       "      <td>Web Development</td>\n",
       "    </tr>\n",
       "    <tr>\n",
       "      <th>285</th>\n",
       "      <td>756150</td>\n",
       "      <td>Angular 4 (formerly Angular 2) - The Complete ...</td>\n",
       "      <td>True</td>\n",
       "      <td>190</td>\n",
       "      <td>73783</td>\n",
       "      <td>19649</td>\n",
       "      <td>329</td>\n",
       "      <td>All Levels</td>\n",
       "      <td>22 hours</td>\n",
       "      <td>2016-02-11 07:29:29+00:00</td>\n",
       "      <td>Web Development</td>\n",
       "    </tr>\n",
       "    <tr>\n",
       "      <th>2034</th>\n",
       "      <td>364426</td>\n",
       "      <td>JavaScript: Understanding the Weird Parts</td>\n",
       "      <td>True</td>\n",
       "      <td>175</td>\n",
       "      <td>79612</td>\n",
       "      <td>16976</td>\n",
       "      <td>85</td>\n",
       "      <td>All Levels</td>\n",
       "      <td>11.5 hours</td>\n",
       "      <td>2015-03-12 23:19:54+00:00</td>\n",
       "      <td>Web Development</td>\n",
       "    </tr>\n",
       "    <tr>\n",
       "      <th>2610</th>\n",
       "      <td>705264</td>\n",
       "      <td>Modern React with Redux</td>\n",
       "      <td>True</td>\n",
       "      <td>180</td>\n",
       "      <td>50815</td>\n",
       "      <td>15117</td>\n",
       "      <td>150</td>\n",
       "      <td>All Levels</td>\n",
       "      <td>26.5 hours</td>\n",
       "      <td>2015-12-28 19:20:21+00:00</td>\n",
       "      <td>Web Development</td>\n",
       "    </tr>\n",
       "    <tr>\n",
       "      <th>2118</th>\n",
       "      <td>289230</td>\n",
       "      <td>Learn and Understand AngularJS</td>\n",
       "      <td>True</td>\n",
       "      <td>175</td>\n",
       "      <td>59361</td>\n",
       "      <td>11580</td>\n",
       "      <td>55</td>\n",
       "      <td>All Levels</td>\n",
       "      <td>7 hours</td>\n",
       "      <td>2014-09-24 00:57:25+00:00</td>\n",
       "      <td>Web Development</td>\n",
       "    </tr>\n",
       "    <tr>\n",
       "      <th>2119</th>\n",
       "      <td>461160</td>\n",
       "      <td>Learn and Understand NodeJS</td>\n",
       "      <td>True</td>\n",
       "      <td>195</td>\n",
       "      <td>58208</td>\n",
       "      <td>11123</td>\n",
       "      <td>98</td>\n",
       "      <td>All Levels</td>\n",
       "      <td>13 hours</td>\n",
       "      <td>2015-08-31 21:07:48+00:00</td>\n",
       "      <td>Web Development</td>\n",
       "    </tr>\n",
       "    <tr>\n",
       "      <th>2230</th>\n",
       "      <td>41295</td>\n",
       "      <td>Learn HTML5 Programming From Scratch</td>\n",
       "      <td>False</td>\n",
       "      <td>Free</td>\n",
       "      <td>268923</td>\n",
       "      <td>8629</td>\n",
       "      <td>45</td>\n",
       "      <td>All Levels</td>\n",
       "      <td>10.5 hours</td>\n",
       "      <td>2013-02-14 07:03:41+00:00</td>\n",
       "      <td>Web Development</td>\n",
       "    </tr>\n",
       "    <tr>\n",
       "      <th>281</th>\n",
       "      <td>719002</td>\n",
       "      <td>Angular 2 with TypeScript for Beginners: The P...</td>\n",
       "      <td>True</td>\n",
       "      <td>150</td>\n",
       "      <td>40070</td>\n",
       "      <td>8341</td>\n",
       "      <td>194</td>\n",
       "      <td>All Levels</td>\n",
       "      <td>9.5 hours</td>\n",
       "      <td>2016-03-03 20:17:59+00:00</td>\n",
       "      <td>Web Development</td>\n",
       "    </tr>\n",
       "    <tr>\n",
       "      <th>2829</th>\n",
       "      <td>238934</td>\n",
       "      <td>Pianoforall - Incredible New Way To Learn Pian...</td>\n",
       "      <td>True</td>\n",
       "      <td>200</td>\n",
       "      <td>75499</td>\n",
       "      <td>7676</td>\n",
       "      <td>362</td>\n",
       "      <td>All Levels</td>\n",
       "      <td>30 hours</td>\n",
       "      <td>2014-08-07 06:27:51+00:00</td>\n",
       "      <td>Musical Instruments</td>\n",
       "    </tr>\n",
       "  </tbody>\n",
       "</table>\n",
       "</div>"
      ],
      "text/plain": [
       "      course_id                                       course_title  is_paid  \\\n",
       "3385     625204                         The Web Developer Bootcamp     True   \n",
       "3316     764164              The Complete Web Developer Course 2.0     True   \n",
       "285      756150  Angular 4 (formerly Angular 2) - The Complete ...     True   \n",
       "2034     364426          JavaScript: Understanding the Weird Parts     True   \n",
       "2610     705264                            Modern React with Redux     True   \n",
       "2118     289230                     Learn and Understand AngularJS     True   \n",
       "2119     461160                        Learn and Understand NodeJS     True   \n",
       "2230      41295               Learn HTML5 Programming From Scratch    False   \n",
       "281      719002  Angular 2 with TypeScript for Beginners: The P...     True   \n",
       "2829     238934  Pianoforall - Incredible New Way To Learn Pian...     True   \n",
       "\n",
       "     price  num_subscribers  num_reviews  num_lectures       level  \\\n",
       "3385   200           121584        27445           342  All Levels   \n",
       "3316   200           114512        22412           304  All Levels   \n",
       "285    190            73783        19649           329  All Levels   \n",
       "2034   175            79612        16976            85  All Levels   \n",
       "2610   180            50815        15117           150  All Levels   \n",
       "2118   175            59361        11580            55  All Levels   \n",
       "2119   195            58208        11123            98  All Levels   \n",
       "2230  Free           268923         8629            45  All Levels   \n",
       "281    150            40070         8341           194  All Levels   \n",
       "2829   200            75499         7676           362  All Levels   \n",
       "\n",
       "     content_duration       published_timestamp              subject  \n",
       "3385         43 hours 2015-11-02 21:13:27+00:00      Web Development  \n",
       "3316       30.5 hours 2016-03-08 22:28:36+00:00      Web Development  \n",
       "285          22 hours 2016-02-11 07:29:29+00:00      Web Development  \n",
       "2034       11.5 hours 2015-03-12 23:19:54+00:00      Web Development  \n",
       "2610       26.5 hours 2015-12-28 19:20:21+00:00      Web Development  \n",
       "2118          7 hours 2014-09-24 00:57:25+00:00      Web Development  \n",
       "2119         13 hours 2015-08-31 21:07:48+00:00      Web Development  \n",
       "2230       10.5 hours 2013-02-14 07:03:41+00:00      Web Development  \n",
       "281         9.5 hours 2016-03-03 20:17:59+00:00      Web Development  \n",
       "2829         30 hours 2014-08-07 06:27:51+00:00  Musical Instruments  "
      ]
     },
     "execution_count": 68,
     "metadata": {},
     "output_type": "execute_result"
    }
   ],
   "source": [
    "data.sort_values(by='num_reviews', ascending=False)[0:10]"
   ]
  },
  {
   "cell_type": "markdown",
   "id": "98c3f674",
   "metadata": {},
   "source": [
    "21. Does price affect the number of reviews?\n",
    "\n",
    "    a. Use scatterplot for visualizing it\n",
    "    \n",
    "    b. No overlapping should be there\n",
    "    \n"
   ]
  },
  {
   "cell_type": "code",
   "execution_count": 69,
   "id": "f87aae3a",
   "metadata": {},
   "outputs": [
    {
     "data": {
      "text/html": [
       "<div>\n",
       "<style scoped>\n",
       "    .dataframe tbody tr th:only-of-type {\n",
       "        vertical-align: middle;\n",
       "    }\n",
       "\n",
       "    .dataframe tbody tr th {\n",
       "        vertical-align: top;\n",
       "    }\n",
       "\n",
       "    .dataframe thead th {\n",
       "        text-align: right;\n",
       "    }\n",
       "</style>\n",
       "<table border=\"1\" class=\"dataframe\">\n",
       "  <thead>\n",
       "    <tr style=\"text-align: right;\">\n",
       "      <th></th>\n",
       "      <th>course_id</th>\n",
       "      <th>course_title</th>\n",
       "      <th>is_paid</th>\n",
       "      <th>price</th>\n",
       "      <th>num_subscribers</th>\n",
       "      <th>num_reviews</th>\n",
       "      <th>num_lectures</th>\n",
       "      <th>level</th>\n",
       "      <th>content_duration</th>\n",
       "      <th>published_timestamp</th>\n",
       "      <th>subject</th>\n",
       "    </tr>\n",
       "  </thead>\n",
       "  <tbody>\n",
       "    <tr>\n",
       "      <th>0</th>\n",
       "      <td>288942</td>\n",
       "      <td>#1 Piano Hand Coordination: Play 10th Ballad i...</td>\n",
       "      <td>True</td>\n",
       "      <td>35</td>\n",
       "      <td>3137</td>\n",
       "      <td>18</td>\n",
       "      <td>68</td>\n",
       "      <td>All Levels</td>\n",
       "      <td>1.5 hours</td>\n",
       "      <td>2014-09-18 05:07:05+00:00</td>\n",
       "      <td>Musical Instruments</td>\n",
       "    </tr>\n",
       "  </tbody>\n",
       "</table>\n",
       "</div>"
      ],
      "text/plain": [
       "   course_id                                       course_title  is_paid  \\\n",
       "0     288942  #1 Piano Hand Coordination: Play 10th Ballad i...     True   \n",
       "\n",
       "  price  num_subscribers  num_reviews  num_lectures       level  \\\n",
       "0    35             3137           18            68  All Levels   \n",
       "\n",
       "  content_duration       published_timestamp              subject  \n",
       "0        1.5 hours 2014-09-18 05:07:05+00:00  Musical Instruments  "
      ]
     },
     "execution_count": 69,
     "metadata": {},
     "output_type": "execute_result"
    }
   ],
   "source": [
    "data.head(1)"
   ]
  },
  {
   "cell_type": "code",
   "execution_count": 73,
   "id": "6be64bcc",
   "metadata": {},
   "outputs": [
    {
     "data": {
      "text/plain": [
       "<AxesSubplot:xlabel='price', ylabel='num_reviews'>"
      ]
     },
     "execution_count": 73,
     "metadata": {},
     "output_type": "execute_result"
    },
    {
     "data": {
      "image/png": "[encoded data removed]",
      "text/plain": [
       "<Figure size 1080x504 with 1 Axes>"
      ]
     },
     "metadata": {
      "needs_background": "light"
     },
     "output_type": "display_data"
    }
   ],
   "source": [
    "plt.figure(figsize=(15,7))\n",
    "sns.scatterplot(data=data, x='price', y='num_reviews')"
   ]
  },
  {
   "cell_type": "markdown",
   "id": "23d3e600",
   "metadata": {},
   "source": [
    "22. Find total number of courses related to python\n",
    "\n",
    "    a. Elaborate your observation\n",
    "    \n",
    "23. Display 10 most popular python courses as per number of subscribers\n",
    "\n",
    "    a. Would be great practice is you use barplot to visualize it\n",
    "    \n",
    "24. In which year the highest number of courses were posted?\n",
    "\n",
    "    a. Cause you have to show year, try to use countplot to visualize it\n",
    "    "
   ]
  },
  {
   "cell_type": "code",
   "execution_count": 133,
   "id": "e9036777",
   "metadata": {},
   "outputs": [
    {
     "name": "stdout",
     "output_type": "stream",
     "text": [
      "29\n"
     ]
    }
   ],
   "source": [
    "python_count = 0\n",
    "py_list = []\n",
    "for d in data['course_title']:\n",
    "    if 'python' in d.lower():\n",
    "        #print(d)\n",
    "        py_list.append(d)\n",
    "        python_count += 1\n",
    "print(python_count)"
   ]
  },
  {
   "cell_type": "code",
   "execution_count": 140,
   "id": "d8315508",
   "metadata": {},
   "outputs": [],
   "source": [
    "#py_list"
   ]
  },
  {
   "cell_type": "code",
   "execution_count": 137,
   "id": "0c6ca4a0",
   "metadata": {},
   "outputs": [],
   "source": [
    "df_py = data[data['course_title'].isin(py_list)]"
   ]
  },
  {
   "cell_type": "code",
   "execution_count": 147,
   "id": "f0b0515b",
   "metadata": {},
   "outputs": [
    {
     "data": {
      "text/html": [
       "<div>\n",
       "<style scoped>\n",
       "    .dataframe tbody tr th:only-of-type {\n",
       "        vertical-align: middle;\n",
       "    }\n",
       "\n",
       "    .dataframe tbody tr th {\n",
       "        vertical-align: top;\n",
       "    }\n",
       "\n",
       "    .dataframe thead th {\n",
       "        text-align: right;\n",
       "    }\n",
       "</style>\n",
       "<table border=\"1\" class=\"dataframe\">\n",
       "  <thead>\n",
       "    <tr style=\"text-align: right;\">\n",
       "      <th></th>\n",
       "      <th>course_title</th>\n",
       "      <th>num_subscribers</th>\n",
       "    </tr>\n",
       "  </thead>\n",
       "  <tbody>\n",
       "    <tr>\n",
       "      <th>3573</th>\n",
       "      <td>Web Programming with Python</td>\n",
       "      <td>35267</td>\n",
       "    </tr>\n",
       "    <tr>\n",
       "      <th>777</th>\n",
       "      <td>Coding for Entrepreneurs: Learn Python, Django...</td>\n",
       "      <td>23412</td>\n",
       "    </tr>\n",
       "    <tr>\n",
       "      <th>2294</th>\n",
       "      <td>Learn Python and Django: Payment Processing</td>\n",
       "      <td>17714</td>\n",
       "    </tr>\n",
       "    <tr>\n",
       "      <th>2955</th>\n",
       "      <td>Python and Django Full Stack Web Developer Boo...</td>\n",
       "      <td>11832</td>\n",
       "    </tr>\n",
       "    <tr>\n",
       "      <th>1400</th>\n",
       "      <td>Fun and creative web engineering with Python a...</td>\n",
       "      <td>10917</td>\n",
       "    </tr>\n",
       "    <tr>\n",
       "      <th>3272</th>\n",
       "      <td>The Complete Ethical Hacking Course 2.0: Pytho...</td>\n",
       "      <td>7827</td>\n",
       "    </tr>\n",
       "    <tr>\n",
       "      <th>814</th>\n",
       "      <td>Complete Python Web Course: Build 8 Python Web...</td>\n",
       "      <td>7489</td>\n",
       "    </tr>\n",
       "    <tr>\n",
       "      <th>3460</th>\n",
       "      <td>Try Django 1.9 | Build a Blog and Learn Python...</td>\n",
       "      <td>7407</td>\n",
       "    </tr>\n",
       "    <tr>\n",
       "      <th>2956</th>\n",
       "      <td>Python for Beginners: Python Programming Langu...</td>\n",
       "      <td>6153</td>\n",
       "    </tr>\n",
       "    <tr>\n",
       "      <th>3013</th>\n",
       "      <td>REST APIs with Flask and Python</td>\n",
       "      <td>5151</td>\n",
       "    </tr>\n",
       "  </tbody>\n",
       "</table>\n",
       "</div>"
      ],
      "text/plain": [
       "                                           course_title  num_subscribers\n",
       "3573                        Web Programming with Python            35267\n",
       "777   Coding for Entrepreneurs: Learn Python, Django...            23412\n",
       "2294        Learn Python and Django: Payment Processing            17714\n",
       "2955  Python and Django Full Stack Web Developer Boo...            11832\n",
       "1400  Fun and creative web engineering with Python a...            10917\n",
       "3272  The Complete Ethical Hacking Course 2.0: Pytho...             7827\n",
       "814   Complete Python Web Course: Build 8 Python Web...             7489\n",
       "3460  Try Django 1.9 | Build a Blog and Learn Python...             7407\n",
       "2956  Python for Beginners: Python Programming Langu...             6153\n",
       "3013                    REST APIs with Flask and Python             5151"
      ]
     },
     "execution_count": 147,
     "metadata": {},
     "output_type": "execute_result"
    }
   ],
   "source": [
    "df_py.sort_values(by='num_subscribers',ascending=False)[0:10][['course_title','num_subscribers']]"
   ]
  },
  {
   "cell_type": "code",
   "execution_count": 115,
   "id": "b8b18ff4",
   "metadata": {},
   "outputs": [
    {
     "name": "stderr",
     "output_type": "stream",
     "text": [
      "/var/folders/dk/37sbt0k53451bd1_l_nzws1h0000gn/T/ipykernel_86150/1287977796.py:1: SettingWithCopyWarning: \n",
      "A value is trying to be set on a copy of a slice from a DataFrame.\n",
      "Try using .loc[row_indexer,col_indexer] = value instead\n",
      "\n",
      "See the caveats in the documentation: https://pandas.pydata.org/pandas-docs/stable/user_guide/indexing.html#returning-a-view-versus-a-copy\n",
      "  data['year'] = data['published_timestamp'].dt.year\n"
     ]
    }
   ],
   "source": [
    "data['year'] = data['published_timestamp'].dt.year"
   ]
  },
  {
   "cell_type": "markdown",
   "id": "a41f4625",
   "metadata": {},
   "source": [
    "24. In which year the highest number of courses were posted?\n",
    "\n",
    "    a. Cause you have to show year, try to use countplot to visualize it\n",
    "    \n"
   ]
  },
  {
   "cell_type": "code",
   "execution_count": 121,
   "id": "aae85466",
   "metadata": {},
   "outputs": [
    {
     "data": {
      "text/plain": [
       "year\n",
       "2016    1204\n",
       "2015    1014\n",
       "2017     717\n",
       "2014     490\n",
       "2013     201\n",
       "2012      45\n",
       "2011       5\n",
       "Name: course_id, dtype: int64"
      ]
     },
     "execution_count": 121,
     "metadata": {},
     "output_type": "execute_result"
    }
   ],
   "source": [
    "df_year = data.groupby('year')\n",
    "df_year['course_id'].count().sort_values(ascending=False)"
   ]
  },
  {
   "cell_type": "code",
   "execution_count": 123,
   "id": "95733a5b",
   "metadata": {},
   "outputs": [
    {
     "data": {
      "text/plain": [
       "<AxesSubplot:xlabel='year', ylabel='count'>"
      ]
     },
     "execution_count": 123,
     "metadata": {},
     "output_type": "execute_result"
    },
    {
     "data": {
      "image/png": "[encoded data removed]",
      "text/plain": [
       "<Figure size 432x288 with 1 Axes>"
      ]
     },
     "metadata": {
      "needs_background": "light"
     },
     "output_type": "display_data"
    }
   ],
   "source": [
    "sns.countplot(data=data,x='year')"
   ]
  },
  {
   "cell_type": "markdown",
   "id": "aa39fbd9",
   "metadata": {},
   "source": [
    "2016 had the most courses "
   ]
  },
  {
   "cell_type": "markdown",
   "id": "6ddf7518",
   "metadata": {},
   "source": [
    "25. Display category-wise count of posted subjects [year wise]"
   ]
  },
  {
   "cell_type": "code",
   "execution_count": 152,
   "id": "c1dfb01b",
   "metadata": {},
   "outputs": [
    {
     "data": {
      "text/plain": [
       "<AxesSubplot:xlabel='year,subject'>"
      ]
     },
     "execution_count": 152,
     "metadata": {},
     "output_type": "execute_result"
    },
    {
     "data": {
      "image/png": "[encoded data removed]",
      "text/plain": [
       "<Figure size 1080x504 with 1 Axes>"
      ]
     },
     "metadata": {
      "needs_background": "light"
     },
     "output_type": "display_data"
    }
   ],
   "source": [
    "data.groupby(['year','subject'])['course_id'].count().plot.bar(figsize=(15,7),cmap='viridis_r')"
   ]
  },
  {
   "cell_type": "code",
   "execution_count": null,
   "id": "cd107432",
   "metadata": {},
   "outputs": [],
   "source": []
  }
 ],
 "metadata": {
  "kernelspec": {
   "display_name": "Python 3 (ipykernel)",
   "language": "python",
   "name": "python3"
  },
  "language_info": {
   "codemirror_mode": {
    "name": "ipython",
    "version": 3
   },
   "file_extension": ".py",
   "mimetype": "text/x-python",
   "name": "python",
   "nbconvert_exporter": "python",
   "pygments_lexer": "ipython3",
   "version": "3.9.12"
  }
 },
 "nbformat": 4,
 "nbformat_minor": 5
}
